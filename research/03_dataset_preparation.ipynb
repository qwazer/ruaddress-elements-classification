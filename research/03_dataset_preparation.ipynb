{
 "cells": [
  {
   "metadata": {},
   "cell_type": "markdown",
   "source": "# Пакеты",
   "id": "4fda22c3b6b2d680"
  },
  {
   "metadata": {
    "ExecuteTime": {
     "end_time": "2024-05-15T14:13:13.308322Z",
     "start_time": "2024-05-15T14:13:11.567483Z"
    }
   },
   "cell_type": "code",
   "source": [
    "from typing import List, Any\n",
    "!pip install augmentex"
   ],
   "id": "bc3ae8cc9b7c2f52",
   "outputs": [
    {
     "name": "stdout",
     "output_type": "stream",
     "text": [
      "Requirement already satisfied: augmentex in /home/ra/projects/qwazer/ruaddress-elements-classification/venv/lib/python3.11/site-packages (1.2.1)\r\n",
      "Requirement already satisfied: numpy>=1.21 in /home/ra/projects/qwazer/ruaddress-elements-classification/venv/lib/python3.11/site-packages (from augmentex) (1.26.4)\r\n",
      "Requirement already satisfied: python-Levenshtein>=0.22.0 in /home/ra/projects/qwazer/ruaddress-elements-classification/venv/lib/python3.11/site-packages (from augmentex) (0.25.1)\r\n",
      "Requirement already satisfied: Levenshtein==0.25.1 in /home/ra/projects/qwazer/ruaddress-elements-classification/venv/lib/python3.11/site-packages (from python-Levenshtein>=0.22.0->augmentex) (0.25.1)\r\n",
      "Requirement already satisfied: rapidfuzz<4.0.0,>=3.8.0 in /home/ra/projects/qwazer/ruaddress-elements-classification/venv/lib/python3.11/site-packages (from Levenshtein==0.25.1->python-Levenshtein>=0.22.0->augmentex) (3.9.0)\r\n"
     ]
    }
   ],
   "execution_count": 1
  },
  {
   "metadata": {
    "ExecuteTime": {
     "end_time": "2024-05-15T14:13:13.682313Z",
     "start_time": "2024-05-15T14:13:13.313115Z"
    }
   },
   "cell_type": "code",
   "source": [
    "import pandas as pd\n",
    "from enum import Enum\n",
    "from augmentex import CharAug\n",
    "import random"
   ],
   "id": "b9c8c7e93bf97f90",
   "outputs": [],
   "execution_count": 2
  },
  {
   "metadata": {},
   "cell_type": "markdown",
   "source": "# Загрузка данных из файла",
   "id": "2b173be0d2a10929"
  },
  {
   "metadata": {
    "ExecuteTime": {
     "end_time": "2024-05-15T14:13:17.559357Z",
     "start_time": "2024-05-15T14:13:13.683707Z"
    }
   },
   "cell_type": "code",
   "source": [
    "df = pd.read_csv(\"places_address_elements.csv\")\n",
    "df = df.fillna('')"
   ],
   "id": "1008eace1928f527",
   "outputs": [],
   "execution_count": 3
  },
  {
   "metadata": {},
   "cell_type": "markdown",
   "source": "Удаляем города федерального значения.",
   "id": "4831516513c60ca3"
  },
  {
   "metadata": {
    "ExecuteTime": {
     "end_time": "2024-05-15T14:13:17.709485Z",
     "start_time": "2024-05-15T14:13:17.560431Z"
    }
   },
   "cell_type": "code",
   "source": [
    "condition_name = df.region_name == df.city_name\n",
    "condition_type = df.region_type_name == df.city_type_name\n",
    "df.loc[condition_name&condition_type, ['city_type_name', 'city_name', 'city_type_name_short']] = ''"
   ],
   "id": "82a883711223c8d1",
   "outputs": [],
   "execution_count": 4
  },
  {
   "metadata": {
    "ExecuteTime": {
     "end_time": "2024-05-15T14:13:17.724918Z",
     "start_time": "2024-05-15T14:13:17.710325Z"
    }
   },
   "cell_type": "code",
   "source": "df",
   "id": "4e164d07c622195",
   "outputs": [
    {
     "data": {
      "text/plain": [
       "                  region_name region_type_name region_type_name_short  \\\n",
       "0                      Адыгея       Республика                   Респ   \n",
       "1                Башкортостан       Республика                   Респ   \n",
       "2                       Алтай       Республика                   Респ   \n",
       "3        Кабардино-Балкарская       Республика                   Респ   \n",
       "4                    Калмыкия       Республика                   Респ   \n",
       "...                       ...              ...                    ...   \n",
       "1519314         Краснодарский             Край                   край   \n",
       "1519315         Краснодарский             Край                   край   \n",
       "1519316         Краснодарский             Край                   край   \n",
       "1519317         Краснодарский             Край                   край   \n",
       "1519318         Краснодарский             Край                   край   \n",
       "\n",
       "          area_name area_type_name area_type_name_short city_name  \\\n",
       "0                                                                   \n",
       "1                                                                   \n",
       "2                                                                   \n",
       "3                                                                   \n",
       "4                                                                   \n",
       "...             ...            ...                  ...       ...   \n",
       "1519314  Тихорецкий          Район                  р-н  Тихорецк   \n",
       "1519315  Тихорецкий          Район                  р-н  Тихорецк   \n",
       "1519316  Тихорецкий          Район                  р-н  Тихорецк   \n",
       "1519317  Тихорецкий          Район                  р-н  Тихорецк   \n",
       "1519318  Тихорецкий          Район                  р-н  Тихорецк   \n",
       "\n",
       "        city_type_name city_type_name_short territory_name  \\\n",
       "0                                                            \n",
       "1                                                            \n",
       "2                                                            \n",
       "3                                                            \n",
       "4                                                            \n",
       "...                ...                  ...            ...   \n",
       "1519314          Город                    г     Западный-4   \n",
       "1519315          Город                    г     Западный-4   \n",
       "1519316          Город                    г     Западный-4   \n",
       "1519317          Город                    г     Западный-4   \n",
       "1519318          Город                    г     Западный-5   \n",
       "\n",
       "        territory_type_name territory_type_name_short  street_name  \\\n",
       "0                                                                    \n",
       "1                                                                    \n",
       "2                                                                    \n",
       "3                                                                    \n",
       "4                                                                    \n",
       "...                     ...                       ...          ...   \n",
       "1519314      Территория СНТ                  тер. СНТ    Малиновая   \n",
       "1519315      Территория СНТ                  тер. СНТ   Персиковая   \n",
       "1519316      Территория СНТ                  тер. СНТ    Яблоневая   \n",
       "1519317      Территория СНТ                  тер. СНТ      Садовая   \n",
       "1519318      Территория СНТ                  тер. СНТ  Виноградная   \n",
       "\n",
       "        street_type_name street_type_name_short  \n",
       "0                                                \n",
       "1                                                \n",
       "2                                                \n",
       "3                                                \n",
       "4                                                \n",
       "...                  ...                    ...  \n",
       "1519314            Улица                    ул.  \n",
       "1519315            Улица                    ул.  \n",
       "1519316            Улица                    ул.  \n",
       "1519317            Улица                    ул.  \n",
       "1519318            Улица                    ул.  \n",
       "\n",
       "[1519319 rows x 15 columns]"
      ],
      "text/html": [
       "<div>\n",
       "<style scoped>\n",
       "    .dataframe tbody tr th:only-of-type {\n",
       "        vertical-align: middle;\n",
       "    }\n",
       "\n",
       "    .dataframe tbody tr th {\n",
       "        vertical-align: top;\n",
       "    }\n",
       "\n",
       "    .dataframe thead th {\n",
       "        text-align: right;\n",
       "    }\n",
       "</style>\n",
       "<table border=\"1\" class=\"dataframe\">\n",
       "  <thead>\n",
       "    <tr style=\"text-align: right;\">\n",
       "      <th></th>\n",
       "      <th>region_name</th>\n",
       "      <th>region_type_name</th>\n",
       "      <th>region_type_name_short</th>\n",
       "      <th>area_name</th>\n",
       "      <th>area_type_name</th>\n",
       "      <th>area_type_name_short</th>\n",
       "      <th>city_name</th>\n",
       "      <th>city_type_name</th>\n",
       "      <th>city_type_name_short</th>\n",
       "      <th>territory_name</th>\n",
       "      <th>territory_type_name</th>\n",
       "      <th>territory_type_name_short</th>\n",
       "      <th>street_name</th>\n",
       "      <th>street_type_name</th>\n",
       "      <th>street_type_name_short</th>\n",
       "    </tr>\n",
       "  </thead>\n",
       "  <tbody>\n",
       "    <tr>\n",
       "      <th>0</th>\n",
       "      <td>Адыгея</td>\n",
       "      <td>Республика</td>\n",
       "      <td>Респ</td>\n",
       "      <td></td>\n",
       "      <td></td>\n",
       "      <td></td>\n",
       "      <td></td>\n",
       "      <td></td>\n",
       "      <td></td>\n",
       "      <td></td>\n",
       "      <td></td>\n",
       "      <td></td>\n",
       "      <td></td>\n",
       "      <td></td>\n",
       "      <td></td>\n",
       "    </tr>\n",
       "    <tr>\n",
       "      <th>1</th>\n",
       "      <td>Башкортостан</td>\n",
       "      <td>Республика</td>\n",
       "      <td>Респ</td>\n",
       "      <td></td>\n",
       "      <td></td>\n",
       "      <td></td>\n",
       "      <td></td>\n",
       "      <td></td>\n",
       "      <td></td>\n",
       "      <td></td>\n",
       "      <td></td>\n",
       "      <td></td>\n",
       "      <td></td>\n",
       "      <td></td>\n",
       "      <td></td>\n",
       "    </tr>\n",
       "    <tr>\n",
       "      <th>2</th>\n",
       "      <td>Алтай</td>\n",
       "      <td>Республика</td>\n",
       "      <td>Респ</td>\n",
       "      <td></td>\n",
       "      <td></td>\n",
       "      <td></td>\n",
       "      <td></td>\n",
       "      <td></td>\n",
       "      <td></td>\n",
       "      <td></td>\n",
       "      <td></td>\n",
       "      <td></td>\n",
       "      <td></td>\n",
       "      <td></td>\n",
       "      <td></td>\n",
       "    </tr>\n",
       "    <tr>\n",
       "      <th>3</th>\n",
       "      <td>Кабардино-Балкарская</td>\n",
       "      <td>Республика</td>\n",
       "      <td>Респ</td>\n",
       "      <td></td>\n",
       "      <td></td>\n",
       "      <td></td>\n",
       "      <td></td>\n",
       "      <td></td>\n",
       "      <td></td>\n",
       "      <td></td>\n",
       "      <td></td>\n",
       "      <td></td>\n",
       "      <td></td>\n",
       "      <td></td>\n",
       "      <td></td>\n",
       "    </tr>\n",
       "    <tr>\n",
       "      <th>4</th>\n",
       "      <td>Калмыкия</td>\n",
       "      <td>Республика</td>\n",
       "      <td>Респ</td>\n",
       "      <td></td>\n",
       "      <td></td>\n",
       "      <td></td>\n",
       "      <td></td>\n",
       "      <td></td>\n",
       "      <td></td>\n",
       "      <td></td>\n",
       "      <td></td>\n",
       "      <td></td>\n",
       "      <td></td>\n",
       "      <td></td>\n",
       "      <td></td>\n",
       "    </tr>\n",
       "    <tr>\n",
       "      <th>...</th>\n",
       "      <td>...</td>\n",
       "      <td>...</td>\n",
       "      <td>...</td>\n",
       "      <td>...</td>\n",
       "      <td>...</td>\n",
       "      <td>...</td>\n",
       "      <td>...</td>\n",
       "      <td>...</td>\n",
       "      <td>...</td>\n",
       "      <td>...</td>\n",
       "      <td>...</td>\n",
       "      <td>...</td>\n",
       "      <td>...</td>\n",
       "      <td>...</td>\n",
       "      <td>...</td>\n",
       "    </tr>\n",
       "    <tr>\n",
       "      <th>1519314</th>\n",
       "      <td>Краснодарский</td>\n",
       "      <td>Край</td>\n",
       "      <td>край</td>\n",
       "      <td>Тихорецкий</td>\n",
       "      <td>Район</td>\n",
       "      <td>р-н</td>\n",
       "      <td>Тихорецк</td>\n",
       "      <td>Город</td>\n",
       "      <td>г</td>\n",
       "      <td>Западный-4</td>\n",
       "      <td>Территория СНТ</td>\n",
       "      <td>тер. СНТ</td>\n",
       "      <td>Малиновая</td>\n",
       "      <td>Улица</td>\n",
       "      <td>ул.</td>\n",
       "    </tr>\n",
       "    <tr>\n",
       "      <th>1519315</th>\n",
       "      <td>Краснодарский</td>\n",
       "      <td>Край</td>\n",
       "      <td>край</td>\n",
       "      <td>Тихорецкий</td>\n",
       "      <td>Район</td>\n",
       "      <td>р-н</td>\n",
       "      <td>Тихорецк</td>\n",
       "      <td>Город</td>\n",
       "      <td>г</td>\n",
       "      <td>Западный-4</td>\n",
       "      <td>Территория СНТ</td>\n",
       "      <td>тер. СНТ</td>\n",
       "      <td>Персиковая</td>\n",
       "      <td>Улица</td>\n",
       "      <td>ул.</td>\n",
       "    </tr>\n",
       "    <tr>\n",
       "      <th>1519316</th>\n",
       "      <td>Краснодарский</td>\n",
       "      <td>Край</td>\n",
       "      <td>край</td>\n",
       "      <td>Тихорецкий</td>\n",
       "      <td>Район</td>\n",
       "      <td>р-н</td>\n",
       "      <td>Тихорецк</td>\n",
       "      <td>Город</td>\n",
       "      <td>г</td>\n",
       "      <td>Западный-4</td>\n",
       "      <td>Территория СНТ</td>\n",
       "      <td>тер. СНТ</td>\n",
       "      <td>Яблоневая</td>\n",
       "      <td>Улица</td>\n",
       "      <td>ул.</td>\n",
       "    </tr>\n",
       "    <tr>\n",
       "      <th>1519317</th>\n",
       "      <td>Краснодарский</td>\n",
       "      <td>Край</td>\n",
       "      <td>край</td>\n",
       "      <td>Тихорецкий</td>\n",
       "      <td>Район</td>\n",
       "      <td>р-н</td>\n",
       "      <td>Тихорецк</td>\n",
       "      <td>Город</td>\n",
       "      <td>г</td>\n",
       "      <td>Западный-4</td>\n",
       "      <td>Территория СНТ</td>\n",
       "      <td>тер. СНТ</td>\n",
       "      <td>Садовая</td>\n",
       "      <td>Улица</td>\n",
       "      <td>ул.</td>\n",
       "    </tr>\n",
       "    <tr>\n",
       "      <th>1519318</th>\n",
       "      <td>Краснодарский</td>\n",
       "      <td>Край</td>\n",
       "      <td>край</td>\n",
       "      <td>Тихорецкий</td>\n",
       "      <td>Район</td>\n",
       "      <td>р-н</td>\n",
       "      <td>Тихорецк</td>\n",
       "      <td>Город</td>\n",
       "      <td>г</td>\n",
       "      <td>Западный-5</td>\n",
       "      <td>Территория СНТ</td>\n",
       "      <td>тер. СНТ</td>\n",
       "      <td>Виноградная</td>\n",
       "      <td>Улица</td>\n",
       "      <td>ул.</td>\n",
       "    </tr>\n",
       "  </tbody>\n",
       "</table>\n",
       "<p>1519319 rows × 15 columns</p>\n",
       "</div>"
      ]
     },
     "execution_count": 5,
     "metadata": {},
     "output_type": "execute_result"
    }
   ],
   "execution_count": 5
  },
  {
   "metadata": {},
   "cell_type": "markdown",
   "source": [
    "# Вспомогательные классы\n",
    "## Словарь ElementType "
   ],
   "id": "bcacfc0eb95924bc"
  },
  {
   "metadata": {
    "ExecuteTime": {
     "end_time": "2024-05-15T14:13:17.729991Z",
     "start_time": "2024-05-15T14:13:17.725850Z"
    }
   },
   "cell_type": "code",
   "source": [
    "\n",
    "class ElementType(Enum):\n",
    "    OTHER = 0\n",
    "    REGION=1\n",
    "    REGION_TYPE=2\n",
    "    AREA=3\n",
    "    AREA_TYPE=4\n",
    "    TERRITORY=5\n",
    "    TERRITORY_TYPE=6\n",
    "    CITY=7\n",
    "    CITY_TYPE=8\n",
    "    STREET=9\n",
    "    STREET_TYPE=10\n",
    "    DELIMITER=11\n",
    "    \n",
    "    def getTyped(self):\n",
    "        if self == ElementType.REGION:\n",
    "            return ElementType.REGION_TYPE\n",
    "        elif self == ElementType.AREA:\n",
    "            return ElementType.AREA_TYPE\n",
    "        elif self == ElementType.TERRITORY:\n",
    "            return ElementType.TERRITORY_TYPE\n",
    "        elif self == ElementType.CITY:\n",
    "            return ElementType.CITY_TYPE\n",
    "        elif self == ElementType.STREET:\n",
    "            return ElementType.STREET_TYPE\n",
    "        else:\n",
    "            return self\n",
    "        \n"
   ],
   "id": "749db5a01021d8d7",
   "outputs": [],
   "execution_count": 6
  },
  {
   "metadata": {},
   "cell_type": "markdown",
   "source": [
    "## Класс TypedWord\n",
    "Проставим каждому токену тип. Для этого введем класс TypedWord"
   ],
   "id": "6fc7f49957ea4ca5"
  },
  {
   "metadata": {
    "ExecuteTime": {
     "end_time": "2024-05-15T14:13:17.733652Z",
     "start_time": "2024-05-15T14:13:17.730794Z"
    }
   },
   "cell_type": "code",
   "source": [
    "class TypedWord:\n",
    "    word = ''\n",
    "    type = ElementType.OTHER\n",
    "    def __init__(self, word:str, type:ElementType):\n",
    "        self.word = word\n",
    "        self.type = type\n",
    "    \n",
    "    def __repr__(self):\n",
    "        return self.word + \":\" + self.type.name"
   ],
   "id": "4e63fb63aa956f58",
   "outputs": [],
   "execution_count": 7
  },
  {
   "metadata": {},
   "cell_type": "markdown",
   "source": "# Аугментация",
   "id": "f0418e1be6e8624e"
  },
  {
   "metadata": {},
   "cell_type": "markdown",
   "source": "## Представление набора адресо-образующих элементов в виде списка TypedWord",
   "id": "7c41d46e6ddf5661"
  },
  {
   "metadata": {
    "ExecuteTime": {
     "end_time": "2024-05-15T14:13:17.782851Z",
     "start_time": "2024-05-15T14:13:17.734861Z"
    }
   },
   "cell_type": "code",
   "source": [
    "def to_typed_word_list(input , elementType :ElementType  ) -> list[TypedWord]:\n",
    "    words = list(filter(('').__ne__, input.split(' ')))\n",
    "    res = list()\n",
    "    for word in words:\n",
    "        res.append(TypedWord(word, elementType))\n",
    "    return res\n",
    "\n",
    "\n",
    "def typed_word_list_for_type(elements: dict, \n",
    "                             elementType :ElementType , \n",
    "                             type_first_proba=0.75, \n",
    "                             comma_sep_proba = 0.75, \n",
    "                             short_type_proba=0.5) -> list[TypedWord]:\n",
    "    res: list[TypedWord] = []\n",
    "    delimiter = TypedWord(',', ElementType.DELIMITER)\n",
    "    base = elementType.name.lower()\n",
    "    base_name = base+'_name'\n",
    "    base_type_name = base+'_type_name'\n",
    "    base_type_name_short = base+'_type_name_short'\n",
    "    if elements[base_name]=='':\n",
    "        return res\n",
    "    if short_type_proba> random.random():\n",
    "        type_column = base_type_name_short\n",
    "    else:\n",
    "        type_column = base_type_name\n",
    "\n",
    "    if type_first_proba>random.random():\n",
    "        res+= to_typed_word_list(elements[type_column], elementType.getTyped())\n",
    "        res+= to_typed_word_list(elements[base_name], elementType)\n",
    "    else:\n",
    "        res+= (to_typed_word_list(elements[base_name], elementType))\n",
    "        res+= to_typed_word_list(elements[type_column], elementType.getTyped())\n",
    "\n",
    "    if comma_sep_proba>random.random():\n",
    "        res+= [delimiter]\n",
    "    return res\n",
    "\n",
    "\n",
    "def convert_address_elements(elements: dict, type_first_proba=0.75, comma_sep_proba=0.75, short_type_proba=0.5):\n",
    "    res: list[TypedWord] = []\n",
    "    res += typed_word_list_for_type(elements, ElementType.REGION, type_first_proba=type_first_proba,\n",
    "                                    comma_sep_proba=comma_sep_proba, short_type_proba=short_type_proba)\n",
    "    res += typed_word_list_for_type(elements, ElementType.AREA, type_first_proba=type_first_proba,\n",
    "                                    comma_sep_proba=comma_sep_proba, short_type_proba=short_type_proba)\n",
    "    res += typed_word_list_for_type(elements, ElementType.CITY, type_first_proba=type_first_proba,\n",
    "                                    comma_sep_proba=comma_sep_proba, short_type_proba=short_type_proba) \n",
    "    res += typed_word_list_for_type(elements, ElementType.TERRITORY, type_first_proba=type_first_proba,\n",
    "                                    comma_sep_proba=comma_sep_proba, short_type_proba=short_type_proba)\n",
    "    res += typed_word_list_for_type(elements, ElementType.STREET, type_first_proba=type_first_proba,\n",
    "                                    comma_sep_proba=comma_sep_proba, short_type_proba=short_type_proba)\n",
    "    \n",
    "    if res[-1].type == ElementType.DELIMITER:\n",
    "       res.pop()\n",
    "\n",
    "    return res\n",
    "\n",
    "\n",
    "elements = df.sample(random_state=442).to_dict('records')\n",
    "convert_address_elements(elements[0], type_first_proba=1, comma_sep_proba=1, short_type_proba=1)"
   ],
   "id": "bdca3783a6f219ef",
   "outputs": [
    {
     "data": {
      "text/plain": [
       "[обл:REGION_TYPE,\n",
       " Нижегородская:REGION,\n",
       " ,:DELIMITER,\n",
       " р-н:AREA_TYPE,\n",
       " Сосновский:AREA,\n",
       " ,:DELIMITER,\n",
       " д:CITY_TYPE,\n",
       " Волчиха:CITY,\n",
       " ,:DELIMITER,\n",
       " ул:STREET_TYPE,\n",
       " Пушкина:STREET]"
      ]
     },
     "execution_count": 8,
     "metadata": {},
     "output_type": "execute_result"
    }
   ],
   "execution_count": 8
  },
  {
   "metadata": {
    "ExecuteTime": {
     "end_time": "2024-05-15T14:13:17.845120Z",
     "start_time": "2024-05-15T14:13:17.783790Z"
    }
   },
   "cell_type": "code",
   "source": [
    "sample_typed_words = convert_address_elements(df.sample(random_state=0).to_dict('records')[0])\n",
    "sample_typed_words"
   ],
   "id": "e68e66593632f9b",
   "outputs": [
    {
     "data": {
      "text/plain": [
       "[Край:REGION_TYPE,\n",
       " Приморский:REGION,\n",
       " ,:DELIMITER,\n",
       " р-н:AREA_TYPE,\n",
       " Черниговский:AREA,\n",
       " ,:DELIMITER,\n",
       " Сибирцево:CITY,\n",
       " Поселок:CITY_TYPE,\n",
       " городского:CITY_TYPE,\n",
       " типа:CITY_TYPE,\n",
       " ,:DELIMITER,\n",
       " Гаражно-строительный:TERRITORY_TYPE,\n",
       " кооп.:TERRITORY_TYPE,\n",
       " 33г/24:TERRITORY]"
      ]
     },
     "execution_count": 9,
     "metadata": {},
     "output_type": "execute_result"
    }
   ],
   "execution_count": 9
  },
  {
   "metadata": {
    "ExecuteTime": {
     "end_time": "2024-05-15T14:13:17.855818Z",
     "start_time": "2024-05-15T14:13:17.846221Z"
    }
   },
   "cell_type": "code",
   "source": [
    "char_aug = CharAug(\n",
    "    unit_prob=0.05, # Percentage of the phrase to which augmentations will be applied\n",
    "    min_aug=0, # Minimum number of augmentations\n",
    "    max_aug=3, # Maximum number of augmentations\n",
    "    mult_num=3, # Maximum number of repetitions of characters (only for the multiply method)\n",
    "    random_seed=42,\n",
    "    lang=\"rus\", # supports: \"rus\", \"eng\"\n",
    "    platform=\"pc\", # supports: \"pc\", \"mobile\"\n",
    ")\n"
   ],
   "id": "59962cd9b59c1f8f",
   "outputs": [],
   "execution_count": 10
  },
  {
   "metadata": {
    "ExecuteTime": {
     "end_time": "2024-05-15T14:13:17.862856Z",
     "start_time": "2024-05-15T14:13:17.857011Z"
    }
   },
   "cell_type": "code",
   "source": [
    "text = 'Автодорога Москва-Казань'\n",
    "char_aug.augment(text=text)"
   ],
   "id": "6faf35f56ac243da",
   "outputs": [
    {
     "data": {
      "text/plain": [
       "'Автодорога Москва-Казыань'"
      ]
     },
     "execution_count": 11,
     "metadata": {},
     "output_type": "execute_result"
    }
   ],
   "execution_count": 11
  },
  {
   "metadata": {
    "ExecuteTime": {
     "end_time": "2024-05-15T14:13:17.870857Z",
     "start_time": "2024-05-15T14:13:17.867259Z"
    }
   },
   "cell_type": "code",
   "source": "",
   "id": "bdd3db77873b8949",
   "outputs": [],
   "execution_count": 11
  },
  {
   "metadata": {},
   "cell_type": "markdown",
   "source": "Обратная задача. Представление списка TypedWords в виде списка слов или списка типов адресо-образующих элементов",
   "id": "b31291c992e1f81b"
  },
  {
   "metadata": {
    "ExecuteTime": {
     "end_time": "2024-05-15T14:13:17.877295Z",
     "start_time": "2024-05-15T14:13:17.872668Z"
    }
   },
   "cell_type": "code",
   "source": [
    "def typed_words_to_words(input:list):\n",
    "    words = []\n",
    "    for element in input:\n",
    "        words.append(element.word)\n",
    "    return words    "
   ],
   "id": "66e2a79e321e09a5",
   "outputs": [],
   "execution_count": 12
  },
  {
   "metadata": {
    "ExecuteTime": {
     "end_time": "2024-05-15T14:13:17.884479Z",
     "start_time": "2024-05-15T14:13:17.879468Z"
    }
   },
   "cell_type": "code",
   "source": [
    "def typed_words_to_type_codes(input:list):\n",
    "    type_codes = []\n",
    "    for element in input:\n",
    "        type_codes.append(element.type.value)\n",
    "    return type_codes    "
   ],
   "id": "afed744358422f6d",
   "outputs": [],
   "execution_count": 13
  },
  {
   "metadata": {},
   "cell_type": "markdown",
   "source": [
    "# Генерация нового датасета\n",
    "## Новые колонки - tokens и classes"
   ],
   "id": "92d8ff23957a93d6"
  },
  {
   "metadata": {
    "jupyter": {
     "is_executing": true
    },
    "ExecuteTime": {
     "start_time": "2024-05-15T14:13:17.886195Z"
    }
   },
   "cell_type": "code",
   "source": [
    "df['typed_words'] = df.apply(convert_address_elements, axis=1)\n",
    "df['tokens'] = df.apply(lambda row: typed_words_to_words(row.typed_words),  axis=1)\n",
    "df['classes'] = df.apply(lambda row: typed_words_to_type_codes(row.typed_words),  axis=1)"
   ],
   "id": "52975afd7505305c",
   "outputs": [],
   "execution_count": null
  },
  {
   "metadata": {},
   "cell_type": "markdown",
   "source": "## Конструирование нового dataframe ",
   "id": "acb725c4c5d90ed2"
  },
  {
   "metadata": {
    "jupyter": {
     "is_executing": true
    }
   },
   "cell_type": "code",
   "source": "df_token_with_classes = df[['tokens','classes']]",
   "id": "f6c66bd2ff1a1527",
   "outputs": [],
   "execution_count": null
  },
  {
   "metadata": {},
   "cell_type": "markdown",
   "source": "## Сохранение на диск",
   "id": "6a7b38beb5dc8a30"
  },
  {
   "metadata": {
    "jupyter": {
     "is_executing": true
    }
   },
   "cell_type": "code",
   "source": "df_token_with_classes.to_pickle('./df_token_with_classes.pkl')",
   "id": "b5ae111aa1d8a0c3",
   "outputs": [],
   "execution_count": null
  },
  {
   "metadata": {
    "jupyter": {
     "is_executing": true
    }
   },
   "cell_type": "code",
   "source": "!zip archive_pkl.zip ./df_token_with_classes.pkl  ",
   "id": "cdacf6c212cee260",
   "outputs": [],
   "execution_count": null
  }
 ],
 "metadata": {
  "kernelspec": {
   "display_name": "Python 3",
   "language": "python",
   "name": "python3"
  },
  "language_info": {
   "codemirror_mode": {
    "name": "ipython",
    "version": 2
   },
   "file_extension": ".py",
   "mimetype": "text/x-python",
   "name": "python",
   "nbconvert_exporter": "python",
   "pygments_lexer": "ipython2",
   "version": "2.7.6"
  }
 },
 "nbformat": 4,
 "nbformat_minor": 5
}
