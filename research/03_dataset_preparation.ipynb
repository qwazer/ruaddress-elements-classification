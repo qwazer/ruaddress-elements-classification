{
 "cells": [
  {
   "metadata": {},
   "cell_type": "markdown",
   "source": "# Пакеты",
   "id": "4fda22c3b6b2d680"
  },
  {
   "metadata": {
    "ExecuteTime": {
     "end_time": "2024-05-12T11:37:42.205430Z",
     "start_time": "2024-05-12T11:37:38.829419Z"
    }
   },
   "cell_type": "code",
   "source": [
    "from typing import List, Any\n",
    "!pip install augmentex"
   ],
   "id": "bc3ae8cc9b7c2f52",
   "outputs": [
    {
     "name": "stdout",
     "output_type": "stream",
     "text": [
      "Requirement already satisfied: augmentex in /home/ra/projects/qwazer/ruaddress-elements-classification/venv/lib/python3.9/site-packages (1.2.1)\r\n",
      "Requirement already satisfied: python-Levenshtein>=0.22.0 in /home/ra/projects/qwazer/ruaddress-elements-classification/venv/lib/python3.9/site-packages (from augmentex) (0.25.1)\r\n",
      "Requirement already satisfied: numpy>=1.21 in /home/ra/projects/qwazer/ruaddress-elements-classification/venv/lib/python3.9/site-packages (from augmentex) (1.26.4)\r\n",
      "Requirement already satisfied: Levenshtein==0.25.1 in /home/ra/projects/qwazer/ruaddress-elements-classification/venv/lib/python3.9/site-packages (from python-Levenshtein>=0.22.0->augmentex) (0.25.1)\r\n",
      "Requirement already satisfied: rapidfuzz<4.0.0,>=3.8.0 in /home/ra/projects/qwazer/ruaddress-elements-classification/venv/lib/python3.9/site-packages (from Levenshtein==0.25.1->python-Levenshtein>=0.22.0->augmentex) (3.9.0)\r\n"
     ]
    }
   ],
   "execution_count": 13
  },
  {
   "metadata": {
    "ExecuteTime": {
     "end_time": "2024-05-12T13:20:20.794393Z",
     "start_time": "2024-05-12T13:20:20.668177Z"
    }
   },
   "cell_type": "code",
   "source": [
    "import pandas as pd\n",
    "from enum import Enum\n",
    "from augmentex import CharAug\n",
    "import random"
   ],
   "id": "b9c8c7e93bf97f90",
   "outputs": [],
   "execution_count": 50
  },
  {
   "metadata": {},
   "cell_type": "markdown",
   "source": "# Загрузка данных из файла",
   "id": "2b173be0d2a10929"
  },
  {
   "metadata": {
    "ExecuteTime": {
     "end_time": "2024-05-12T11:30:30.101995Z",
     "start_time": "2024-05-12T11:30:25.329448Z"
    }
   },
   "cell_type": "code",
   "source": [
    "df = pd.read_csv(\"places_address_elements.csv\")\n",
    "df = df.fillna('')"
   ],
   "id": "1008eace1928f527",
   "outputs": [],
   "execution_count": 2
  },
  {
   "metadata": {
    "ExecuteTime": {
     "end_time": "2024-05-12T11:30:33.898234Z",
     "start_time": "2024-05-12T11:30:33.885382Z"
    }
   },
   "cell_type": "code",
   "source": "df",
   "id": "4e164d07c622195",
   "outputs": [
    {
     "data": {
      "text/plain": [
       "                  region_name region_type_name region_type_name_short  \\\n",
       "0                      Адыгея       Республика                   Респ   \n",
       "1                Башкортостан       Республика                   Респ   \n",
       "2                       Алтай       Республика                   Респ   \n",
       "3        Кабардино-Балкарская       Республика                   Респ   \n",
       "4                    Калмыкия       Республика                   Респ   \n",
       "...                       ...              ...                    ...   \n",
       "1519314         Краснодарский             Край                   край   \n",
       "1519315         Краснодарский             Край                   край   \n",
       "1519316         Краснодарский             Край                   край   \n",
       "1519317         Краснодарский             Край                   край   \n",
       "1519318         Краснодарский             Край                   край   \n",
       "\n",
       "          area_name area_type_name area_type_name_short city_name  \\\n",
       "0                                                                   \n",
       "1                                                                   \n",
       "2                                                                   \n",
       "3                                                                   \n",
       "4                                                                   \n",
       "...             ...            ...                  ...       ...   \n",
       "1519314  Тихорецкий          Район                  р-н  Тихорецк   \n",
       "1519315  Тихорецкий          Район                  р-н  Тихорецк   \n",
       "1519316  Тихорецкий          Район                  р-н  Тихорецк   \n",
       "1519317  Тихорецкий          Район                  р-н  Тихорецк   \n",
       "1519318  Тихорецкий          Район                  р-н  Тихорецк   \n",
       "\n",
       "        city_type_name city_type_name_short territory_name  \\\n",
       "0                                                            \n",
       "1                                                            \n",
       "2                                                            \n",
       "3                                                            \n",
       "4                                                            \n",
       "...                ...                  ...            ...   \n",
       "1519314          Город                    г     Западный-4   \n",
       "1519315          Город                    г     Западный-4   \n",
       "1519316          Город                    г     Западный-4   \n",
       "1519317          Город                    г     Западный-4   \n",
       "1519318          Город                    г     Западный-5   \n",
       "\n",
       "        territory_type_name territory_type_name_short  street_name  \\\n",
       "0                                                                    \n",
       "1                                                                    \n",
       "2                                                                    \n",
       "3                                                                    \n",
       "4                                                                    \n",
       "...                     ...                       ...          ...   \n",
       "1519314      Территория СНТ                  тер. СНТ    Малиновая   \n",
       "1519315      Территория СНТ                  тер. СНТ   Персиковая   \n",
       "1519316      Территория СНТ                  тер. СНТ    Яблоневая   \n",
       "1519317      Территория СНТ                  тер. СНТ      Садовая   \n",
       "1519318      Территория СНТ                  тер. СНТ  Виноградная   \n",
       "\n",
       "        street_type_name street_type_name_short  \n",
       "0                                                \n",
       "1                                                \n",
       "2                                                \n",
       "3                                                \n",
       "4                                                \n",
       "...                  ...                    ...  \n",
       "1519314            Улица                    ул.  \n",
       "1519315            Улица                    ул.  \n",
       "1519316            Улица                    ул.  \n",
       "1519317            Улица                    ул.  \n",
       "1519318            Улица                    ул.  \n",
       "\n",
       "[1519319 rows x 15 columns]"
      ],
      "text/html": [
       "<div>\n",
       "<style scoped>\n",
       "    .dataframe tbody tr th:only-of-type {\n",
       "        vertical-align: middle;\n",
       "    }\n",
       "\n",
       "    .dataframe tbody tr th {\n",
       "        vertical-align: top;\n",
       "    }\n",
       "\n",
       "    .dataframe thead th {\n",
       "        text-align: right;\n",
       "    }\n",
       "</style>\n",
       "<table border=\"1\" class=\"dataframe\">\n",
       "  <thead>\n",
       "    <tr style=\"text-align: right;\">\n",
       "      <th></th>\n",
       "      <th>region_name</th>\n",
       "      <th>region_type_name</th>\n",
       "      <th>region_type_name_short</th>\n",
       "      <th>area_name</th>\n",
       "      <th>area_type_name</th>\n",
       "      <th>area_type_name_short</th>\n",
       "      <th>city_name</th>\n",
       "      <th>city_type_name</th>\n",
       "      <th>city_type_name_short</th>\n",
       "      <th>territory_name</th>\n",
       "      <th>territory_type_name</th>\n",
       "      <th>territory_type_name_short</th>\n",
       "      <th>street_name</th>\n",
       "      <th>street_type_name</th>\n",
       "      <th>street_type_name_short</th>\n",
       "    </tr>\n",
       "  </thead>\n",
       "  <tbody>\n",
       "    <tr>\n",
       "      <th>0</th>\n",
       "      <td>Адыгея</td>\n",
       "      <td>Республика</td>\n",
       "      <td>Респ</td>\n",
       "      <td></td>\n",
       "      <td></td>\n",
       "      <td></td>\n",
       "      <td></td>\n",
       "      <td></td>\n",
       "      <td></td>\n",
       "      <td></td>\n",
       "      <td></td>\n",
       "      <td></td>\n",
       "      <td></td>\n",
       "      <td></td>\n",
       "      <td></td>\n",
       "    </tr>\n",
       "    <tr>\n",
       "      <th>1</th>\n",
       "      <td>Башкортостан</td>\n",
       "      <td>Республика</td>\n",
       "      <td>Респ</td>\n",
       "      <td></td>\n",
       "      <td></td>\n",
       "      <td></td>\n",
       "      <td></td>\n",
       "      <td></td>\n",
       "      <td></td>\n",
       "      <td></td>\n",
       "      <td></td>\n",
       "      <td></td>\n",
       "      <td></td>\n",
       "      <td></td>\n",
       "      <td></td>\n",
       "    </tr>\n",
       "    <tr>\n",
       "      <th>2</th>\n",
       "      <td>Алтай</td>\n",
       "      <td>Республика</td>\n",
       "      <td>Респ</td>\n",
       "      <td></td>\n",
       "      <td></td>\n",
       "      <td></td>\n",
       "      <td></td>\n",
       "      <td></td>\n",
       "      <td></td>\n",
       "      <td></td>\n",
       "      <td></td>\n",
       "      <td></td>\n",
       "      <td></td>\n",
       "      <td></td>\n",
       "      <td></td>\n",
       "    </tr>\n",
       "    <tr>\n",
       "      <th>3</th>\n",
       "      <td>Кабардино-Балкарская</td>\n",
       "      <td>Республика</td>\n",
       "      <td>Респ</td>\n",
       "      <td></td>\n",
       "      <td></td>\n",
       "      <td></td>\n",
       "      <td></td>\n",
       "      <td></td>\n",
       "      <td></td>\n",
       "      <td></td>\n",
       "      <td></td>\n",
       "      <td></td>\n",
       "      <td></td>\n",
       "      <td></td>\n",
       "      <td></td>\n",
       "    </tr>\n",
       "    <tr>\n",
       "      <th>4</th>\n",
       "      <td>Калмыкия</td>\n",
       "      <td>Республика</td>\n",
       "      <td>Респ</td>\n",
       "      <td></td>\n",
       "      <td></td>\n",
       "      <td></td>\n",
       "      <td></td>\n",
       "      <td></td>\n",
       "      <td></td>\n",
       "      <td></td>\n",
       "      <td></td>\n",
       "      <td></td>\n",
       "      <td></td>\n",
       "      <td></td>\n",
       "      <td></td>\n",
       "    </tr>\n",
       "    <tr>\n",
       "      <th>...</th>\n",
       "      <td>...</td>\n",
       "      <td>...</td>\n",
       "      <td>...</td>\n",
       "      <td>...</td>\n",
       "      <td>...</td>\n",
       "      <td>...</td>\n",
       "      <td>...</td>\n",
       "      <td>...</td>\n",
       "      <td>...</td>\n",
       "      <td>...</td>\n",
       "      <td>...</td>\n",
       "      <td>...</td>\n",
       "      <td>...</td>\n",
       "      <td>...</td>\n",
       "      <td>...</td>\n",
       "    </tr>\n",
       "    <tr>\n",
       "      <th>1519314</th>\n",
       "      <td>Краснодарский</td>\n",
       "      <td>Край</td>\n",
       "      <td>край</td>\n",
       "      <td>Тихорецкий</td>\n",
       "      <td>Район</td>\n",
       "      <td>р-н</td>\n",
       "      <td>Тихорецк</td>\n",
       "      <td>Город</td>\n",
       "      <td>г</td>\n",
       "      <td>Западный-4</td>\n",
       "      <td>Территория СНТ</td>\n",
       "      <td>тер. СНТ</td>\n",
       "      <td>Малиновая</td>\n",
       "      <td>Улица</td>\n",
       "      <td>ул.</td>\n",
       "    </tr>\n",
       "    <tr>\n",
       "      <th>1519315</th>\n",
       "      <td>Краснодарский</td>\n",
       "      <td>Край</td>\n",
       "      <td>край</td>\n",
       "      <td>Тихорецкий</td>\n",
       "      <td>Район</td>\n",
       "      <td>р-н</td>\n",
       "      <td>Тихорецк</td>\n",
       "      <td>Город</td>\n",
       "      <td>г</td>\n",
       "      <td>Западный-4</td>\n",
       "      <td>Территория СНТ</td>\n",
       "      <td>тер. СНТ</td>\n",
       "      <td>Персиковая</td>\n",
       "      <td>Улица</td>\n",
       "      <td>ул.</td>\n",
       "    </tr>\n",
       "    <tr>\n",
       "      <th>1519316</th>\n",
       "      <td>Краснодарский</td>\n",
       "      <td>Край</td>\n",
       "      <td>край</td>\n",
       "      <td>Тихорецкий</td>\n",
       "      <td>Район</td>\n",
       "      <td>р-н</td>\n",
       "      <td>Тихорецк</td>\n",
       "      <td>Город</td>\n",
       "      <td>г</td>\n",
       "      <td>Западный-4</td>\n",
       "      <td>Территория СНТ</td>\n",
       "      <td>тер. СНТ</td>\n",
       "      <td>Яблоневая</td>\n",
       "      <td>Улица</td>\n",
       "      <td>ул.</td>\n",
       "    </tr>\n",
       "    <tr>\n",
       "      <th>1519317</th>\n",
       "      <td>Краснодарский</td>\n",
       "      <td>Край</td>\n",
       "      <td>край</td>\n",
       "      <td>Тихорецкий</td>\n",
       "      <td>Район</td>\n",
       "      <td>р-н</td>\n",
       "      <td>Тихорецк</td>\n",
       "      <td>Город</td>\n",
       "      <td>г</td>\n",
       "      <td>Западный-4</td>\n",
       "      <td>Территория СНТ</td>\n",
       "      <td>тер. СНТ</td>\n",
       "      <td>Садовая</td>\n",
       "      <td>Улица</td>\n",
       "      <td>ул.</td>\n",
       "    </tr>\n",
       "    <tr>\n",
       "      <th>1519318</th>\n",
       "      <td>Краснодарский</td>\n",
       "      <td>Край</td>\n",
       "      <td>край</td>\n",
       "      <td>Тихорецкий</td>\n",
       "      <td>Район</td>\n",
       "      <td>р-н</td>\n",
       "      <td>Тихорецк</td>\n",
       "      <td>Город</td>\n",
       "      <td>г</td>\n",
       "      <td>Западный-5</td>\n",
       "      <td>Территория СНТ</td>\n",
       "      <td>тер. СНТ</td>\n",
       "      <td>Виноградная</td>\n",
       "      <td>Улица</td>\n",
       "      <td>ул.</td>\n",
       "    </tr>\n",
       "  </tbody>\n",
       "</table>\n",
       "<p>1519319 rows × 15 columns</p>\n",
       "</div>"
      ]
     },
     "execution_count": 4,
     "metadata": {},
     "output_type": "execute_result"
    }
   ],
   "execution_count": 4
  },
  {
   "metadata": {},
   "cell_type": "markdown",
   "source": [
    "# Вспомогательные классы\n",
    "## Словарь ElementType "
   ],
   "id": "bcacfc0eb95924bc"
  },
  {
   "metadata": {
    "ExecuteTime": {
     "end_time": "2024-05-12T11:30:42.561301Z",
     "start_time": "2024-05-12T11:30:42.555570Z"
    }
   },
   "cell_type": "code",
   "source": [
    "\n",
    "class ElementType(Enum):\n",
    "    OTHER = 0\n",
    "    REGION=1\n",
    "    REGION_TYPE=2\n",
    "    AREA=3\n",
    "    AREA_TYPE=4\n",
    "    TERRITORY=5\n",
    "    TERRITORY_TYPE=6\n",
    "    CITY=7\n",
    "    CITY_TYPE=8\n",
    "    STREET=9\n",
    "    STREET_TYPE=10\n"
   ],
   "id": "749db5a01021d8d7",
   "outputs": [],
   "execution_count": 5
  },
  {
   "metadata": {},
   "cell_type": "markdown",
   "source": [
    "## Класс TypedWord\n",
    "Проставим каждому токену тип. Для этого введем класс TypedWord"
   ],
   "id": "6fc7f49957ea4ca5"
  },
  {
   "metadata": {
    "ExecuteTime": {
     "end_time": "2024-05-12T11:30:45.357506Z",
     "start_time": "2024-05-12T11:30:45.353150Z"
    }
   },
   "cell_type": "code",
   "source": [
    "class TypedWord:\n",
    "    word = ''\n",
    "    type = ElementType.OTHER\n",
    "    def __init__(self, word:str, type:ElementType):\n",
    "        self.word = word\n",
    "        self.type = type\n",
    "    \n",
    "    def __repr__(self):\n",
    "        return self.word + \":\" + self.type.name"
   ],
   "id": "4e63fb63aa956f58",
   "outputs": [],
   "execution_count": 6
  },
  {
   "metadata": {},
   "cell_type": "markdown",
   "source": "# Аугментация",
   "id": "f0418e1be6e8624e"
  },
  {
   "metadata": {},
   "cell_type": "markdown",
   "source": "## Представление набора адресо-образующих элементов в виде списка TypedWord",
   "id": "7c41d46e6ddf5661"
  },
  {
   "metadata": {
    "ExecuteTime": {
     "end_time": "2024-05-12T13:38:47.637745Z",
     "start_time": "2024-05-12T13:38:47.519460Z"
    }
   },
   "cell_type": "code",
   "source": [
    "def to_typed_word_list(input , elementType :ElementType  ) -> list:\n",
    "    words = list(filter(('').__ne__, input.split(' ')))\n",
    "    res = list()\n",
    "    for word in words:\n",
    "        res.append(TypedWord(word, elementType))\n",
    "    return res\n",
    "\n",
    "\n",
    "def convert_address_elements(elements: dict, type_first_proba=0.75, comma_sep_proba = 0.75):\n",
    "    \n",
    "    res: list[TypedWord] = []\n",
    "    if type_first_proba>random.random():\n",
    "        res+= to_typed_word_list(elements['region_type_name'], ElementType.REGION_TYPE)\n",
    "        res+= to_typed_word_list(elements['region_name'], ElementType.REGION)\n",
    "    else:\n",
    "        res+= (to_typed_word_list(elements['region_name'], ElementType.REGION))\n",
    "        res+= to_typed_word_list(elements['region_type_name'], ElementType.REGION_TYPE)\n",
    "    \n",
    "    if comma_sep_proba>random.random():\n",
    "        last_typed_word = res[-1]\n",
    "        last_typed_word.word = last_typed_word.word + ','\n",
    "\n",
    "    if type_first_proba>random.random():\n",
    "        res+= to_typed_word_list(elements['area_type_name'], ElementType.AREA_TYPE)\n",
    "        res+= to_typed_word_list(elements['area_name'], ElementType.AREA)\n",
    "    else:\n",
    "        res+= to_typed_word_list(elements['area_name'], ElementType.AREA)\n",
    "        res+= to_typed_word_list(elements['area_type_name'], ElementType.AREA_TYPE)\n",
    "\n",
    "    if comma_sep_proba>random.random():\n",
    "        last_typed_word = res[-1]\n",
    "        last_typed_word.word = last_typed_word.word + ','\n",
    "\n",
    "    if type_first_proba>random.random():\n",
    "        res+= to_typed_word_list(elements['city_type_name'], ElementType.CITY_TYPE)\n",
    "        res+= to_typed_word_list(elements['city_name'], ElementType.CITY)\n",
    "    else:\n",
    "        res+= to_typed_word_list(elements['city_name'], ElementType.CITY)\n",
    "        res+= to_typed_word_list(elements['city_type_name'], ElementType.CITY_TYPE)\n",
    "\n",
    "    if comma_sep_proba>random.random():\n",
    "        last_typed_word = res[-1]\n",
    "        last_typed_word.word = last_typed_word.word + ','\n",
    "        \n",
    "    if type_first_proba>random.random():\n",
    "        res+= to_typed_word_list(elements['territory_type_name'], ElementType.TERRITORY_TYPE)\n",
    "        res+= to_typed_word_list(elements['territory_name'], ElementType.TERRITORY)\n",
    "    else:\n",
    "        res+= to_typed_word_list(elements['territory_name'], ElementType.TERRITORY)\n",
    "        res+= to_typed_word_list(elements['territory_type_name'], ElementType.TERRITORY_TYPE)\n",
    "\n",
    "    if comma_sep_proba>random.random():\n",
    "        last_typed_word = res[-1]\n",
    "        last_typed_word.word = last_typed_word.word + ','    \n",
    "        \n",
    "    if type_first_proba>random.random():\n",
    "        res+= to_typed_word_list(elements['street_type_name'], ElementType.STREET_TYPE)\n",
    "        res+= to_typed_word_list(elements['street_name'], ElementType.STREET)\n",
    "    else:\n",
    "        res+= to_typed_word_list(elements['street_name'], ElementType.STREET)\n",
    "        res+= to_typed_word_list(elements['street_type_name'], ElementType.STREET_TYPE)\n",
    "\n",
    "    if comma_sep_proba>random.random():\n",
    "        last_typed_word = res[-1]\n",
    "        last_typed_word.word = last_typed_word.word + ','\n",
    "\n",
    "    return res\n",
    "\n",
    "\n",
    "elements = df.sample().to_dict('records')\n",
    "convert_address_elements(elements[0])"
   ],
   "id": "bdca3783a6f219ef",
   "outputs": [
    {
     "data": {
      "text/plain": [
       "[Ленинградская:REGION,\n",
       " Область:REGION_TYPE,\n",
       " Район:AREA_TYPE,\n",
       " Приозерский,:AREA,\n",
       " Поселок:CITY_TYPE,\n",
       " Сосново,,:CITY,\n",
       " Переулок:STREET_TYPE,\n",
       " Лесной,:STREET]"
      ]
     },
     "execution_count": 58,
     "metadata": {},
     "output_type": "execute_result"
    }
   ],
   "execution_count": 58
  },
  {
   "metadata": {
    "ExecuteTime": {
     "end_time": "2024-05-12T13:39:01.892659Z",
     "start_time": "2024-05-12T13:39:01.797180Z"
    }
   },
   "cell_type": "code",
   "source": [
    "sample_typed_words = convert_address_elements(df.sample().to_dict('records')[0])\n",
    "sample_typed_words"
   ],
   "id": "e68e66593632f9b",
   "outputs": [
    {
     "data": {
      "text/plain": [
       "[Область:REGION_TYPE,\n",
       " Московская,:REGION,\n",
       " Город:AREA_TYPE,\n",
       " Дмитров,:AREA,\n",
       " Рабочий:CITY_TYPE,\n",
       " поселок:CITY_TYPE,\n",
       " Некрасовский:CITY,\n",
       " Территория:TERRITORY_TYPE,\n",
       " Лесная:TERRITORY,\n",
       " поляна,:TERRITORY]"
      ]
     },
     "execution_count": 59,
     "metadata": {},
     "output_type": "execute_result"
    }
   ],
   "execution_count": 59
  },
  {
   "metadata": {
    "ExecuteTime": {
     "end_time": "2024-05-12T11:44:01.705356Z",
     "start_time": "2024-05-12T11:44:01.697713Z"
    }
   },
   "cell_type": "code",
   "source": [
    "char_aug = CharAug(\n",
    "    unit_prob=0.05, # Percentage of the phrase to which augmentations will be applied\n",
    "    min_aug=0, # Minimum number of augmentations\n",
    "    max_aug=3, # Maximum number of augmentations\n",
    "    mult_num=3, # Maximum number of repetitions of characters (only for the multiply method)\n",
    "    random_seed=42,\n",
    "    lang=\"rus\", # supports: \"rus\", \"eng\"\n",
    "    platform=\"pc\", # supports: \"pc\", \"mobile\"\n",
    ")\n"
   ],
   "id": "59962cd9b59c1f8f",
   "outputs": [],
   "execution_count": 48
  },
  {
   "metadata": {
    "ExecuteTime": {
     "end_time": "2024-05-12T11:44:03.555367Z",
     "start_time": "2024-05-12T11:44:03.548649Z"
    }
   },
   "cell_type": "code",
   "source": [
    "text = 'Автодорога Москва-Казань'\n",
    "char_aug.augment(text=text)"
   ],
   "id": "6faf35f56ac243da",
   "outputs": [
    {
     "data": {
      "text/plain": [
       "'Автодорога Москва-Казыань'"
      ]
     },
     "execution_count": 49,
     "metadata": {},
     "output_type": "execute_result"
    }
   ],
   "execution_count": 49
  },
  {
   "metadata": {},
   "cell_type": "code",
   "outputs": [],
   "execution_count": null,
   "source": "",
   "id": "bdd3db77873b8949"
  },
  {
   "metadata": {},
   "cell_type": "markdown",
   "source": "Обратная задача. Представление списка TypedWords в виде списка слов или списка типов адресо-образующих элементов",
   "id": "b31291c992e1f81b"
  },
  {
   "metadata": {
    "ExecuteTime": {
     "end_time": "2024-05-12T13:50:22.346614Z",
     "start_time": "2024-05-12T13:50:22.334475Z"
    }
   },
   "cell_type": "code",
   "source": [
    "def typed_words_to_words(input:list):\n",
    "    words = []\n",
    "    for element in input:\n",
    "        words.append(element.word)\n",
    "    return words    "
   ],
   "id": "66e2a79e321e09a5",
   "outputs": [],
   "execution_count": 60
  },
  {
   "metadata": {
    "ExecuteTime": {
     "end_time": "2024-05-12T13:50:23.881771Z",
     "start_time": "2024-05-12T13:50:23.878277Z"
    }
   },
   "cell_type": "code",
   "source": [
    "def typed_words_to_type_codes(input:list):\n",
    "    type_codes = []\n",
    "    for element in input:\n",
    "        type_codes.append(element.type.value)\n",
    "    return type_codes    "
   ],
   "id": "afed744358422f6d",
   "outputs": [],
   "execution_count": 61
  },
  {
   "metadata": {},
   "cell_type": "markdown",
   "source": [
    "# Генерация нового датасета\n",
    "## Новые колонки - tokens и classes"
   ],
   "id": "92d8ff23957a93d6"
  },
  {
   "metadata": {
    "ExecuteTime": {
     "end_time": "2024-05-12T13:52:59.830316Z",
     "start_time": "2024-05-12T13:50:25.813873Z"
    }
   },
   "cell_type": "code",
   "source": [
    "df['typed_words'] = df.apply(convert_address_elements, axis=1)\n",
    "df['tokens'] = df.apply(lambda row: typed_words_to_words(row.typed_words),  axis=1)\n",
    "df['classes'] = df.apply(lambda row: typed_words_to_type_codes(row.typed_words),  axis=1)"
   ],
   "id": "52975afd7505305c",
   "outputs": [],
   "execution_count": 62
  },
  {
   "metadata": {},
   "cell_type": "markdown",
   "source": "## Конструирование нового dataframe ",
   "id": "acb725c4c5d90ed2"
  },
  {
   "metadata": {
    "ExecuteTime": {
     "end_time": "2024-05-09T06:20:00.865985Z",
     "start_time": "2024-05-09T06:20:00.765055Z"
    }
   },
   "cell_type": "code",
   "source": "df_token_with_classes = df[['tokens','classes']]",
   "id": "f6c66bd2ff1a1527",
   "outputs": [],
   "execution_count": 18
  },
  {
   "metadata": {},
   "cell_type": "markdown",
   "source": "## Сохранение на диск",
   "id": "6a7b38beb5dc8a30"
  },
  {
   "metadata": {
    "ExecuteTime": {
     "end_time": "2024-05-09T06:20:03.290263Z",
     "start_time": "2024-05-09T06:20:00.868384Z"
    }
   },
   "cell_type": "code",
   "source": "df_token_with_classes.to_pickle('./df_token_with_classes.pkl')",
   "id": "b5ae111aa1d8a0c3",
   "outputs": [],
   "execution_count": 19
  },
  {
   "metadata": {
    "ExecuteTime": {
     "end_time": "2024-05-09T06:20:06.522778Z",
     "start_time": "2024-05-09T06:20:03.295814Z"
    }
   },
   "cell_type": "code",
   "source": "!zip archive_pkl.zip ./df_token_with_classes.pkl  ",
   "id": "cdacf6c212cee260",
   "outputs": [
    {
     "name": "stdout",
     "output_type": "stream",
     "text": [
      "  adding: df_token_with_classes.pkl (deflated 90%)\r\n"
     ]
    }
   ],
   "execution_count": 20
  }
 ],
 "metadata": {
  "kernelspec": {
   "display_name": "Python 3",
   "language": "python",
   "name": "python3"
  },
  "language_info": {
   "codemirror_mode": {
    "name": "ipython",
    "version": 2
   },
   "file_extension": ".py",
   "mimetype": "text/x-python",
   "name": "python",
   "nbconvert_exporter": "python",
   "pygments_lexer": "ipython2",
   "version": "2.7.6"
  }
 },
 "nbformat": 4,
 "nbformat_minor": 5
}
