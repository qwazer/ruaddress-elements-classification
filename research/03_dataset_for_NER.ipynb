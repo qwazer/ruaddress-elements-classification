{
 "cells": [
  {
   "metadata": {},
   "cell_type": "markdown",
   "source": "# Разметка данных",
   "id": "5d544189ce9d8b"
  },
  {
   "metadata": {},
   "cell_type": "markdown",
   "source": "# Пакеты",
   "id": "4fda22c3b6b2d680"
  },
  {
   "metadata": {
    "ExecuteTime": {
     "end_time": "2024-05-09T03:18:44.724074Z",
     "start_time": "2024-05-09T03:18:43.690375Z"
    }
   },
   "cell_type": "code",
   "source": [
    "import pandas as pd\n",
    "from enum import Enum\n",
    "from datasets import Dataset, DatasetDict"
   ],
   "id": "b9c8c7e93bf97f90",
   "outputs": [],
   "execution_count": 1
  },
  {
   "metadata": {
    "ExecuteTime": {
     "end_time": "2024-05-09T03:19:57.526653Z",
     "start_time": "2024-05-09T03:19:53.195963Z"
    }
   },
   "cell_type": "code",
   "source": [
    "df = pd.read_csv(\"places_address_elements.csv\")\n",
    "df = df.fillna('')"
   ],
   "id": "1008eace1928f527",
   "outputs": [],
   "execution_count": 4
  },
  {
   "metadata": {
    "ExecuteTime": {
     "end_time": "2024-05-09T03:20:00.826232Z",
     "start_time": "2024-05-09T03:20:00.806005Z"
    }
   },
   "cell_type": "code",
   "source": "df",
   "id": "4e164d07c622195",
   "outputs": [
    {
     "data": {
      "text/plain": [
       "                  region_name region_type_name region_type_name_short  \\\n",
       "0                      Адыгея       Республика                   Респ   \n",
       "1                Башкортостан       Республика                   Респ   \n",
       "2                       Алтай       Республика                   Респ   \n",
       "3        Кабардино-Балкарская       Республика                   Респ   \n",
       "4                    Калмыкия       Республика                   Респ   \n",
       "...                       ...              ...                    ...   \n",
       "1519314         Краснодарский             Край                   край   \n",
       "1519315         Краснодарский             Край                   край   \n",
       "1519316         Краснодарский             Край                   край   \n",
       "1519317         Краснодарский             Край                   край   \n",
       "1519318         Краснодарский             Край                   край   \n",
       "\n",
       "          area_name area_type_name area_type_name_short city_name  \\\n",
       "0                                                                   \n",
       "1                                                                   \n",
       "2                                                                   \n",
       "3                                                                   \n",
       "4                                                                   \n",
       "...             ...            ...                  ...       ...   \n",
       "1519314  Тихорецкий          Район                  р-н  Тихорецк   \n",
       "1519315  Тихорецкий          Район                  р-н  Тихорецк   \n",
       "1519316  Тихорецкий          Район                  р-н  Тихорецк   \n",
       "1519317  Тихорецкий          Район                  р-н  Тихорецк   \n",
       "1519318  Тихорецкий          Район                  р-н  Тихорецк   \n",
       "\n",
       "        city_type_name city_type_name_short territory_name  \\\n",
       "0                                                            \n",
       "1                                                            \n",
       "2                                                            \n",
       "3                                                            \n",
       "4                                                            \n",
       "...                ...                  ...            ...   \n",
       "1519314          Город                    г     Западный-4   \n",
       "1519315          Город                    г     Западный-4   \n",
       "1519316          Город                    г     Западный-4   \n",
       "1519317          Город                    г     Западный-4   \n",
       "1519318          Город                    г     Западный-5   \n",
       "\n",
       "        territory_type_name territory_type_name_short  street_name  \\\n",
       "0                                                                    \n",
       "1                                                                    \n",
       "2                                                                    \n",
       "3                                                                    \n",
       "4                                                                    \n",
       "...                     ...                       ...          ...   \n",
       "1519314      Территория СНТ                  тер. СНТ    Малиновая   \n",
       "1519315      Территория СНТ                  тер. СНТ   Персиковая   \n",
       "1519316      Территория СНТ                  тер. СНТ    Яблоневая   \n",
       "1519317      Территория СНТ                  тер. СНТ      Садовая   \n",
       "1519318      Территория СНТ                  тер. СНТ  Виноградная   \n",
       "\n",
       "        street_type_name street_type_name_short  \n",
       "0                                                \n",
       "1                                                \n",
       "2                                                \n",
       "3                                                \n",
       "4                                                \n",
       "...                  ...                    ...  \n",
       "1519314            Улица                    ул.  \n",
       "1519315            Улица                    ул.  \n",
       "1519316            Улица                    ул.  \n",
       "1519317            Улица                    ул.  \n",
       "1519318            Улица                    ул.  \n",
       "\n",
       "[1519319 rows x 15 columns]"
      ],
      "text/html": [
       "<div>\n",
       "<style scoped>\n",
       "    .dataframe tbody tr th:only-of-type {\n",
       "        vertical-align: middle;\n",
       "    }\n",
       "\n",
       "    .dataframe tbody tr th {\n",
       "        vertical-align: top;\n",
       "    }\n",
       "\n",
       "    .dataframe thead th {\n",
       "        text-align: right;\n",
       "    }\n",
       "</style>\n",
       "<table border=\"1\" class=\"dataframe\">\n",
       "  <thead>\n",
       "    <tr style=\"text-align: right;\">\n",
       "      <th></th>\n",
       "      <th>region_name</th>\n",
       "      <th>region_type_name</th>\n",
       "      <th>region_type_name_short</th>\n",
       "      <th>area_name</th>\n",
       "      <th>area_type_name</th>\n",
       "      <th>area_type_name_short</th>\n",
       "      <th>city_name</th>\n",
       "      <th>city_type_name</th>\n",
       "      <th>city_type_name_short</th>\n",
       "      <th>territory_name</th>\n",
       "      <th>territory_type_name</th>\n",
       "      <th>territory_type_name_short</th>\n",
       "      <th>street_name</th>\n",
       "      <th>street_type_name</th>\n",
       "      <th>street_type_name_short</th>\n",
       "    </tr>\n",
       "  </thead>\n",
       "  <tbody>\n",
       "    <tr>\n",
       "      <th>0</th>\n",
       "      <td>Адыгея</td>\n",
       "      <td>Республика</td>\n",
       "      <td>Респ</td>\n",
       "      <td></td>\n",
       "      <td></td>\n",
       "      <td></td>\n",
       "      <td></td>\n",
       "      <td></td>\n",
       "      <td></td>\n",
       "      <td></td>\n",
       "      <td></td>\n",
       "      <td></td>\n",
       "      <td></td>\n",
       "      <td></td>\n",
       "      <td></td>\n",
       "    </tr>\n",
       "    <tr>\n",
       "      <th>1</th>\n",
       "      <td>Башкортостан</td>\n",
       "      <td>Республика</td>\n",
       "      <td>Респ</td>\n",
       "      <td></td>\n",
       "      <td></td>\n",
       "      <td></td>\n",
       "      <td></td>\n",
       "      <td></td>\n",
       "      <td></td>\n",
       "      <td></td>\n",
       "      <td></td>\n",
       "      <td></td>\n",
       "      <td></td>\n",
       "      <td></td>\n",
       "      <td></td>\n",
       "    </tr>\n",
       "    <tr>\n",
       "      <th>2</th>\n",
       "      <td>Алтай</td>\n",
       "      <td>Республика</td>\n",
       "      <td>Респ</td>\n",
       "      <td></td>\n",
       "      <td></td>\n",
       "      <td></td>\n",
       "      <td></td>\n",
       "      <td></td>\n",
       "      <td></td>\n",
       "      <td></td>\n",
       "      <td></td>\n",
       "      <td></td>\n",
       "      <td></td>\n",
       "      <td></td>\n",
       "      <td></td>\n",
       "    </tr>\n",
       "    <tr>\n",
       "      <th>3</th>\n",
       "      <td>Кабардино-Балкарская</td>\n",
       "      <td>Республика</td>\n",
       "      <td>Респ</td>\n",
       "      <td></td>\n",
       "      <td></td>\n",
       "      <td></td>\n",
       "      <td></td>\n",
       "      <td></td>\n",
       "      <td></td>\n",
       "      <td></td>\n",
       "      <td></td>\n",
       "      <td></td>\n",
       "      <td></td>\n",
       "      <td></td>\n",
       "      <td></td>\n",
       "    </tr>\n",
       "    <tr>\n",
       "      <th>4</th>\n",
       "      <td>Калмыкия</td>\n",
       "      <td>Республика</td>\n",
       "      <td>Респ</td>\n",
       "      <td></td>\n",
       "      <td></td>\n",
       "      <td></td>\n",
       "      <td></td>\n",
       "      <td></td>\n",
       "      <td></td>\n",
       "      <td></td>\n",
       "      <td></td>\n",
       "      <td></td>\n",
       "      <td></td>\n",
       "      <td></td>\n",
       "      <td></td>\n",
       "    </tr>\n",
       "    <tr>\n",
       "      <th>...</th>\n",
       "      <td>...</td>\n",
       "      <td>...</td>\n",
       "      <td>...</td>\n",
       "      <td>...</td>\n",
       "      <td>...</td>\n",
       "      <td>...</td>\n",
       "      <td>...</td>\n",
       "      <td>...</td>\n",
       "      <td>...</td>\n",
       "      <td>...</td>\n",
       "      <td>...</td>\n",
       "      <td>...</td>\n",
       "      <td>...</td>\n",
       "      <td>...</td>\n",
       "      <td>...</td>\n",
       "    </tr>\n",
       "    <tr>\n",
       "      <th>1519314</th>\n",
       "      <td>Краснодарский</td>\n",
       "      <td>Край</td>\n",
       "      <td>край</td>\n",
       "      <td>Тихорецкий</td>\n",
       "      <td>Район</td>\n",
       "      <td>р-н</td>\n",
       "      <td>Тихорецк</td>\n",
       "      <td>Город</td>\n",
       "      <td>г</td>\n",
       "      <td>Западный-4</td>\n",
       "      <td>Территория СНТ</td>\n",
       "      <td>тер. СНТ</td>\n",
       "      <td>Малиновая</td>\n",
       "      <td>Улица</td>\n",
       "      <td>ул.</td>\n",
       "    </tr>\n",
       "    <tr>\n",
       "      <th>1519315</th>\n",
       "      <td>Краснодарский</td>\n",
       "      <td>Край</td>\n",
       "      <td>край</td>\n",
       "      <td>Тихорецкий</td>\n",
       "      <td>Район</td>\n",
       "      <td>р-н</td>\n",
       "      <td>Тихорецк</td>\n",
       "      <td>Город</td>\n",
       "      <td>г</td>\n",
       "      <td>Западный-4</td>\n",
       "      <td>Территория СНТ</td>\n",
       "      <td>тер. СНТ</td>\n",
       "      <td>Персиковая</td>\n",
       "      <td>Улица</td>\n",
       "      <td>ул.</td>\n",
       "    </tr>\n",
       "    <tr>\n",
       "      <th>1519316</th>\n",
       "      <td>Краснодарский</td>\n",
       "      <td>Край</td>\n",
       "      <td>край</td>\n",
       "      <td>Тихорецкий</td>\n",
       "      <td>Район</td>\n",
       "      <td>р-н</td>\n",
       "      <td>Тихорецк</td>\n",
       "      <td>Город</td>\n",
       "      <td>г</td>\n",
       "      <td>Западный-4</td>\n",
       "      <td>Территория СНТ</td>\n",
       "      <td>тер. СНТ</td>\n",
       "      <td>Яблоневая</td>\n",
       "      <td>Улица</td>\n",
       "      <td>ул.</td>\n",
       "    </tr>\n",
       "    <tr>\n",
       "      <th>1519317</th>\n",
       "      <td>Краснодарский</td>\n",
       "      <td>Край</td>\n",
       "      <td>край</td>\n",
       "      <td>Тихорецкий</td>\n",
       "      <td>Район</td>\n",
       "      <td>р-н</td>\n",
       "      <td>Тихорецк</td>\n",
       "      <td>Город</td>\n",
       "      <td>г</td>\n",
       "      <td>Западный-4</td>\n",
       "      <td>Территория СНТ</td>\n",
       "      <td>тер. СНТ</td>\n",
       "      <td>Садовая</td>\n",
       "      <td>Улица</td>\n",
       "      <td>ул.</td>\n",
       "    </tr>\n",
       "    <tr>\n",
       "      <th>1519318</th>\n",
       "      <td>Краснодарский</td>\n",
       "      <td>Край</td>\n",
       "      <td>край</td>\n",
       "      <td>Тихорецкий</td>\n",
       "      <td>Район</td>\n",
       "      <td>р-н</td>\n",
       "      <td>Тихорецк</td>\n",
       "      <td>Город</td>\n",
       "      <td>г</td>\n",
       "      <td>Западный-5</td>\n",
       "      <td>Территория СНТ</td>\n",
       "      <td>тер. СНТ</td>\n",
       "      <td>Виноградная</td>\n",
       "      <td>Улица</td>\n",
       "      <td>ул.</td>\n",
       "    </tr>\n",
       "  </tbody>\n",
       "</table>\n",
       "<p>1519319 rows × 15 columns</p>\n",
       "</div>"
      ]
     },
     "execution_count": 5,
     "metadata": {},
     "output_type": "execute_result"
    }
   ],
   "execution_count": 5
  },
  {
   "metadata": {},
   "cell_type": "markdown",
   "source": "# Словарь ElementType ",
   "id": "bcacfc0eb95924bc"
  },
  {
   "metadata": {
    "ExecuteTime": {
     "end_time": "2024-05-09T03:20:08.610297Z",
     "start_time": "2024-05-09T03:20:08.601145Z"
    }
   },
   "cell_type": "code",
   "source": [
    "\n",
    "class ElementType(Enum):\n",
    "    OTHER = 0\n",
    "    REGION=1\n",
    "    REGION_TYPE=2\n",
    "    AREA=3\n",
    "    AREA_TYPE=4\n",
    "    TERRITORY=5\n",
    "    TERRITORY_TYPE=6\n",
    "    CITY=7\n",
    "    CITY_TYPE=8\n",
    "    STREET=9\n",
    "    STREET_TYPE=10\n"
   ],
   "id": "749db5a01021d8d7",
   "outputs": [],
   "execution_count": 6
  },
  {
   "metadata": {
    "ExecuteTime": {
     "end_time": "2024-05-09T03:39:11.354425Z",
     "start_time": "2024-05-09T03:39:11.349664Z"
    }
   },
   "cell_type": "code",
   "source": [
    "e = ElementType.OTHER\n",
    "e.value"
   ],
   "id": "817faeb8527448c7",
   "outputs": [
    {
     "data": {
      "text/plain": [
       "0"
      ]
     },
     "execution_count": 21,
     "metadata": {},
     "output_type": "execute_result"
    }
   ],
   "execution_count": 21
  },
  {
   "metadata": {},
   "cell_type": "markdown",
   "source": "# Представление адреса в виде типизированных слов-токенов",
   "id": "e260a21f8b69fa25"
  },
  {
   "metadata": {},
   "cell_type": "markdown",
   "source": "Разбиение адреса на слова-токены:",
   "id": "aa8acb702073652e"
  },
  {
   "metadata": {
    "ExecuteTime": {
     "end_time": "2024-05-09T03:20:26.146996Z",
     "start_time": "2024-05-09T03:20:26.136803Z"
    }
   },
   "cell_type": "code",
   "source": [
    "str ='Алтайский Край, Залесовский Район, Залесово Село, автодорога Мартыново-Тогул-Залесово Территория, 151-й Километр'\n",
    "tokens = str.split(' ')\n",
    "tokens"
   ],
   "id": "44039c8ca1a6c761",
   "outputs": [
    {
     "data": {
      "text/plain": [
       "['Алтайский',\n",
       " 'Край,',\n",
       " 'Залесовский',\n",
       " 'Район,',\n",
       " 'Залесово',\n",
       " 'Село,',\n",
       " 'автодорога',\n",
       " 'Мартыново-Тогул-Залесово',\n",
       " 'Территория,',\n",
       " '151-й',\n",
       " 'Километр']"
      ]
     },
     "execution_count": 7,
     "metadata": {},
     "output_type": "execute_result"
    }
   ],
   "execution_count": 7
  },
  {
   "metadata": {},
   "cell_type": "markdown",
   "source": "Проставим каждому токену тип. Для этого введем класс TypedWord",
   "id": "6fc7f49957ea4ca5"
  },
  {
   "metadata": {
    "ExecuteTime": {
     "end_time": "2024-05-09T03:20:35.604277Z",
     "start_time": "2024-05-09T03:20:35.594786Z"
    }
   },
   "cell_type": "code",
   "source": [
    "class TypedWord:\n",
    "    word = ''\n",
    "    type = ElementType.OTHER\n",
    "    def __init__(self, word:str, type:ElementType):\n",
    "        self.word = word\n",
    "        self.type = type\n",
    "    \n",
    "    def __repr__(self):\n",
    "        return self.word + \":\" + self.type.name"
   ],
   "id": "4e63fb63aa956f58",
   "outputs": [],
   "execution_count": 8
  },
  {
   "metadata": {},
   "cell_type": "markdown",
   "source": "### Функция конвертации набора адресо-образующих элементов в TypedWords",
   "id": "7c41d46e6ddf5661"
  },
  {
   "metadata": {
    "ExecuteTime": {
     "end_time": "2024-05-09T03:26:35.262608Z",
     "start_time": "2024-05-09T03:26:35.250809Z"
    }
   },
   "cell_type": "code",
   "source": [
    "def to_typed_word_list(input , elementType :ElementType  ) -> list:\n",
    "    words = list(filter(('').__ne__, input.split(' ')))\n",
    "    res = list()\n",
    "    for word in words:\n",
    "        res.append(TypedWord(word, elementType))\n",
    "    return res\n",
    "\n",
    "\n",
    "def convert_address_elements(elements: dict):\n",
    "    return (to_typed_word_list(elements['region_name'], ElementType.REGION) +\n",
    "            to_typed_word_list(elements['region_type_name'], ElementType.REGION_TYPE) +\n",
    "            to_typed_word_list(elements['area_name'], ElementType.AREA) +\n",
    "            to_typed_word_list(elements['area_type_name'], ElementType.AREA_TYPE) +\n",
    "            to_typed_word_list(elements['city_name'], ElementType.CITY) +\n",
    "            to_typed_word_list(elements['city_type_name'], ElementType.CITY_TYPE) +\n",
    "            to_typed_word_list(elements['territory_name'], ElementType.TERRITORY) +\n",
    "            to_typed_word_list(elements['territory_type_name'], ElementType.TERRITORY_TYPE) +\n",
    "            to_typed_word_list(elements['street_name'], ElementType.STREET) +\n",
    "            to_typed_word_list(elements['street_type_name'], ElementType.STREET_TYPE)\n",
    "            )\n",
    "\n",
    "# elements = df.sample().to_dict('records')\n",
    "# convert_address_elements(elements[0])"
   ],
   "id": "bdca3783a6f219ef",
   "outputs": [],
   "execution_count": 14
  },
  {
   "metadata": {
    "ExecuteTime": {
     "end_time": "2024-05-09T03:31:30.115165Z",
     "start_time": "2024-05-09T03:31:30.047519Z"
    }
   },
   "cell_type": "code",
   "source": [
    "sample_typed_words = convert_address_elements(df.sample().to_dict('records')[0])\n",
    "sample_typed_words"
   ],
   "id": "e68e66593632f9b",
   "outputs": [
    {
     "data": {
      "text/plain": [
       "[Псковская:REGION,\n",
       " Область:REGION_TYPE,\n",
       " Великолукский:AREA,\n",
       " Район:AREA_TYPE,\n",
       " Готрово:CITY,\n",
       " Деревня:CITY_TYPE]"
      ]
     },
     "execution_count": 16,
     "metadata": {},
     "output_type": "execute_result"
    }
   ],
   "execution_count": 16
  },
  {
   "metadata": {},
   "cell_type": "markdown",
   "source": "# TypedWord list to tokens and ner_tags",
   "id": "644e3c26b48cfc30"
  },
  {
   "metadata": {
    "ExecuteTime": {
     "end_time": "2024-05-09T03:36:04.407552Z",
     "start_time": "2024-05-09T03:36:04.403542Z"
    }
   },
   "cell_type": "code",
   "source": [
    "class AddressTransform:\n",
    "    # p - is probability to apply transform\n",
    "    def __init__(self, p):\n",
    "        self.proba = p\n",
    "\n",
    "    def transform(self, input) -> list:\n",
    "        return None"
   ],
   "id": "a7cf8b9a7833da79",
   "outputs": [],
   "execution_count": 18
  },
  {
   "metadata": {
    "ExecuteTime": {
     "end_time": "2024-05-09T03:40:13.405289Z",
     "start_time": "2024-05-09T03:40:13.401244Z"
    }
   },
   "cell_type": "code",
   "source": [
    "class SimpleAddressTransform(AddressTransform):\n",
    "    def transform(self, input:list) -> tuple:\n",
    "        words = []\n",
    "        type_codes = []\n",
    "        for element in input:\n",
    "            words.append(element.word)\n",
    "            type_codes.append(element.type.value)\n",
    "        return words, type_codes       "
   ],
   "id": "66800168a93d28b4",
   "outputs": [],
   "execution_count": 23
  },
  {
   "metadata": {
    "ExecuteTime": {
     "end_time": "2024-05-09T03:40:14.754003Z",
     "start_time": "2024-05-09T03:40:14.749014Z"
    }
   },
   "cell_type": "code",
   "source": [
    "transform = SimpleAddressTransform(1)\n",
    "transform.transform(sample_typed_words)"
   ],
   "id": "f0f37d614bad7206",
   "outputs": [
    {
     "data": {
      "text/plain": [
       "(['Псковская', 'Область', 'Великолукский', 'Район', 'Готрово', 'Деревня'],\n",
       " [1, 2, 3, 4, 7, 8])"
      ]
     },
     "execution_count": 24,
     "metadata": {},
     "output_type": "execute_result"
    }
   ],
   "execution_count": 24
  },
  {
   "metadata": {
    "ExecuteTime": {
     "end_time": "2024-05-09T03:46:23.218248Z",
     "start_time": "2024-05-09T03:46:23.214205Z"
    }
   },
   "cell_type": "code",
   "source": [
    "def typed_words_to_words(input:list):\n",
    "    words = []\n",
    "    for element in input:\n",
    "        words.append(element.word)\n",
    "    return words    "
   ],
   "id": "66e2a79e321e09a5",
   "outputs": [],
   "execution_count": 28
  },
  {
   "metadata": {
    "ExecuteTime": {
     "end_time": "2024-05-09T03:46:24.777036Z",
     "start_time": "2024-05-09T03:46:24.773391Z"
    }
   },
   "cell_type": "code",
   "source": [
    "def typed_words_to_type_codes(input:list):\n",
    "    type_codes = []\n",
    "    for element in input:\n",
    "        type_codes.append(element.type.value)\n",
    "    return type_codes    "
   ],
   "id": "afed744358422f6d",
   "outputs": [],
   "execution_count": 29
  },
  {
   "metadata": {},
   "cell_type": "markdown",
   "source": "## Appply to dataframe",
   "id": "92d8ff23957a93d6"
  },
  {
   "metadata": {
    "ExecuteTime": {
     "end_time": "2024-05-09T03:53:30.883182Z",
     "start_time": "2024-05-09T03:51:25.189720Z"
    }
   },
   "cell_type": "code",
   "source": [
    "df['typed_words'] = df.apply(convert_address_elements, axis=1)\n",
    "df['words'] = df.apply(lambda row: typed_words_to_words(row.typed_words),  axis=1)\n",
    "df['type_codes'] = df.apply(lambda row: typed_words_to_type_codes(row.typed_words),  axis=1)"
   ],
   "id": "52975afd7505305c",
   "outputs": [],
   "execution_count": 32
  },
  {
   "metadata": {
    "ExecuteTime": {
     "end_time": "2024-05-09T03:58:26.731473Z",
     "start_time": "2024-05-09T03:58:26.685866Z"
    }
   },
   "cell_type": "code",
   "source": "df",
   "id": "c7dca465687531",
   "outputs": [
    {
     "data": {
      "text/plain": [
       "                  region_name region_type_name region_type_name_short  \\\n",
       "0                      Адыгея       Республика                   Респ   \n",
       "1                Башкортостан       Республика                   Респ   \n",
       "2                       Алтай       Республика                   Респ   \n",
       "3        Кабардино-Балкарская       Республика                   Респ   \n",
       "4                    Калмыкия       Республика                   Респ   \n",
       "...                       ...              ...                    ...   \n",
       "1519314         Краснодарский             Край                   край   \n",
       "1519315         Краснодарский             Край                   край   \n",
       "1519316         Краснодарский             Край                   край   \n",
       "1519317         Краснодарский             Край                   край   \n",
       "1519318         Краснодарский             Край                   край   \n",
       "\n",
       "          area_name area_type_name area_type_name_short city_name  \\\n",
       "0                                                                   \n",
       "1                                                                   \n",
       "2                                                                   \n",
       "3                                                                   \n",
       "4                                                                   \n",
       "...             ...            ...                  ...       ...   \n",
       "1519314  Тихорецкий          Район                  р-н  Тихорецк   \n",
       "1519315  Тихорецкий          Район                  р-н  Тихорецк   \n",
       "1519316  Тихорецкий          Район                  р-н  Тихорецк   \n",
       "1519317  Тихорецкий          Район                  р-н  Тихорецк   \n",
       "1519318  Тихорецкий          Район                  р-н  Тихорецк   \n",
       "\n",
       "        city_type_name city_type_name_short territory_name  \\\n",
       "0                                                            \n",
       "1                                                            \n",
       "2                                                            \n",
       "3                                                            \n",
       "4                                                            \n",
       "...                ...                  ...            ...   \n",
       "1519314          Город                    г     Западный-4   \n",
       "1519315          Город                    г     Западный-4   \n",
       "1519316          Город                    г     Западный-4   \n",
       "1519317          Город                    г     Западный-4   \n",
       "1519318          Город                    г     Западный-5   \n",
       "\n",
       "        territory_type_name territory_type_name_short  street_name  \\\n",
       "0                                                                    \n",
       "1                                                                    \n",
       "2                                                                    \n",
       "3                                                                    \n",
       "4                                                                    \n",
       "...                     ...                       ...          ...   \n",
       "1519314      Территория СНТ                  тер. СНТ    Малиновая   \n",
       "1519315      Территория СНТ                  тер. СНТ   Персиковая   \n",
       "1519316      Территория СНТ                  тер. СНТ    Яблоневая   \n",
       "1519317      Территория СНТ                  тер. СНТ      Садовая   \n",
       "1519318      Территория СНТ                  тер. СНТ  Виноградная   \n",
       "\n",
       "        street_type_name street_type_name_short  \\\n",
       "0                                                 \n",
       "1                                                 \n",
       "2                                                 \n",
       "3                                                 \n",
       "4                                                 \n",
       "...                  ...                    ...   \n",
       "1519314            Улица                    ул.   \n",
       "1519315            Улица                    ул.   \n",
       "1519316            Улица                    ул.   \n",
       "1519317            Улица                    ул.   \n",
       "1519318            Улица                    ул.   \n",
       "\n",
       "                                               typed_words  \\\n",
       "0                  [Адыгея:REGION, Республика:REGION_TYPE]   \n",
       "1            [Башкортостан:REGION, Республика:REGION_TYPE]   \n",
       "2                   [Алтай:REGION, Республика:REGION_TYPE]   \n",
       "3        [Кабардино-Балкарская:REGION, Республика:REGIO...   \n",
       "4                [Калмыкия:REGION, Республика:REGION_TYPE]   \n",
       "...                                                    ...   \n",
       "1519314  [Краснодарский:REGION, Край:REGION_TYPE, Тихор...   \n",
       "1519315  [Краснодарский:REGION, Край:REGION_TYPE, Тихор...   \n",
       "1519316  [Краснодарский:REGION, Край:REGION_TYPE, Тихор...   \n",
       "1519317  [Краснодарский:REGION, Край:REGION_TYPE, Тихор...   \n",
       "1519318  [Краснодарский:REGION, Край:REGION_TYPE, Тихор...   \n",
       "\n",
       "                                                     words  \\\n",
       "0                                     [Адыгея, Республика]   \n",
       "1                               [Башкортостан, Республика]   \n",
       "2                                      [Алтай, Республика]   \n",
       "3                       [Кабардино-Балкарская, Республика]   \n",
       "4                                   [Калмыкия, Республика]   \n",
       "...                                                    ...   \n",
       "1519314  [Краснодарский, Край, Тихорецкий, Район, Тихор...   \n",
       "1519315  [Краснодарский, Край, Тихорецкий, Район, Тихор...   \n",
       "1519316  [Краснодарский, Край, Тихорецкий, Район, Тихор...   \n",
       "1519317  [Краснодарский, Край, Тихорецкий, Район, Тихор...   \n",
       "1519318  [Краснодарский, Край, Тихорецкий, Район, Тихор...   \n",
       "\n",
       "                                 type_codes  \n",
       "0                                    [1, 2]  \n",
       "1                                    [1, 2]  \n",
       "2                                    [1, 2]  \n",
       "3                                    [1, 2]  \n",
       "4                                    [1, 2]  \n",
       "...                                     ...  \n",
       "1519314  [1, 2, 3, 4, 7, 8, 5, 6, 6, 9, 10]  \n",
       "1519315  [1, 2, 3, 4, 7, 8, 5, 6, 6, 9, 10]  \n",
       "1519316  [1, 2, 3, 4, 7, 8, 5, 6, 6, 9, 10]  \n",
       "1519317  [1, 2, 3, 4, 7, 8, 5, 6, 6, 9, 10]  \n",
       "1519318  [1, 2, 3, 4, 7, 8, 5, 6, 6, 9, 10]  \n",
       "\n",
       "[1519319 rows x 18 columns]"
      ],
      "text/html": [
       "<div>\n",
       "<style scoped>\n",
       "    .dataframe tbody tr th:only-of-type {\n",
       "        vertical-align: middle;\n",
       "    }\n",
       "\n",
       "    .dataframe tbody tr th {\n",
       "        vertical-align: top;\n",
       "    }\n",
       "\n",
       "    .dataframe thead th {\n",
       "        text-align: right;\n",
       "    }\n",
       "</style>\n",
       "<table border=\"1\" class=\"dataframe\">\n",
       "  <thead>\n",
       "    <tr style=\"text-align: right;\">\n",
       "      <th></th>\n",
       "      <th>region_name</th>\n",
       "      <th>region_type_name</th>\n",
       "      <th>region_type_name_short</th>\n",
       "      <th>area_name</th>\n",
       "      <th>area_type_name</th>\n",
       "      <th>area_type_name_short</th>\n",
       "      <th>city_name</th>\n",
       "      <th>city_type_name</th>\n",
       "      <th>city_type_name_short</th>\n",
       "      <th>territory_name</th>\n",
       "      <th>territory_type_name</th>\n",
       "      <th>territory_type_name_short</th>\n",
       "      <th>street_name</th>\n",
       "      <th>street_type_name</th>\n",
       "      <th>street_type_name_short</th>\n",
       "      <th>typed_words</th>\n",
       "      <th>words</th>\n",
       "      <th>type_codes</th>\n",
       "    </tr>\n",
       "  </thead>\n",
       "  <tbody>\n",
       "    <tr>\n",
       "      <th>0</th>\n",
       "      <td>Адыгея</td>\n",
       "      <td>Республика</td>\n",
       "      <td>Респ</td>\n",
       "      <td></td>\n",
       "      <td></td>\n",
       "      <td></td>\n",
       "      <td></td>\n",
       "      <td></td>\n",
       "      <td></td>\n",
       "      <td></td>\n",
       "      <td></td>\n",
       "      <td></td>\n",
       "      <td></td>\n",
       "      <td></td>\n",
       "      <td></td>\n",
       "      <td>[Адыгея:REGION, Республика:REGION_TYPE]</td>\n",
       "      <td>[Адыгея, Республика]</td>\n",
       "      <td>[1, 2]</td>\n",
       "    </tr>\n",
       "    <tr>\n",
       "      <th>1</th>\n",
       "      <td>Башкортостан</td>\n",
       "      <td>Республика</td>\n",
       "      <td>Респ</td>\n",
       "      <td></td>\n",
       "      <td></td>\n",
       "      <td></td>\n",
       "      <td></td>\n",
       "      <td></td>\n",
       "      <td></td>\n",
       "      <td></td>\n",
       "      <td></td>\n",
       "      <td></td>\n",
       "      <td></td>\n",
       "      <td></td>\n",
       "      <td></td>\n",
       "      <td>[Башкортостан:REGION, Республика:REGION_TYPE]</td>\n",
       "      <td>[Башкортостан, Республика]</td>\n",
       "      <td>[1, 2]</td>\n",
       "    </tr>\n",
       "    <tr>\n",
       "      <th>2</th>\n",
       "      <td>Алтай</td>\n",
       "      <td>Республика</td>\n",
       "      <td>Респ</td>\n",
       "      <td></td>\n",
       "      <td></td>\n",
       "      <td></td>\n",
       "      <td></td>\n",
       "      <td></td>\n",
       "      <td></td>\n",
       "      <td></td>\n",
       "      <td></td>\n",
       "      <td></td>\n",
       "      <td></td>\n",
       "      <td></td>\n",
       "      <td></td>\n",
       "      <td>[Алтай:REGION, Республика:REGION_TYPE]</td>\n",
       "      <td>[Алтай, Республика]</td>\n",
       "      <td>[1, 2]</td>\n",
       "    </tr>\n",
       "    <tr>\n",
       "      <th>3</th>\n",
       "      <td>Кабардино-Балкарская</td>\n",
       "      <td>Республика</td>\n",
       "      <td>Респ</td>\n",
       "      <td></td>\n",
       "      <td></td>\n",
       "      <td></td>\n",
       "      <td></td>\n",
       "      <td></td>\n",
       "      <td></td>\n",
       "      <td></td>\n",
       "      <td></td>\n",
       "      <td></td>\n",
       "      <td></td>\n",
       "      <td></td>\n",
       "      <td></td>\n",
       "      <td>[Кабардино-Балкарская:REGION, Республика:REGIO...</td>\n",
       "      <td>[Кабардино-Балкарская, Республика]</td>\n",
       "      <td>[1, 2]</td>\n",
       "    </tr>\n",
       "    <tr>\n",
       "      <th>4</th>\n",
       "      <td>Калмыкия</td>\n",
       "      <td>Республика</td>\n",
       "      <td>Респ</td>\n",
       "      <td></td>\n",
       "      <td></td>\n",
       "      <td></td>\n",
       "      <td></td>\n",
       "      <td></td>\n",
       "      <td></td>\n",
       "      <td></td>\n",
       "      <td></td>\n",
       "      <td></td>\n",
       "      <td></td>\n",
       "      <td></td>\n",
       "      <td></td>\n",
       "      <td>[Калмыкия:REGION, Республика:REGION_TYPE]</td>\n",
       "      <td>[Калмыкия, Республика]</td>\n",
       "      <td>[1, 2]</td>\n",
       "    </tr>\n",
       "    <tr>\n",
       "      <th>...</th>\n",
       "      <td>...</td>\n",
       "      <td>...</td>\n",
       "      <td>...</td>\n",
       "      <td>...</td>\n",
       "      <td>...</td>\n",
       "      <td>...</td>\n",
       "      <td>...</td>\n",
       "      <td>...</td>\n",
       "      <td>...</td>\n",
       "      <td>...</td>\n",
       "      <td>...</td>\n",
       "      <td>...</td>\n",
       "      <td>...</td>\n",
       "      <td>...</td>\n",
       "      <td>...</td>\n",
       "      <td>...</td>\n",
       "      <td>...</td>\n",
       "      <td>...</td>\n",
       "    </tr>\n",
       "    <tr>\n",
       "      <th>1519314</th>\n",
       "      <td>Краснодарский</td>\n",
       "      <td>Край</td>\n",
       "      <td>край</td>\n",
       "      <td>Тихорецкий</td>\n",
       "      <td>Район</td>\n",
       "      <td>р-н</td>\n",
       "      <td>Тихорецк</td>\n",
       "      <td>Город</td>\n",
       "      <td>г</td>\n",
       "      <td>Западный-4</td>\n",
       "      <td>Территория СНТ</td>\n",
       "      <td>тер. СНТ</td>\n",
       "      <td>Малиновая</td>\n",
       "      <td>Улица</td>\n",
       "      <td>ул.</td>\n",
       "      <td>[Краснодарский:REGION, Край:REGION_TYPE, Тихор...</td>\n",
       "      <td>[Краснодарский, Край, Тихорецкий, Район, Тихор...</td>\n",
       "      <td>[1, 2, 3, 4, 7, 8, 5, 6, 6, 9, 10]</td>\n",
       "    </tr>\n",
       "    <tr>\n",
       "      <th>1519315</th>\n",
       "      <td>Краснодарский</td>\n",
       "      <td>Край</td>\n",
       "      <td>край</td>\n",
       "      <td>Тихорецкий</td>\n",
       "      <td>Район</td>\n",
       "      <td>р-н</td>\n",
       "      <td>Тихорецк</td>\n",
       "      <td>Город</td>\n",
       "      <td>г</td>\n",
       "      <td>Западный-4</td>\n",
       "      <td>Территория СНТ</td>\n",
       "      <td>тер. СНТ</td>\n",
       "      <td>Персиковая</td>\n",
       "      <td>Улица</td>\n",
       "      <td>ул.</td>\n",
       "      <td>[Краснодарский:REGION, Край:REGION_TYPE, Тихор...</td>\n",
       "      <td>[Краснодарский, Край, Тихорецкий, Район, Тихор...</td>\n",
       "      <td>[1, 2, 3, 4, 7, 8, 5, 6, 6, 9, 10]</td>\n",
       "    </tr>\n",
       "    <tr>\n",
       "      <th>1519316</th>\n",
       "      <td>Краснодарский</td>\n",
       "      <td>Край</td>\n",
       "      <td>край</td>\n",
       "      <td>Тихорецкий</td>\n",
       "      <td>Район</td>\n",
       "      <td>р-н</td>\n",
       "      <td>Тихорецк</td>\n",
       "      <td>Город</td>\n",
       "      <td>г</td>\n",
       "      <td>Западный-4</td>\n",
       "      <td>Территория СНТ</td>\n",
       "      <td>тер. СНТ</td>\n",
       "      <td>Яблоневая</td>\n",
       "      <td>Улица</td>\n",
       "      <td>ул.</td>\n",
       "      <td>[Краснодарский:REGION, Край:REGION_TYPE, Тихор...</td>\n",
       "      <td>[Краснодарский, Край, Тихорецкий, Район, Тихор...</td>\n",
       "      <td>[1, 2, 3, 4, 7, 8, 5, 6, 6, 9, 10]</td>\n",
       "    </tr>\n",
       "    <tr>\n",
       "      <th>1519317</th>\n",
       "      <td>Краснодарский</td>\n",
       "      <td>Край</td>\n",
       "      <td>край</td>\n",
       "      <td>Тихорецкий</td>\n",
       "      <td>Район</td>\n",
       "      <td>р-н</td>\n",
       "      <td>Тихорецк</td>\n",
       "      <td>Город</td>\n",
       "      <td>г</td>\n",
       "      <td>Западный-4</td>\n",
       "      <td>Территория СНТ</td>\n",
       "      <td>тер. СНТ</td>\n",
       "      <td>Садовая</td>\n",
       "      <td>Улица</td>\n",
       "      <td>ул.</td>\n",
       "      <td>[Краснодарский:REGION, Край:REGION_TYPE, Тихор...</td>\n",
       "      <td>[Краснодарский, Край, Тихорецкий, Район, Тихор...</td>\n",
       "      <td>[1, 2, 3, 4, 7, 8, 5, 6, 6, 9, 10]</td>\n",
       "    </tr>\n",
       "    <tr>\n",
       "      <th>1519318</th>\n",
       "      <td>Краснодарский</td>\n",
       "      <td>Край</td>\n",
       "      <td>край</td>\n",
       "      <td>Тихорецкий</td>\n",
       "      <td>Район</td>\n",
       "      <td>р-н</td>\n",
       "      <td>Тихорецк</td>\n",
       "      <td>Город</td>\n",
       "      <td>г</td>\n",
       "      <td>Западный-5</td>\n",
       "      <td>Территория СНТ</td>\n",
       "      <td>тер. СНТ</td>\n",
       "      <td>Виноградная</td>\n",
       "      <td>Улица</td>\n",
       "      <td>ул.</td>\n",
       "      <td>[Краснодарский:REGION, Край:REGION_TYPE, Тихор...</td>\n",
       "      <td>[Краснодарский, Край, Тихорецкий, Район, Тихор...</td>\n",
       "      <td>[1, 2, 3, 4, 7, 8, 5, 6, 6, 9, 10]</td>\n",
       "    </tr>\n",
       "  </tbody>\n",
       "</table>\n",
       "<p>1519319 rows × 18 columns</p>\n",
       "</div>"
      ]
     },
     "execution_count": 33,
     "metadata": {},
     "output_type": "execute_result"
    }
   ],
   "execution_count": 33
  },
  {
   "metadata": {
    "ExecuteTime": {
     "end_time": "2024-05-09T04:01:42.918726Z",
     "start_time": "2024-05-09T04:01:42.700668Z"
    }
   },
   "cell_type": "code",
   "source": "df_subset = df[['words','type_codes']]",
   "id": "f6c66bd2ff1a1527",
   "outputs": [],
   "execution_count": 38
  },
  {
   "metadata": {
    "ExecuteTime": {
     "end_time": "2024-05-09T04:01:46.570903Z",
     "start_time": "2024-05-09T04:01:46.543542Z"
    }
   },
   "cell_type": "code",
   "source": "df_subset",
   "id": "b5ae111aa1d8a0c3",
   "outputs": [
    {
     "data": {
      "text/plain": [
       "                                                     words  \\\n",
       "0                                     [Адыгея, Республика]   \n",
       "1                               [Башкортостан, Республика]   \n",
       "2                                      [Алтай, Республика]   \n",
       "3                       [Кабардино-Балкарская, Республика]   \n",
       "4                                   [Калмыкия, Республика]   \n",
       "...                                                    ...   \n",
       "1519314  [Краснодарский, Край, Тихорецкий, Район, Тихор...   \n",
       "1519315  [Краснодарский, Край, Тихорецкий, Район, Тихор...   \n",
       "1519316  [Краснодарский, Край, Тихорецкий, Район, Тихор...   \n",
       "1519317  [Краснодарский, Край, Тихорецкий, Район, Тихор...   \n",
       "1519318  [Краснодарский, Край, Тихорецкий, Район, Тихор...   \n",
       "\n",
       "                                 type_codes  \n",
       "0                                    [1, 2]  \n",
       "1                                    [1, 2]  \n",
       "2                                    [1, 2]  \n",
       "3                                    [1, 2]  \n",
       "4                                    [1, 2]  \n",
       "...                                     ...  \n",
       "1519314  [1, 2, 3, 4, 7, 8, 5, 6, 6, 9, 10]  \n",
       "1519315  [1, 2, 3, 4, 7, 8, 5, 6, 6, 9, 10]  \n",
       "1519316  [1, 2, 3, 4, 7, 8, 5, 6, 6, 9, 10]  \n",
       "1519317  [1, 2, 3, 4, 7, 8, 5, 6, 6, 9, 10]  \n",
       "1519318  [1, 2, 3, 4, 7, 8, 5, 6, 6, 9, 10]  \n",
       "\n",
       "[1519319 rows x 2 columns]"
      ],
      "text/html": [
       "<div>\n",
       "<style scoped>\n",
       "    .dataframe tbody tr th:only-of-type {\n",
       "        vertical-align: middle;\n",
       "    }\n",
       "\n",
       "    .dataframe tbody tr th {\n",
       "        vertical-align: top;\n",
       "    }\n",
       "\n",
       "    .dataframe thead th {\n",
       "        text-align: right;\n",
       "    }\n",
       "</style>\n",
       "<table border=\"1\" class=\"dataframe\">\n",
       "  <thead>\n",
       "    <tr style=\"text-align: right;\">\n",
       "      <th></th>\n",
       "      <th>words</th>\n",
       "      <th>type_codes</th>\n",
       "    </tr>\n",
       "  </thead>\n",
       "  <tbody>\n",
       "    <tr>\n",
       "      <th>0</th>\n",
       "      <td>[Адыгея, Республика]</td>\n",
       "      <td>[1, 2]</td>\n",
       "    </tr>\n",
       "    <tr>\n",
       "      <th>1</th>\n",
       "      <td>[Башкортостан, Республика]</td>\n",
       "      <td>[1, 2]</td>\n",
       "    </tr>\n",
       "    <tr>\n",
       "      <th>2</th>\n",
       "      <td>[Алтай, Республика]</td>\n",
       "      <td>[1, 2]</td>\n",
       "    </tr>\n",
       "    <tr>\n",
       "      <th>3</th>\n",
       "      <td>[Кабардино-Балкарская, Республика]</td>\n",
       "      <td>[1, 2]</td>\n",
       "    </tr>\n",
       "    <tr>\n",
       "      <th>4</th>\n",
       "      <td>[Калмыкия, Республика]</td>\n",
       "      <td>[1, 2]</td>\n",
       "    </tr>\n",
       "    <tr>\n",
       "      <th>...</th>\n",
       "      <td>...</td>\n",
       "      <td>...</td>\n",
       "    </tr>\n",
       "    <tr>\n",
       "      <th>1519314</th>\n",
       "      <td>[Краснодарский, Край, Тихорецкий, Район, Тихор...</td>\n",
       "      <td>[1, 2, 3, 4, 7, 8, 5, 6, 6, 9, 10]</td>\n",
       "    </tr>\n",
       "    <tr>\n",
       "      <th>1519315</th>\n",
       "      <td>[Краснодарский, Край, Тихорецкий, Район, Тихор...</td>\n",
       "      <td>[1, 2, 3, 4, 7, 8, 5, 6, 6, 9, 10]</td>\n",
       "    </tr>\n",
       "    <tr>\n",
       "      <th>1519316</th>\n",
       "      <td>[Краснодарский, Край, Тихорецкий, Район, Тихор...</td>\n",
       "      <td>[1, 2, 3, 4, 7, 8, 5, 6, 6, 9, 10]</td>\n",
       "    </tr>\n",
       "    <tr>\n",
       "      <th>1519317</th>\n",
       "      <td>[Краснодарский, Край, Тихорецкий, Район, Тихор...</td>\n",
       "      <td>[1, 2, 3, 4, 7, 8, 5, 6, 6, 9, 10]</td>\n",
       "    </tr>\n",
       "    <tr>\n",
       "      <th>1519318</th>\n",
       "      <td>[Краснодарский, Край, Тихорецкий, Район, Тихор...</td>\n",
       "      <td>[1, 2, 3, 4, 7, 8, 5, 6, 6, 9, 10]</td>\n",
       "    </tr>\n",
       "  </tbody>\n",
       "</table>\n",
       "<p>1519319 rows × 2 columns</p>\n",
       "</div>"
      ]
     },
     "execution_count": 39,
     "metadata": {},
     "output_type": "execute_result"
    }
   ],
   "execution_count": 39
  },
  {
   "metadata": {},
   "cell_type": "markdown",
   "source": "## В формате Datasets",
   "id": "f6dbe1cabf7929e6"
  },
  {
   "metadata": {
    "ExecuteTime": {
     "end_time": "2024-05-09T04:02:02.481917Z",
     "start_time": "2024-05-09T04:01:52.478687Z"
    }
   },
   "cell_type": "code",
   "source": "dataset = Dataset.from_pandas(df_subset)",
   "id": "330f01c3a2b4e620",
   "outputs": [],
   "execution_count": 40
  },
  {
   "metadata": {
    "ExecuteTime": {
     "end_time": "2024-05-09T04:02:05.119567Z",
     "start_time": "2024-05-09T04:02:04.235010Z"
    }
   },
   "cell_type": "code",
   "source": [
    "train_testvalid = dataset.train_test_split(test_size=0.33, seed=42)\n",
    "test_valid = train_testvalid['test'].train_test_split(test_size=0.5)\n",
    "dataset = DatasetDict({\n",
    "    'train': train_testvalid['train'],\n",
    "    'validation': test_valid['train'],\n",
    "    'test': test_valid['test']})"
   ],
   "id": "89a0ae9174c81f5d",
   "outputs": [],
   "execution_count": 41
  },
  {
   "metadata": {
    "ExecuteTime": {
     "end_time": "2024-05-09T04:02:09.193076Z",
     "start_time": "2024-05-09T04:02:09.184399Z"
    }
   },
   "cell_type": "code",
   "source": "dataset",
   "id": "2144eb6533afbc0e",
   "outputs": [
    {
     "data": {
      "text/plain": [
       "DatasetDict({\n",
       "    train: Dataset({\n",
       "        features: ['words', 'type_codes'],\n",
       "        num_rows: 1017943\n",
       "    })\n",
       "    validation: Dataset({\n",
       "        features: ['words', 'type_codes'],\n",
       "        num_rows: 250688\n",
       "    })\n",
       "    test: Dataset({\n",
       "        features: ['words', 'type_codes'],\n",
       "        num_rows: 250688\n",
       "    })\n",
       "})"
      ]
     },
     "execution_count": 42,
     "metadata": {},
     "output_type": "execute_result"
    }
   ],
   "execution_count": 42
  },
  {
   "metadata": {
    "ExecuteTime": {
     "end_time": "2024-05-09T04:02:33.819718Z",
     "start_time": "2024-05-09T04:02:25.887263Z"
    }
   },
   "cell_type": "code",
   "source": "dataset.save_to_disk('address_elements')",
   "id": "faa727922a788e05",
   "outputs": [
    {
     "data": {
      "text/plain": [
       "Saving the dataset (0/1 shards):   0%|          | 0/1017943 [00:00<?, ? examples/s]"
      ],
      "application/vnd.jupyter.widget-view+json": {
       "version_major": 2,
       "version_minor": 0,
       "model_id": "266d7c4a9a544a21b179896544aaf824"
      }
     },
     "metadata": {},
     "output_type": "display_data"
    },
    {
     "data": {
      "text/plain": [
       "Saving the dataset (0/1 shards):   0%|          | 0/250688 [00:00<?, ? examples/s]"
      ],
      "application/vnd.jupyter.widget-view+json": {
       "version_major": 2,
       "version_minor": 0,
       "model_id": "64301cc561b0441894308dc0c336356c"
      }
     },
     "metadata": {},
     "output_type": "display_data"
    },
    {
     "data": {
      "text/plain": [
       "Saving the dataset (0/1 shards):   0%|          | 0/250688 [00:00<?, ? examples/s]"
      ],
      "application/vnd.jupyter.widget-view+json": {
       "version_major": 2,
       "version_minor": 0,
       "model_id": "320fd0845dd84edeb4fd88a5e51946a7"
      }
     },
     "metadata": {},
     "output_type": "display_data"
    }
   ],
   "execution_count": 43
  },
  {
   "metadata": {},
   "cell_type": "markdown",
   "source": "",
   "id": "c45d4ccc19004a71"
  }
 ],
 "metadata": {
  "kernelspec": {
   "display_name": "Python 3",
   "language": "python",
   "name": "python3"
  },
  "language_info": {
   "codemirror_mode": {
    "name": "ipython",
    "version": 2
   },
   "file_extension": ".py",
   "mimetype": "text/x-python",
   "name": "python",
   "nbconvert_exporter": "python",
   "pygments_lexer": "ipython2",
   "version": "2.7.6"
  }
 },
 "nbformat": 4,
 "nbformat_minor": 5
}
