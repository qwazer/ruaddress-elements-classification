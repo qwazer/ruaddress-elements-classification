{
 "cells": [
  {
   "metadata": {},
   "cell_type": "markdown",
   "source": "# Разметка данных",
   "id": "5d544189ce9d8b"
  },
  {
   "metadata": {},
   "cell_type": "markdown",
   "source": "# Пакеты",
   "id": "4fda22c3b6b2d680"
  },
  {
   "metadata": {
    "jupyter": {
     "is_executing": true
    }
   },
   "cell_type": "code",
   "source": [
    "import numpy as np\n",
    "import pandas as pd\n",
    "import seaborn as sns\n",
    "import matplotlib.pyplot as plt\n",
    "from enum import Enum\n",
    "from dataclasses import dataclass, field\n",
    "from datasets import Dataset, DatasetDict\n",
    "%matplotlib inline"
   ],
   "id": "b9c8c7e93bf97f90",
   "outputs": [],
   "execution_count": null
  },
  {
   "metadata": {
    "ExecuteTime": {
     "end_time": "2024-05-01T15:40:33.804116Z",
     "start_time": "2024-05-01T15:40:30.730359Z"
    }
   },
   "cell_type": "code",
   "source": [
    "df = pd.read_csv(\"gar_places.csv\")\n",
    "df = df.drop(['oktmo', 'oktmo_row_number', 'mun_area_name', 'mun_area_type_name', 'mun_area_type_name_short', 'settlement_name', 'settlement_type_name', 'settlement_type_name_short'], axis=1)\n",
    "df = df.fillna('')"
   ],
   "id": "1008eace1928f527",
   "outputs": [],
   "execution_count": 60
  },
  {
   "metadata": {
    "ExecuteTime": {
     "end_time": "2024-05-01T15:40:33.820143Z",
     "start_time": "2024-05-01T15:40:33.805700Z"
    }
   },
   "cell_type": "code",
   "source": "df",
   "id": "4e164d07c622195",
   "outputs": [
    {
     "data": {
      "text/plain": [
       "       region_name    region_type_name region_type_name_short    area_name  \\\n",
       "0        Алтайский                Край                   край  Залесовский   \n",
       "1        Алтайский                Край                   край  Залесовский   \n",
       "2        Алтайский                Край                   край  Залесовский   \n",
       "3        Алтайский                Край                   край  Залесовский   \n",
       "4        Алтайский                Край                   край  Залесовский   \n",
       "...            ...                 ...                    ...          ...   \n",
       "612825   Еврейская  Автономная область                   Аобл                \n",
       "612826   Еврейская  Автономная область                   Аобл                \n",
       "612827   Еврейская  Автономная область                   Аобл                \n",
       "612828   Еврейская  Автономная область                   Аобл                \n",
       "612829   Еврейская  Автономная область                   Аобл                \n",
       "\n",
       "       area_type_name area_type_name_short   city_name city_type_name  \\\n",
       "0               Район                  р-н    Залесово           Село   \n",
       "1               Район                  р-н    Залесово           Село   \n",
       "2               Район                  р-н    Залесово           Село   \n",
       "3               Район                  р-н    Залесово           Село   \n",
       "4               Район                  р-н    Залесово           Село   \n",
       "...               ...                  ...         ...            ...   \n",
       "612825                                      Биробиджан          Город   \n",
       "612826                                      Биробиджан          Город   \n",
       "612827                                      Биробиджан          Город   \n",
       "612828                                      Биробиджан          Город   \n",
       "612829                                      Биробиджан          Город   \n",
       "\n",
       "       city_type_name_short                       territory_name  \\\n",
       "0                         с                                        \n",
       "1                         с  автодорога Мартыново-Тогул-Залесово   \n",
       "2                         с                                        \n",
       "3                         с                                        \n",
       "4                         с                                        \n",
       "...                     ...                                  ...   \n",
       "612825                    г                   СОТ Биршоссе 13 км   \n",
       "612826                    г                   СОТ Биршоссе 13 км   \n",
       "612827                    г                   СОТ Биршоссе 13 км   \n",
       "612828                    г                        СОТ Багульник   \n",
       "612829                    г                        СОТ Багульник   \n",
       "\n",
       "       territory_type_name territory_type_name_short      street_name  \\\n",
       "0                                                             Полевая   \n",
       "1               Территория                      тер.            151-й   \n",
       "2                                                          Ворошилова   \n",
       "3                                                     Красноармейский   \n",
       "4                                                            Гагарина   \n",
       "...                    ...                       ...              ...   \n",
       "612825          Территория                      тер.          Щукинка   \n",
       "612826          Территория                      тер.         Западная   \n",
       "612827          Территория                      тер.       Поворотная   \n",
       "612828          Территория                       тер        Четвертая   \n",
       "612829          Территория                       тер           Вторая   \n",
       "\n",
       "       street_type_name street_type_name_short  \n",
       "0                 Улица                     ул  \n",
       "1              Километр                     км  \n",
       "2                 Улица                     ул  \n",
       "3              Переулок                    пер  \n",
       "4                 Улица                     ул  \n",
       "...                 ...                    ...  \n",
       "612825            Улица                     ул  \n",
       "612826            Улица                     ул  \n",
       "612827            Улица                     ул  \n",
       "612828            Улица                     ул  \n",
       "612829            Улица                     ул  \n",
       "\n",
       "[612830 rows x 15 columns]"
      ],
      "text/html": [
       "<div>\n",
       "<style scoped>\n",
       "    .dataframe tbody tr th:only-of-type {\n",
       "        vertical-align: middle;\n",
       "    }\n",
       "\n",
       "    .dataframe tbody tr th {\n",
       "        vertical-align: top;\n",
       "    }\n",
       "\n",
       "    .dataframe thead th {\n",
       "        text-align: right;\n",
       "    }\n",
       "</style>\n",
       "<table border=\"1\" class=\"dataframe\">\n",
       "  <thead>\n",
       "    <tr style=\"text-align: right;\">\n",
       "      <th></th>\n",
       "      <th>region_name</th>\n",
       "      <th>region_type_name</th>\n",
       "      <th>region_type_name_short</th>\n",
       "      <th>area_name</th>\n",
       "      <th>area_type_name</th>\n",
       "      <th>area_type_name_short</th>\n",
       "      <th>city_name</th>\n",
       "      <th>city_type_name</th>\n",
       "      <th>city_type_name_short</th>\n",
       "      <th>territory_name</th>\n",
       "      <th>territory_type_name</th>\n",
       "      <th>territory_type_name_short</th>\n",
       "      <th>street_name</th>\n",
       "      <th>street_type_name</th>\n",
       "      <th>street_type_name_short</th>\n",
       "    </tr>\n",
       "  </thead>\n",
       "  <tbody>\n",
       "    <tr>\n",
       "      <th>0</th>\n",
       "      <td>Алтайский</td>\n",
       "      <td>Край</td>\n",
       "      <td>край</td>\n",
       "      <td>Залесовский</td>\n",
       "      <td>Район</td>\n",
       "      <td>р-н</td>\n",
       "      <td>Залесово</td>\n",
       "      <td>Село</td>\n",
       "      <td>с</td>\n",
       "      <td></td>\n",
       "      <td></td>\n",
       "      <td></td>\n",
       "      <td>Полевая</td>\n",
       "      <td>Улица</td>\n",
       "      <td>ул</td>\n",
       "    </tr>\n",
       "    <tr>\n",
       "      <th>1</th>\n",
       "      <td>Алтайский</td>\n",
       "      <td>Край</td>\n",
       "      <td>край</td>\n",
       "      <td>Залесовский</td>\n",
       "      <td>Район</td>\n",
       "      <td>р-н</td>\n",
       "      <td>Залесово</td>\n",
       "      <td>Село</td>\n",
       "      <td>с</td>\n",
       "      <td>автодорога Мартыново-Тогул-Залесово</td>\n",
       "      <td>Территория</td>\n",
       "      <td>тер.</td>\n",
       "      <td>151-й</td>\n",
       "      <td>Километр</td>\n",
       "      <td>км</td>\n",
       "    </tr>\n",
       "    <tr>\n",
       "      <th>2</th>\n",
       "      <td>Алтайский</td>\n",
       "      <td>Край</td>\n",
       "      <td>край</td>\n",
       "      <td>Залесовский</td>\n",
       "      <td>Район</td>\n",
       "      <td>р-н</td>\n",
       "      <td>Залесово</td>\n",
       "      <td>Село</td>\n",
       "      <td>с</td>\n",
       "      <td></td>\n",
       "      <td></td>\n",
       "      <td></td>\n",
       "      <td>Ворошилова</td>\n",
       "      <td>Улица</td>\n",
       "      <td>ул</td>\n",
       "    </tr>\n",
       "    <tr>\n",
       "      <th>3</th>\n",
       "      <td>Алтайский</td>\n",
       "      <td>Край</td>\n",
       "      <td>край</td>\n",
       "      <td>Залесовский</td>\n",
       "      <td>Район</td>\n",
       "      <td>р-н</td>\n",
       "      <td>Залесово</td>\n",
       "      <td>Село</td>\n",
       "      <td>с</td>\n",
       "      <td></td>\n",
       "      <td></td>\n",
       "      <td></td>\n",
       "      <td>Красноармейский</td>\n",
       "      <td>Переулок</td>\n",
       "      <td>пер</td>\n",
       "    </tr>\n",
       "    <tr>\n",
       "      <th>4</th>\n",
       "      <td>Алтайский</td>\n",
       "      <td>Край</td>\n",
       "      <td>край</td>\n",
       "      <td>Залесовский</td>\n",
       "      <td>Район</td>\n",
       "      <td>р-н</td>\n",
       "      <td>Залесово</td>\n",
       "      <td>Село</td>\n",
       "      <td>с</td>\n",
       "      <td></td>\n",
       "      <td></td>\n",
       "      <td></td>\n",
       "      <td>Гагарина</td>\n",
       "      <td>Улица</td>\n",
       "      <td>ул</td>\n",
       "    </tr>\n",
       "    <tr>\n",
       "      <th>...</th>\n",
       "      <td>...</td>\n",
       "      <td>...</td>\n",
       "      <td>...</td>\n",
       "      <td>...</td>\n",
       "      <td>...</td>\n",
       "      <td>...</td>\n",
       "      <td>...</td>\n",
       "      <td>...</td>\n",
       "      <td>...</td>\n",
       "      <td>...</td>\n",
       "      <td>...</td>\n",
       "      <td>...</td>\n",
       "      <td>...</td>\n",
       "      <td>...</td>\n",
       "      <td>...</td>\n",
       "    </tr>\n",
       "    <tr>\n",
       "      <th>612825</th>\n",
       "      <td>Еврейская</td>\n",
       "      <td>Автономная область</td>\n",
       "      <td>Аобл</td>\n",
       "      <td></td>\n",
       "      <td></td>\n",
       "      <td></td>\n",
       "      <td>Биробиджан</td>\n",
       "      <td>Город</td>\n",
       "      <td>г</td>\n",
       "      <td>СОТ Биршоссе 13 км</td>\n",
       "      <td>Территория</td>\n",
       "      <td>тер.</td>\n",
       "      <td>Щукинка</td>\n",
       "      <td>Улица</td>\n",
       "      <td>ул</td>\n",
       "    </tr>\n",
       "    <tr>\n",
       "      <th>612826</th>\n",
       "      <td>Еврейская</td>\n",
       "      <td>Автономная область</td>\n",
       "      <td>Аобл</td>\n",
       "      <td></td>\n",
       "      <td></td>\n",
       "      <td></td>\n",
       "      <td>Биробиджан</td>\n",
       "      <td>Город</td>\n",
       "      <td>г</td>\n",
       "      <td>СОТ Биршоссе 13 км</td>\n",
       "      <td>Территория</td>\n",
       "      <td>тер.</td>\n",
       "      <td>Западная</td>\n",
       "      <td>Улица</td>\n",
       "      <td>ул</td>\n",
       "    </tr>\n",
       "    <tr>\n",
       "      <th>612827</th>\n",
       "      <td>Еврейская</td>\n",
       "      <td>Автономная область</td>\n",
       "      <td>Аобл</td>\n",
       "      <td></td>\n",
       "      <td></td>\n",
       "      <td></td>\n",
       "      <td>Биробиджан</td>\n",
       "      <td>Город</td>\n",
       "      <td>г</td>\n",
       "      <td>СОТ Биршоссе 13 км</td>\n",
       "      <td>Территория</td>\n",
       "      <td>тер.</td>\n",
       "      <td>Поворотная</td>\n",
       "      <td>Улица</td>\n",
       "      <td>ул</td>\n",
       "    </tr>\n",
       "    <tr>\n",
       "      <th>612828</th>\n",
       "      <td>Еврейская</td>\n",
       "      <td>Автономная область</td>\n",
       "      <td>Аобл</td>\n",
       "      <td></td>\n",
       "      <td></td>\n",
       "      <td></td>\n",
       "      <td>Биробиджан</td>\n",
       "      <td>Город</td>\n",
       "      <td>г</td>\n",
       "      <td>СОТ Багульник</td>\n",
       "      <td>Территория</td>\n",
       "      <td>тер</td>\n",
       "      <td>Четвертая</td>\n",
       "      <td>Улица</td>\n",
       "      <td>ул</td>\n",
       "    </tr>\n",
       "    <tr>\n",
       "      <th>612829</th>\n",
       "      <td>Еврейская</td>\n",
       "      <td>Автономная область</td>\n",
       "      <td>Аобл</td>\n",
       "      <td></td>\n",
       "      <td></td>\n",
       "      <td></td>\n",
       "      <td>Биробиджан</td>\n",
       "      <td>Город</td>\n",
       "      <td>г</td>\n",
       "      <td>СОТ Багульник</td>\n",
       "      <td>Территория</td>\n",
       "      <td>тер</td>\n",
       "      <td>Вторая</td>\n",
       "      <td>Улица</td>\n",
       "      <td>ул</td>\n",
       "    </tr>\n",
       "  </tbody>\n",
       "</table>\n",
       "<p>612830 rows × 15 columns</p>\n",
       "</div>"
      ]
     },
     "execution_count": 61,
     "metadata": {},
     "output_type": "execute_result"
    }
   ],
   "execution_count": 61
  },
  {
   "metadata": {},
   "cell_type": "markdown",
   "source": "# Словарь Entities",
   "id": "bcacfc0eb95924bc"
  },
  {
   "metadata": {
    "ExecuteTime": {
     "end_time": "2024-05-01T15:40:33.832601Z",
     "start_time": "2024-05-01T15:40:33.821702Z"
    }
   },
   "cell_type": "code",
   "source": [
    "\n",
    "class ElementType(Enum):\n",
    "    REGION=0\n",
    "    AREA=2\n",
    "    TERRITORY=4\n",
    "    CITY=6\n",
    "    STREET=8\n",
    "\n",
    "    def begin_tag_name(cls):\n",
    "        return 'B-'+cls.name\n",
    "    def inside_tag_name(cls):\n",
    "        return 'I-'+cls.name\n",
    "    def begin_tag_code(cls):\n",
    "        return cls.value.real+0\n",
    "    def inside_tag_code(cls):\n",
    "            return cls.value.real+1\n"
   ],
   "id": "749db5a01021d8d7",
   "outputs": [],
   "execution_count": 62
  },
  {
   "metadata": {
    "ExecuteTime": {
     "end_time": "2024-05-01T15:40:33.838834Z",
     "start_time": "2024-05-01T15:40:33.834918Z"
    }
   },
   "cell_type": "code",
   "source": "print(ElementType.REGION.begin_tag_name())",
   "id": "4dbb4b13b37f21a9",
   "outputs": [
    {
     "name": "stdout",
     "output_type": "stream",
     "text": [
      "B-REGION\n"
     ]
    }
   ],
   "execution_count": 63
  },
  {
   "metadata": {
    "ExecuteTime": {
     "end_time": "2024-05-01T15:40:33.853765Z",
     "start_time": "2024-05-01T15:40:33.846199Z"
    }
   },
   "cell_type": "code",
   "source": [
    "all_tags = []\n",
    "for type in ElementType:\n",
    "    all_tags = all_tags + [type.begin_tag_name(), type.inside_tag_name()]\n",
    "print(all_tags)   "
   ],
   "id": "3b520d762d429534",
   "outputs": [
    {
     "name": "stdout",
     "output_type": "stream",
     "text": [
      "['B-REGION', 'I-REGION', 'B-AREA', 'I-AREA', 'B-TERRITORY', 'I-TERRITORY', 'B-CITY', 'I-CITY', 'B-STREET', 'I-STREET']\n"
     ]
    }
   ],
   "execution_count": 64
  },
  {
   "metadata": {},
   "cell_type": "markdown",
   "source": "# Представление адреса в виде слов-токенов и тегов NER",
   "id": "e260a21f8b69fa25"
  },
  {
   "metadata": {
    "ExecuteTime": {
     "end_time": "2024-05-01T15:40:33.863056Z",
     "start_time": "2024-05-01T15:40:33.856040Z"
    }
   },
   "cell_type": "code",
   "source": [
    "str ='Алтайский Край, Залесовский Район, Залесово Село, автодорога Мартыново-Тогул-Залесово Территория, 151-й Километр'\n",
    "tokens = str.split(' ')\n",
    "tokens"
   ],
   "id": "44039c8ca1a6c761",
   "outputs": [
    {
     "data": {
      "text/plain": [
       "['Алтайский',\n",
       " 'Край,',\n",
       " 'Залесовский',\n",
       " 'Район,',\n",
       " 'Залесово',\n",
       " 'Село,',\n",
       " 'автодорога',\n",
       " 'Мартыново-Тогул-Залесово',\n",
       " 'Территория,',\n",
       " '151-й',\n",
       " 'Километр']"
      ]
     },
     "execution_count": 65,
     "metadata": {},
     "output_type": "execute_result"
    }
   ],
   "execution_count": 65
  },
  {
   "metadata": {},
   "cell_type": "markdown",
   "source": "### Функция конвертации набора адресо-образующих элементов в токены и NER-теги",
   "id": "7c41d46e6ddf5661"
  },
  {
   "metadata": {},
   "cell_type": "code",
   "source": [
    "def ner_tags_for_type(type : ElementType , n: int):\n",
    "    if n==0:\n",
    "        return []\n",
    "    else:\n",
    "        return [type.begin_tag_code()] + [type.inside_tag_code()] * (n - 1)"
   ],
   "id": "f498da524606d370",
   "outputs": [],
   "execution_count": 66
  },
  {
   "metadata": {},
   "cell_type": "code",
   "source": "ner_tags_for_type(ElementType.REGION, 3)",
   "id": "3b335a657abe02",
   "outputs": [
    {
     "data": {
      "text/plain": [
       "[0, 1, 1]"
      ]
     },
     "execution_count": 67,
     "metadata": {},
     "output_type": "execute_result"
    }
   ],
   "execution_count": 67
  },
  {
   "metadata": {
    "ExecuteTime": {
     "end_time": "2024-05-01T15:40:33.894188Z",
     "start_time": "2024-05-01T15:40:33.882094Z"
    }
   },
   "cell_type": "code",
   "source": [
    "def convert_address_elements(elements: dict ) :\n",
    "    region_tokens = elements['region_name'].split(' ') + elements['region_type_name_short'].split(' ')\n",
    "    area_tokens = elements['area_name'].split(' ')+elements['area_type_name_short'].split(' ')\n",
    "    city_tokens = elements['city_name'].split(' ')+elements['city_type_name_short'].split(' ')\n",
    "    territory_tokens = elements['territory_name'].split(' ')+elements['territory_type_name_short'].split(' ')\n",
    "    street_tokens = elements['street_name'].split(' ')+elements['street_type_name_short'].split(' ')\n",
    "\n",
    "    region_tokens = list(filter(('').__ne__, region_tokens))\n",
    "    area_tokens = list(filter(('').__ne__, area_tokens))\n",
    "    city_tokens= list(filter(('').__ne__, city_tokens))\n",
    "    territory_tokens = list(filter(('').__ne__, territory_tokens))\n",
    "    street_tokens = list(filter(('').__ne__, street_tokens))\n",
    "    \n",
    "    region_ner_tags = ner_tags_for_type(ElementType.REGION, len(region_tokens))\n",
    "    area_ner_tags = ner_tags_for_type(ElementType.AREA, len(area_tokens))\n",
    "    city_ner_tags = ner_tags_for_type(ElementType.CITY, len(city_tokens))\n",
    "    territory_ner_tags = ner_tags_for_type(ElementType.TERRITORY, len(territory_tokens))\n",
    "    street_ner_tags = ner_tags_for_type(ElementType.STREET, len(street_tokens))\n",
    "    \n",
    "    tokens = region_tokens+area_tokens+city_tokens+territory_tokens+street_tokens\n",
    "    ner_tags = region_ner_tags+area_ner_tags+city_ner_tags+territory_ner_tags+street_ner_tags\n",
    "    \n",
    "    return {'tokens': tokens, 'ner_tags': ner_tags}\n",
    "    # tokens = tokens.append\n"
   ],
   "id": "bdca3783a6f219ef",
   "outputs": [],
   "execution_count": 68
  },
  {
   "metadata": {
    "ExecuteTime": {
     "end_time": "2024-05-01T15:40:33.912055Z",
     "start_time": "2024-05-01T15:40:33.900459Z"
    }
   },
   "cell_type": "code",
   "source": [
    "def convert_address_elements_df(df:pd.DataFrame):\n",
    "    return [convert_address_elements(item) for item in df.to_dict('records')]\n",
    "\n",
    "convert_address_elements_df(r)\n"
   ],
   "id": "c760e4b87893762a",
   "outputs": [
    {
     "data": {
      "text/plain": [
       "[{'tokens': ['Алтайский',\n",
       "   'край',\n",
       "   'Залесовский',\n",
       "   'р-н',\n",
       "   'Залесово',\n",
       "   'с',\n",
       "   'Полевая',\n",
       "   'ул'],\n",
       "  'ner_tags': [0, 1, 2, 3, 6, 7, 8, 9]}]"
      ]
     },
     "execution_count": 69,
     "metadata": {},
     "output_type": "execute_result"
    }
   ],
   "execution_count": 69
  },
  {
   "metadata": {},
   "cell_type": "markdown",
   "source": "## Appply to dataframe",
   "id": "92d8ff23957a93d6"
  },
  {
   "metadata": {
    "ExecuteTime": {
     "end_time": "2024-05-01T15:40:56.194715Z",
     "start_time": "2024-05-01T15:40:33.913747Z"
    }
   },
   "cell_type": "code",
   "source": "s = df.apply(convert_address_elements, axis=1)",
   "id": "52975afd7505305c",
   "outputs": [],
   "execution_count": 70
  },
  {
   "metadata": {
    "ExecuteTime": {
     "end_time": "2024-05-01T15:40:56.676215Z",
     "start_time": "2024-05-01T15:40:56.196104Z"
    }
   },
   "cell_type": "code",
   "source": "new_df = pd.DataFrame(list(s))",
   "id": "f6c66bd2ff1a1527",
   "outputs": [],
   "execution_count": 71
  },
  {
   "metadata": {
    "ExecuteTime": {
     "end_time": "2024-05-01T15:40:56.693332Z",
     "start_time": "2024-05-01T15:40:56.679694Z"
    }
   },
   "cell_type": "code",
   "source": "new_df",
   "id": "b5ae111aa1d8a0c3",
   "outputs": [
    {
     "data": {
      "text/plain": [
       "                                                   tokens  \\\n",
       "0       [Алтайский, край, Залесовский, р-н, Залесово, ...   \n",
       "1       [Алтайский, край, Залесовский, р-н, Залесово, ...   \n",
       "2       [Алтайский, край, Залесовский, р-н, Залесово, ...   \n",
       "3       [Алтайский, край, Залесовский, р-н, Залесово, ...   \n",
       "4       [Алтайский, край, Залесовский, р-н, Залесово, ...   \n",
       "...                                                   ...   \n",
       "612825  [Еврейская, Аобл, Биробиджан, г, СОТ, Биршоссе...   \n",
       "612826  [Еврейская, Аобл, Биробиджан, г, СОТ, Биршоссе...   \n",
       "612827  [Еврейская, Аобл, Биробиджан, г, СОТ, Биршоссе...   \n",
       "612828  [Еврейская, Аобл, Биробиджан, г, СОТ, Багульни...   \n",
       "612829  [Еврейская, Аобл, Биробиджан, г, СОТ, Багульни...   \n",
       "\n",
       "                                 ner_tags  \n",
       "0                [0, 1, 2, 3, 6, 7, 8, 9]  \n",
       "1       [0, 1, 2, 3, 6, 7, 4, 5, 5, 8, 9]  \n",
       "2                [0, 1, 2, 3, 6, 7, 8, 9]  \n",
       "3                [0, 1, 2, 3, 6, 7, 8, 9]  \n",
       "4                [0, 1, 2, 3, 6, 7, 8, 9]  \n",
       "...                                   ...  \n",
       "612825  [0, 1, 6, 7, 4, 5, 5, 5, 5, 8, 9]  \n",
       "612826  [0, 1, 6, 7, 4, 5, 5, 5, 5, 8, 9]  \n",
       "612827  [0, 1, 6, 7, 4, 5, 5, 5, 5, 8, 9]  \n",
       "612828        [0, 1, 6, 7, 4, 5, 5, 8, 9]  \n",
       "612829        [0, 1, 6, 7, 4, 5, 5, 8, 9]  \n",
       "\n",
       "[612830 rows x 2 columns]"
      ],
      "text/html": [
       "<div>\n",
       "<style scoped>\n",
       "    .dataframe tbody tr th:only-of-type {\n",
       "        vertical-align: middle;\n",
       "    }\n",
       "\n",
       "    .dataframe tbody tr th {\n",
       "        vertical-align: top;\n",
       "    }\n",
       "\n",
       "    .dataframe thead th {\n",
       "        text-align: right;\n",
       "    }\n",
       "</style>\n",
       "<table border=\"1\" class=\"dataframe\">\n",
       "  <thead>\n",
       "    <tr style=\"text-align: right;\">\n",
       "      <th></th>\n",
       "      <th>tokens</th>\n",
       "      <th>ner_tags</th>\n",
       "    </tr>\n",
       "  </thead>\n",
       "  <tbody>\n",
       "    <tr>\n",
       "      <th>0</th>\n",
       "      <td>[Алтайский, край, Залесовский, р-н, Залесово, ...</td>\n",
       "      <td>[0, 1, 2, 3, 6, 7, 8, 9]</td>\n",
       "    </tr>\n",
       "    <tr>\n",
       "      <th>1</th>\n",
       "      <td>[Алтайский, край, Залесовский, р-н, Залесово, ...</td>\n",
       "      <td>[0, 1, 2, 3, 6, 7, 4, 5, 5, 8, 9]</td>\n",
       "    </tr>\n",
       "    <tr>\n",
       "      <th>2</th>\n",
       "      <td>[Алтайский, край, Залесовский, р-н, Залесово, ...</td>\n",
       "      <td>[0, 1, 2, 3, 6, 7, 8, 9]</td>\n",
       "    </tr>\n",
       "    <tr>\n",
       "      <th>3</th>\n",
       "      <td>[Алтайский, край, Залесовский, р-н, Залесово, ...</td>\n",
       "      <td>[0, 1, 2, 3, 6, 7, 8, 9]</td>\n",
       "    </tr>\n",
       "    <tr>\n",
       "      <th>4</th>\n",
       "      <td>[Алтайский, край, Залесовский, р-н, Залесово, ...</td>\n",
       "      <td>[0, 1, 2, 3, 6, 7, 8, 9]</td>\n",
       "    </tr>\n",
       "    <tr>\n",
       "      <th>...</th>\n",
       "      <td>...</td>\n",
       "      <td>...</td>\n",
       "    </tr>\n",
       "    <tr>\n",
       "      <th>612825</th>\n",
       "      <td>[Еврейская, Аобл, Биробиджан, г, СОТ, Биршоссе...</td>\n",
       "      <td>[0, 1, 6, 7, 4, 5, 5, 5, 5, 8, 9]</td>\n",
       "    </tr>\n",
       "    <tr>\n",
       "      <th>612826</th>\n",
       "      <td>[Еврейская, Аобл, Биробиджан, г, СОТ, Биршоссе...</td>\n",
       "      <td>[0, 1, 6, 7, 4, 5, 5, 5, 5, 8, 9]</td>\n",
       "    </tr>\n",
       "    <tr>\n",
       "      <th>612827</th>\n",
       "      <td>[Еврейская, Аобл, Биробиджан, г, СОТ, Биршоссе...</td>\n",
       "      <td>[0, 1, 6, 7, 4, 5, 5, 5, 5, 8, 9]</td>\n",
       "    </tr>\n",
       "    <tr>\n",
       "      <th>612828</th>\n",
       "      <td>[Еврейская, Аобл, Биробиджан, г, СОТ, Багульни...</td>\n",
       "      <td>[0, 1, 6, 7, 4, 5, 5, 8, 9]</td>\n",
       "    </tr>\n",
       "    <tr>\n",
       "      <th>612829</th>\n",
       "      <td>[Еврейская, Аобл, Биробиджан, г, СОТ, Багульни...</td>\n",
       "      <td>[0, 1, 6, 7, 4, 5, 5, 8, 9]</td>\n",
       "    </tr>\n",
       "  </tbody>\n",
       "</table>\n",
       "<p>612830 rows × 2 columns</p>\n",
       "</div>"
      ]
     },
     "execution_count": 72,
     "metadata": {},
     "output_type": "execute_result"
    }
   ],
   "execution_count": 72
  },
  {
   "metadata": {},
   "cell_type": "markdown",
   "source": "## В формате Datasets",
   "id": "f6dbe1cabf7929e6"
  },
  {
   "metadata": {
    "ExecuteTime": {
     "end_time": "2024-05-01T15:40:58.171079Z",
     "start_time": "2024-05-01T15:40:56.694489Z"
    }
   },
   "cell_type": "code",
   "source": "dataset = Dataset.from_pandas(new_df)",
   "id": "330f01c3a2b4e620",
   "outputs": [],
   "execution_count": 73
  },
  {
   "metadata": {
    "ExecuteTime": {
     "end_time": "2024-05-01T15:40:58.359819Z",
     "start_time": "2024-05-01T15:40:58.174075Z"
    }
   },
   "cell_type": "code",
   "source": [
    "train_testvalid = dataset.train_test_split(test_size=0.33, seed=42)\n",
    "test_valid = train_testvalid['test'].train_test_split(test_size=0.5)\n",
    "dataset = DatasetDict({\n",
    "    'train': train_testvalid['train'],\n",
    "    'validation': test_valid['train'],\n",
    "    'test': test_valid['test']})"
   ],
   "id": "89a0ae9174c81f5d",
   "outputs": [],
   "execution_count": 74
  },
  {
   "metadata": {
    "ExecuteTime": {
     "end_time": "2024-05-01T15:40:58.369563Z",
     "start_time": "2024-05-01T15:40:58.361772Z"
    }
   },
   "cell_type": "code",
   "source": "dataset",
   "id": "2144eb6533afbc0e",
   "outputs": [
    {
     "data": {
      "text/plain": [
       "DatasetDict({\n",
       "    train: Dataset({\n",
       "        features: ['tokens', 'ner_tags'],\n",
       "        num_rows: 410596\n",
       "    })\n",
       "    validation: Dataset({\n",
       "        features: ['tokens', 'ner_tags'],\n",
       "        num_rows: 101117\n",
       "    })\n",
       "    test: Dataset({\n",
       "        features: ['tokens', 'ner_tags'],\n",
       "        num_rows: 101117\n",
       "    })\n",
       "})"
      ]
     },
     "execution_count": 75,
     "metadata": {},
     "output_type": "execute_result"
    }
   ],
   "execution_count": 75
  },
  {
   "metadata": {
    "ExecuteTime": {
     "end_time": "2024-05-01T15:41:01.962701Z",
     "start_time": "2024-05-01T15:40:58.371528Z"
    }
   },
   "cell_type": "code",
   "source": "dataset.save_to_disk('address_elements')",
   "id": "faa727922a788e05",
   "outputs": [
    {
     "data": {
      "text/plain": [
       "Saving the dataset (0/1 shards):   0%|          | 0/410596 [00:00<?, ? examples/s]"
      ],
      "application/vnd.jupyter.widget-view+json": {
       "version_major": 2,
       "version_minor": 0,
       "model_id": "a8956476a1054e0aa6c839a3f6bcc5c6"
      }
     },
     "metadata": {},
     "output_type": "display_data"
    },
    {
     "data": {
      "text/plain": [
       "Saving the dataset (0/1 shards):   0%|          | 0/101117 [00:00<?, ? examples/s]"
      ],
      "application/vnd.jupyter.widget-view+json": {
       "version_major": 2,
       "version_minor": 0,
       "model_id": "4a3147cf9c56496e8ad06eac0bd88eb6"
      }
     },
     "metadata": {},
     "output_type": "display_data"
    },
    {
     "data": {
      "text/plain": [
       "Saving the dataset (0/1 shards):   0%|          | 0/101117 [00:00<?, ? examples/s]"
      ],
      "application/vnd.jupyter.widget-view+json": {
       "version_major": 2,
       "version_minor": 0,
       "model_id": "e70618a8f97e4132b50123dc7460e6e4"
      }
     },
     "metadata": {},
     "output_type": "display_data"
    }
   ],
   "execution_count": 76
  },
  {
   "metadata": {},
   "cell_type": "markdown",
   "source": "",
   "id": "c45d4ccc19004a71"
  }
 ],
 "metadata": {
  "kernelspec": {
   "display_name": "Python 3",
   "language": "python",
   "name": "python3"
  },
  "language_info": {
   "codemirror_mode": {
    "name": "ipython",
    "version": 2
   },
   "file_extension": ".py",
   "mimetype": "text/x-python",
   "name": "python",
   "nbconvert_exporter": "python",
   "pygments_lexer": "ipython2",
   "version": "2.7.6"
  }
 },
 "nbformat": 4,
 "nbformat_minor": 5
}
