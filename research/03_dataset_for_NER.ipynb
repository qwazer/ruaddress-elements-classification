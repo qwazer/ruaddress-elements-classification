{
 "cells": [
  {
   "metadata": {},
   "cell_type": "markdown",
   "source": "# Разметка данных",
   "id": "5d544189ce9d8b"
  },
  {
   "metadata": {},
   "cell_type": "markdown",
   "source": "# Пакеты",
   "id": "4fda22c3b6b2d680"
  },
  {
   "metadata": {
    "ExecuteTime": {
     "end_time": "2024-05-09T06:18:10.256067Z",
     "start_time": "2024-05-09T06:18:08.715710Z"
    }
   },
   "cell_type": "code",
   "source": [
    "import pandas as pd\n",
    "from enum import Enum\n",
    "from datasets import Dataset, DatasetDict"
   ],
   "id": "b9c8c7e93bf97f90",
   "outputs": [],
   "execution_count": 3
  },
  {
   "metadata": {
    "ExecuteTime": {
     "end_time": "2024-05-09T06:18:14.823596Z",
     "start_time": "2024-05-09T06:18:10.259177Z"
    }
   },
   "cell_type": "code",
   "source": [
    "df = pd.read_csv(\"places_address_elements.csv\")\n",
    "df = df.fillna('')"
   ],
   "id": "1008eace1928f527",
   "outputs": [],
   "execution_count": 4
  },
  {
   "metadata": {
    "ExecuteTime": {
     "end_time": "2024-05-09T06:18:14.857510Z",
     "start_time": "2024-05-09T06:18:14.825641Z"
    }
   },
   "cell_type": "code",
   "source": "df",
   "id": "4e164d07c622195",
   "outputs": [
    {
     "data": {
      "text/plain": [
       "                  region_name region_type_name region_type_name_short  \\\n",
       "0                      Адыгея       Республика                   Респ   \n",
       "1                Башкортостан       Республика                   Респ   \n",
       "2                       Алтай       Республика                   Респ   \n",
       "3        Кабардино-Балкарская       Республика                   Респ   \n",
       "4                    Калмыкия       Республика                   Респ   \n",
       "...                       ...              ...                    ...   \n",
       "1519314         Краснодарский             Край                   край   \n",
       "1519315         Краснодарский             Край                   край   \n",
       "1519316         Краснодарский             Край                   край   \n",
       "1519317         Краснодарский             Край                   край   \n",
       "1519318         Краснодарский             Край                   край   \n",
       "\n",
       "          area_name area_type_name area_type_name_short city_name  \\\n",
       "0                                                                   \n",
       "1                                                                   \n",
       "2                                                                   \n",
       "3                                                                   \n",
       "4                                                                   \n",
       "...             ...            ...                  ...       ...   \n",
       "1519314  Тихорецкий          Район                  р-н  Тихорецк   \n",
       "1519315  Тихорецкий          Район                  р-н  Тихорецк   \n",
       "1519316  Тихорецкий          Район                  р-н  Тихорецк   \n",
       "1519317  Тихорецкий          Район                  р-н  Тихорецк   \n",
       "1519318  Тихорецкий          Район                  р-н  Тихорецк   \n",
       "\n",
       "        city_type_name city_type_name_short territory_name  \\\n",
       "0                                                            \n",
       "1                                                            \n",
       "2                                                            \n",
       "3                                                            \n",
       "4                                                            \n",
       "...                ...                  ...            ...   \n",
       "1519314          Город                    г     Западный-4   \n",
       "1519315          Город                    г     Западный-4   \n",
       "1519316          Город                    г     Западный-4   \n",
       "1519317          Город                    г     Западный-4   \n",
       "1519318          Город                    г     Западный-5   \n",
       "\n",
       "        territory_type_name territory_type_name_short  street_name  \\\n",
       "0                                                                    \n",
       "1                                                                    \n",
       "2                                                                    \n",
       "3                                                                    \n",
       "4                                                                    \n",
       "...                     ...                       ...          ...   \n",
       "1519314      Территория СНТ                  тер. СНТ    Малиновая   \n",
       "1519315      Территория СНТ                  тер. СНТ   Персиковая   \n",
       "1519316      Территория СНТ                  тер. СНТ    Яблоневая   \n",
       "1519317      Территория СНТ                  тер. СНТ      Садовая   \n",
       "1519318      Территория СНТ                  тер. СНТ  Виноградная   \n",
       "\n",
       "        street_type_name street_type_name_short  \n",
       "0                                                \n",
       "1                                                \n",
       "2                                                \n",
       "3                                                \n",
       "4                                                \n",
       "...                  ...                    ...  \n",
       "1519314            Улица                    ул.  \n",
       "1519315            Улица                    ул.  \n",
       "1519316            Улица                    ул.  \n",
       "1519317            Улица                    ул.  \n",
       "1519318            Улица                    ул.  \n",
       "\n",
       "[1519319 rows x 15 columns]"
      ],
      "text/html": [
       "<div>\n",
       "<style scoped>\n",
       "    .dataframe tbody tr th:only-of-type {\n",
       "        vertical-align: middle;\n",
       "    }\n",
       "\n",
       "    .dataframe tbody tr th {\n",
       "        vertical-align: top;\n",
       "    }\n",
       "\n",
       "    .dataframe thead th {\n",
       "        text-align: right;\n",
       "    }\n",
       "</style>\n",
       "<table border=\"1\" class=\"dataframe\">\n",
       "  <thead>\n",
       "    <tr style=\"text-align: right;\">\n",
       "      <th></th>\n",
       "      <th>region_name</th>\n",
       "      <th>region_type_name</th>\n",
       "      <th>region_type_name_short</th>\n",
       "      <th>area_name</th>\n",
       "      <th>area_type_name</th>\n",
       "      <th>area_type_name_short</th>\n",
       "      <th>city_name</th>\n",
       "      <th>city_type_name</th>\n",
       "      <th>city_type_name_short</th>\n",
       "      <th>territory_name</th>\n",
       "      <th>territory_type_name</th>\n",
       "      <th>territory_type_name_short</th>\n",
       "      <th>street_name</th>\n",
       "      <th>street_type_name</th>\n",
       "      <th>street_type_name_short</th>\n",
       "    </tr>\n",
       "  </thead>\n",
       "  <tbody>\n",
       "    <tr>\n",
       "      <th>0</th>\n",
       "      <td>Адыгея</td>\n",
       "      <td>Республика</td>\n",
       "      <td>Респ</td>\n",
       "      <td></td>\n",
       "      <td></td>\n",
       "      <td></td>\n",
       "      <td></td>\n",
       "      <td></td>\n",
       "      <td></td>\n",
       "      <td></td>\n",
       "      <td></td>\n",
       "      <td></td>\n",
       "      <td></td>\n",
       "      <td></td>\n",
       "      <td></td>\n",
       "    </tr>\n",
       "    <tr>\n",
       "      <th>1</th>\n",
       "      <td>Башкортостан</td>\n",
       "      <td>Республика</td>\n",
       "      <td>Респ</td>\n",
       "      <td></td>\n",
       "      <td></td>\n",
       "      <td></td>\n",
       "      <td></td>\n",
       "      <td></td>\n",
       "      <td></td>\n",
       "      <td></td>\n",
       "      <td></td>\n",
       "      <td></td>\n",
       "      <td></td>\n",
       "      <td></td>\n",
       "      <td></td>\n",
       "    </tr>\n",
       "    <tr>\n",
       "      <th>2</th>\n",
       "      <td>Алтай</td>\n",
       "      <td>Республика</td>\n",
       "      <td>Респ</td>\n",
       "      <td></td>\n",
       "      <td></td>\n",
       "      <td></td>\n",
       "      <td></td>\n",
       "      <td></td>\n",
       "      <td></td>\n",
       "      <td></td>\n",
       "      <td></td>\n",
       "      <td></td>\n",
       "      <td></td>\n",
       "      <td></td>\n",
       "      <td></td>\n",
       "    </tr>\n",
       "    <tr>\n",
       "      <th>3</th>\n",
       "      <td>Кабардино-Балкарская</td>\n",
       "      <td>Республика</td>\n",
       "      <td>Респ</td>\n",
       "      <td></td>\n",
       "      <td></td>\n",
       "      <td></td>\n",
       "      <td></td>\n",
       "      <td></td>\n",
       "      <td></td>\n",
       "      <td></td>\n",
       "      <td></td>\n",
       "      <td></td>\n",
       "      <td></td>\n",
       "      <td></td>\n",
       "      <td></td>\n",
       "    </tr>\n",
       "    <tr>\n",
       "      <th>4</th>\n",
       "      <td>Калмыкия</td>\n",
       "      <td>Республика</td>\n",
       "      <td>Респ</td>\n",
       "      <td></td>\n",
       "      <td></td>\n",
       "      <td></td>\n",
       "      <td></td>\n",
       "      <td></td>\n",
       "      <td></td>\n",
       "      <td></td>\n",
       "      <td></td>\n",
       "      <td></td>\n",
       "      <td></td>\n",
       "      <td></td>\n",
       "      <td></td>\n",
       "    </tr>\n",
       "    <tr>\n",
       "      <th>...</th>\n",
       "      <td>...</td>\n",
       "      <td>...</td>\n",
       "      <td>...</td>\n",
       "      <td>...</td>\n",
       "      <td>...</td>\n",
       "      <td>...</td>\n",
       "      <td>...</td>\n",
       "      <td>...</td>\n",
       "      <td>...</td>\n",
       "      <td>...</td>\n",
       "      <td>...</td>\n",
       "      <td>...</td>\n",
       "      <td>...</td>\n",
       "      <td>...</td>\n",
       "      <td>...</td>\n",
       "    </tr>\n",
       "    <tr>\n",
       "      <th>1519314</th>\n",
       "      <td>Краснодарский</td>\n",
       "      <td>Край</td>\n",
       "      <td>край</td>\n",
       "      <td>Тихорецкий</td>\n",
       "      <td>Район</td>\n",
       "      <td>р-н</td>\n",
       "      <td>Тихорецк</td>\n",
       "      <td>Город</td>\n",
       "      <td>г</td>\n",
       "      <td>Западный-4</td>\n",
       "      <td>Территория СНТ</td>\n",
       "      <td>тер. СНТ</td>\n",
       "      <td>Малиновая</td>\n",
       "      <td>Улица</td>\n",
       "      <td>ул.</td>\n",
       "    </tr>\n",
       "    <tr>\n",
       "      <th>1519315</th>\n",
       "      <td>Краснодарский</td>\n",
       "      <td>Край</td>\n",
       "      <td>край</td>\n",
       "      <td>Тихорецкий</td>\n",
       "      <td>Район</td>\n",
       "      <td>р-н</td>\n",
       "      <td>Тихорецк</td>\n",
       "      <td>Город</td>\n",
       "      <td>г</td>\n",
       "      <td>Западный-4</td>\n",
       "      <td>Территория СНТ</td>\n",
       "      <td>тер. СНТ</td>\n",
       "      <td>Персиковая</td>\n",
       "      <td>Улица</td>\n",
       "      <td>ул.</td>\n",
       "    </tr>\n",
       "    <tr>\n",
       "      <th>1519316</th>\n",
       "      <td>Краснодарский</td>\n",
       "      <td>Край</td>\n",
       "      <td>край</td>\n",
       "      <td>Тихорецкий</td>\n",
       "      <td>Район</td>\n",
       "      <td>р-н</td>\n",
       "      <td>Тихорецк</td>\n",
       "      <td>Город</td>\n",
       "      <td>г</td>\n",
       "      <td>Западный-4</td>\n",
       "      <td>Территория СНТ</td>\n",
       "      <td>тер. СНТ</td>\n",
       "      <td>Яблоневая</td>\n",
       "      <td>Улица</td>\n",
       "      <td>ул.</td>\n",
       "    </tr>\n",
       "    <tr>\n",
       "      <th>1519317</th>\n",
       "      <td>Краснодарский</td>\n",
       "      <td>Край</td>\n",
       "      <td>край</td>\n",
       "      <td>Тихорецкий</td>\n",
       "      <td>Район</td>\n",
       "      <td>р-н</td>\n",
       "      <td>Тихорецк</td>\n",
       "      <td>Город</td>\n",
       "      <td>г</td>\n",
       "      <td>Западный-4</td>\n",
       "      <td>Территория СНТ</td>\n",
       "      <td>тер. СНТ</td>\n",
       "      <td>Садовая</td>\n",
       "      <td>Улица</td>\n",
       "      <td>ул.</td>\n",
       "    </tr>\n",
       "    <tr>\n",
       "      <th>1519318</th>\n",
       "      <td>Краснодарский</td>\n",
       "      <td>Край</td>\n",
       "      <td>край</td>\n",
       "      <td>Тихорецкий</td>\n",
       "      <td>Район</td>\n",
       "      <td>р-н</td>\n",
       "      <td>Тихорецк</td>\n",
       "      <td>Город</td>\n",
       "      <td>г</td>\n",
       "      <td>Западный-5</td>\n",
       "      <td>Территория СНТ</td>\n",
       "      <td>тер. СНТ</td>\n",
       "      <td>Виноградная</td>\n",
       "      <td>Улица</td>\n",
       "      <td>ул.</td>\n",
       "    </tr>\n",
       "  </tbody>\n",
       "</table>\n",
       "<p>1519319 rows × 15 columns</p>\n",
       "</div>"
      ]
     },
     "execution_count": 5,
     "metadata": {},
     "output_type": "execute_result"
    }
   ],
   "execution_count": 5
  },
  {
   "metadata": {},
   "cell_type": "markdown",
   "source": "# Словарь ElementType ",
   "id": "bcacfc0eb95924bc"
  },
  {
   "metadata": {
    "ExecuteTime": {
     "end_time": "2024-05-09T06:18:14.866165Z",
     "start_time": "2024-05-09T06:18:14.859779Z"
    }
   },
   "cell_type": "code",
   "source": [
    "\n",
    "class ElementType(Enum):\n",
    "    OTHER = 0\n",
    "    REGION=1\n",
    "    REGION_TYPE=2\n",
    "    AREA=3\n",
    "    AREA_TYPE=4\n",
    "    TERRITORY=5\n",
    "    TERRITORY_TYPE=6\n",
    "    CITY=7\n",
    "    CITY_TYPE=8\n",
    "    STREET=9\n",
    "    STREET_TYPE=10\n"
   ],
   "id": "749db5a01021d8d7",
   "outputs": [],
   "execution_count": 6
  },
  {
   "metadata": {
    "ExecuteTime": {
     "end_time": "2024-05-09T06:18:14.871514Z",
     "start_time": "2024-05-09T06:18:14.867906Z"
    }
   },
   "cell_type": "code",
   "source": [
    "e = ElementType.OTHER\n",
    "e.value"
   ],
   "id": "817faeb8527448c7",
   "outputs": [
    {
     "data": {
      "text/plain": [
       "0"
      ]
     },
     "execution_count": 7,
     "metadata": {},
     "output_type": "execute_result"
    }
   ],
   "execution_count": 7
  },
  {
   "metadata": {},
   "cell_type": "markdown",
   "source": "# Представление адреса в виде типизированных слов-токенов",
   "id": "e260a21f8b69fa25"
  },
  {
   "metadata": {},
   "cell_type": "markdown",
   "source": "Разбиение адреса на слова-токены:",
   "id": "aa8acb702073652e"
  },
  {
   "metadata": {
    "ExecuteTime": {
     "end_time": "2024-05-09T06:18:14.892580Z",
     "start_time": "2024-05-09T06:18:14.876631Z"
    }
   },
   "cell_type": "code",
   "source": [
    "str ='Алтайский Край, Залесовский Район, Залесово Село, автодорога Мартыново-Тогул-Залесово Территория, 151-й Километр'\n",
    "tokens = str.split(' ')\n",
    "tokens"
   ],
   "id": "44039c8ca1a6c761",
   "outputs": [
    {
     "data": {
      "text/plain": [
       "['Алтайский',\n",
       " 'Край,',\n",
       " 'Залесовский',\n",
       " 'Район,',\n",
       " 'Залесово',\n",
       " 'Село,',\n",
       " 'автодорога',\n",
       " 'Мартыново-Тогул-Залесово',\n",
       " 'Территория,',\n",
       " '151-й',\n",
       " 'Километр']"
      ]
     },
     "execution_count": 8,
     "metadata": {},
     "output_type": "execute_result"
    }
   ],
   "execution_count": 8
  },
  {
   "metadata": {},
   "cell_type": "markdown",
   "source": "Проставим каждому токену тип. Для этого введем класс TypedWord",
   "id": "6fc7f49957ea4ca5"
  },
  {
   "metadata": {
    "ExecuteTime": {
     "end_time": "2024-05-09T06:18:14.899477Z",
     "start_time": "2024-05-09T06:18:14.894556Z"
    }
   },
   "cell_type": "code",
   "source": [
    "class TypedWord:\n",
    "    word = ''\n",
    "    type = ElementType.OTHER\n",
    "    def __init__(self, word:str, type:ElementType):\n",
    "        self.word = word\n",
    "        self.type = type\n",
    "    \n",
    "    def __repr__(self):\n",
    "        return self.word + \":\" + self.type.name"
   ],
   "id": "4e63fb63aa956f58",
   "outputs": [],
   "execution_count": 9
  },
  {
   "metadata": {},
   "cell_type": "markdown",
   "source": "### Функция конвертации набора адресо-образующих элементов в TypedWords",
   "id": "7c41d46e6ddf5661"
  },
  {
   "metadata": {
    "ExecuteTime": {
     "end_time": "2024-05-09T06:18:14.907587Z",
     "start_time": "2024-05-09T06:18:14.901885Z"
    }
   },
   "cell_type": "code",
   "source": [
    "def to_typed_word_list(input , elementType :ElementType  ) -> list:\n",
    "    words = list(filter(('').__ne__, input.split(' ')))\n",
    "    res = list()\n",
    "    for word in words:\n",
    "        res.append(TypedWord(word, elementType))\n",
    "    return res\n",
    "\n",
    "\n",
    "def convert_address_elements(elements: dict):\n",
    "    return (to_typed_word_list(elements['region_name'], ElementType.REGION) +\n",
    "            to_typed_word_list(elements['region_type_name'], ElementType.REGION_TYPE) +\n",
    "            to_typed_word_list(elements['area_name'], ElementType.AREA) +\n",
    "            to_typed_word_list(elements['area_type_name'], ElementType.AREA_TYPE) +\n",
    "            to_typed_word_list(elements['city_name'], ElementType.CITY) +\n",
    "            to_typed_word_list(elements['city_type_name'], ElementType.CITY_TYPE) +\n",
    "            to_typed_word_list(elements['territory_name'], ElementType.TERRITORY) +\n",
    "            to_typed_word_list(elements['territory_type_name'], ElementType.TERRITORY_TYPE) +\n",
    "            to_typed_word_list(elements['street_name'], ElementType.STREET) +\n",
    "            to_typed_word_list(elements['street_type_name'], ElementType.STREET_TYPE)\n",
    "            )\n",
    "\n",
    "# elements = df.sample().to_dict('records')\n",
    "# convert_address_elements(elements[0])"
   ],
   "id": "bdca3783a6f219ef",
   "outputs": [],
   "execution_count": 10
  },
  {
   "metadata": {
    "ExecuteTime": {
     "end_time": "2024-05-09T06:18:14.979030Z",
     "start_time": "2024-05-09T06:18:14.910738Z"
    }
   },
   "cell_type": "code",
   "source": [
    "sample_typed_words = convert_address_elements(df.sample().to_dict('records')[0])\n",
    "sample_typed_words"
   ],
   "id": "e68e66593632f9b",
   "outputs": [
    {
     "data": {
      "text/plain": [
       "[Рязанская:REGION,\n",
       " Область:REGION_TYPE,\n",
       " Рыбновский:AREA,\n",
       " Район:AREA_TYPE,\n",
       " Высокое:CITY,\n",
       " Деревня:CITY_TYPE,\n",
       " Сельскохозяйственная:TERRITORY,\n",
       " Территория:TERRITORY_TYPE]"
      ]
     },
     "execution_count": 11,
     "metadata": {},
     "output_type": "execute_result"
    }
   ],
   "execution_count": 11
  },
  {
   "metadata": {},
   "cell_type": "markdown",
   "source": "# TypedWord list to tokens and ner_tags",
   "id": "644e3c26b48cfc30"
  },
  {
   "metadata": {
    "ExecuteTime": {
     "end_time": "2024-05-09T06:18:14.986481Z",
     "start_time": "2024-05-09T06:18:14.981349Z"
    }
   },
   "cell_type": "code",
   "source": [
    "class AddressTransform:\n",
    "    # p - is probability to apply transform\n",
    "    def __init__(self, p):\n",
    "        self.proba = p\n",
    "\n",
    "    def transform(self, input) -> list:\n",
    "        return None"
   ],
   "id": "a7cf8b9a7833da79",
   "outputs": [],
   "execution_count": 12
  },
  {
   "metadata": {
    "ExecuteTime": {
     "end_time": "2024-05-09T06:18:14.993584Z",
     "start_time": "2024-05-09T06:18:14.988882Z"
    }
   },
   "cell_type": "code",
   "source": [
    "class SimpleAddressTransform(AddressTransform):\n",
    "    def transform(self, input:list) -> tuple:\n",
    "        words = []\n",
    "        type_codes = []\n",
    "        for element in input:\n",
    "            words.append(element.word)\n",
    "            type_codes.append(element.type.value)\n",
    "        return words, type_codes       "
   ],
   "id": "66800168a93d28b4",
   "outputs": [],
   "execution_count": 13
  },
  {
   "metadata": {
    "ExecuteTime": {
     "end_time": "2024-05-09T06:18:15.012085Z",
     "start_time": "2024-05-09T06:18:14.995623Z"
    }
   },
   "cell_type": "code",
   "source": [
    "transform = SimpleAddressTransform(1)\n",
    "transform.transform(sample_typed_words)"
   ],
   "id": "f0f37d614bad7206",
   "outputs": [
    {
     "data": {
      "text/plain": [
       "(['Рязанская',\n",
       "  'Область',\n",
       "  'Рыбновский',\n",
       "  'Район',\n",
       "  'Высокое',\n",
       "  'Деревня',\n",
       "  'Сельскохозяйственная',\n",
       "  'Территория'],\n",
       " [1, 2, 3, 4, 7, 8, 5, 6])"
      ]
     },
     "execution_count": 14,
     "metadata": {},
     "output_type": "execute_result"
    }
   ],
   "execution_count": 14
  },
  {
   "metadata": {
    "ExecuteTime": {
     "end_time": "2024-05-09T06:18:15.016108Z",
     "start_time": "2024-05-09T06:18:15.013305Z"
    }
   },
   "cell_type": "code",
   "source": [
    "def typed_words_to_words(input:list):\n",
    "    words = []\n",
    "    for element in input:\n",
    "        words.append(element.word)\n",
    "    return words    "
   ],
   "id": "66e2a79e321e09a5",
   "outputs": [],
   "execution_count": 15
  },
  {
   "metadata": {
    "ExecuteTime": {
     "end_time": "2024-05-09T06:18:15.020694Z",
     "start_time": "2024-05-09T06:18:15.017518Z"
    }
   },
   "cell_type": "code",
   "source": [
    "def typed_words_to_type_codes(input:list):\n",
    "    type_codes = []\n",
    "    for element in input:\n",
    "        type_codes.append(element.type.value)\n",
    "    return type_codes    "
   ],
   "id": "afed744358422f6d",
   "outputs": [],
   "execution_count": 16
  },
  {
   "metadata": {},
   "cell_type": "markdown",
   "source": "## Appply to dataframe",
   "id": "92d8ff23957a93d6"
  },
  {
   "metadata": {
    "ExecuteTime": {
     "end_time": "2024-05-09T06:20:00.759723Z",
     "start_time": "2024-05-09T06:18:15.022251Z"
    }
   },
   "cell_type": "code",
   "source": [
    "df['typed_words'] = df.apply(convert_address_elements, axis=1)\n",
    "df['tokens'] = df.apply(lambda row: typed_words_to_words(row.typed_words),  axis=1)\n",
    "df['classes'] = df.apply(lambda row: typed_words_to_type_codes(row.typed_words),  axis=1)"
   ],
   "id": "52975afd7505305c",
   "outputs": [],
   "execution_count": 17
  },
  {
   "metadata": {
    "ExecuteTime": {
     "end_time": "2024-05-09T06:20:00.865985Z",
     "start_time": "2024-05-09T06:20:00.765055Z"
    }
   },
   "cell_type": "code",
   "source": "df_token_with_classes = df[['tokens','classes']]",
   "id": "f6c66bd2ff1a1527",
   "outputs": [],
   "execution_count": 18
  },
  {
   "metadata": {
    "ExecuteTime": {
     "end_time": "2024-05-09T06:20:03.290263Z",
     "start_time": "2024-05-09T06:20:00.868384Z"
    }
   },
   "cell_type": "code",
   "source": "df_token_with_classes.to_pickle('./df_token_with_classes.pkl')",
   "id": "b5ae111aa1d8a0c3",
   "outputs": [],
   "execution_count": 19
  },
  {
   "metadata": {
    "ExecuteTime": {
     "end_time": "2024-05-09T06:20:06.522778Z",
     "start_time": "2024-05-09T06:20:03.295814Z"
    }
   },
   "cell_type": "code",
   "source": "!zip archive_pkl.zip ./df_token_with_classes.pkl  ",
   "id": "cdacf6c212cee260",
   "outputs": [
    {
     "name": "stdout",
     "output_type": "stream",
     "text": [
      "  adding: df_token_with_classes.pkl (deflated 90%)\r\n"
     ]
    }
   ],
   "execution_count": 20
  }
 ],
 "metadata": {
  "kernelspec": {
   "display_name": "Python 3",
   "language": "python",
   "name": "python3"
  },
  "language_info": {
   "codemirror_mode": {
    "name": "ipython",
    "version": 2
   },
   "file_extension": ".py",
   "mimetype": "text/x-python",
   "name": "python",
   "nbconvert_exporter": "python",
   "pygments_lexer": "ipython2",
   "version": "2.7.6"
  }
 },
 "nbformat": 4,
 "nbformat_minor": 5
}
