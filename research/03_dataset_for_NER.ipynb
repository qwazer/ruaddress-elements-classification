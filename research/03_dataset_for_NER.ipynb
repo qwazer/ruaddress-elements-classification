{
 "cells": [
  {
   "metadata": {},
   "cell_type": "markdown",
   "source": "# Разметка данных",
   "id": "5d544189ce9d8b"
  },
  {
   "metadata": {},
   "cell_type": "markdown",
   "source": "# Пакеты",
   "id": "4fda22c3b6b2d680"
  },
  {
   "metadata": {
    "ExecuteTime": {
     "end_time": "2024-05-08T12:59:07.229046Z",
     "start_time": "2024-05-08T12:59:06.621096Z"
    }
   },
   "cell_type": "code",
   "source": [
    "import pandas as pd\n",
    "from enum import Enum\n",
    "from datasets import Dataset, DatasetDict"
   ],
   "id": "b9c8c7e93bf97f90",
   "outputs": [],
   "execution_count": 1
  },
  {
   "metadata": {
    "ExecuteTime": {
     "end_time": "2024-05-08T12:59:14.633400Z",
     "start_time": "2024-05-08T12:59:11.262189Z"
    }
   },
   "cell_type": "code",
   "source": [
    "df = pd.read_csv(\"places_address_elements.csv\")\n",
    "df = df.fillna('')"
   ],
   "id": "1008eace1928f527",
   "outputs": [],
   "execution_count": 2
  },
  {
   "metadata": {
    "ExecuteTime": {
     "end_time": "2024-05-08T12:59:15.909949Z",
     "start_time": "2024-05-08T12:59:15.890562Z"
    }
   },
   "cell_type": "code",
   "source": "df",
   "id": "4e164d07c622195",
   "outputs": [
    {
     "data": {
      "text/plain": [
       "                  region_name region_type_name region_type_name_short  \\\n",
       "0                      Адыгея       Республика                   Респ   \n",
       "1                Башкортостан       Республика                   Респ   \n",
       "2                       Алтай       Республика                   Респ   \n",
       "3        Кабардино-Балкарская       Республика                   Респ   \n",
       "4                    Калмыкия       Республика                   Респ   \n",
       "...                       ...              ...                    ...   \n",
       "1519314         Краснодарский             Край                   край   \n",
       "1519315         Краснодарский             Край                   край   \n",
       "1519316         Краснодарский             Край                   край   \n",
       "1519317         Краснодарский             Край                   край   \n",
       "1519318         Краснодарский             Край                   край   \n",
       "\n",
       "          area_name area_type_name area_type_name_short city_name  \\\n",
       "0                                                                   \n",
       "1                                                                   \n",
       "2                                                                   \n",
       "3                                                                   \n",
       "4                                                                   \n",
       "...             ...            ...                  ...       ...   \n",
       "1519314  Тихорецкий          Район                  р-н  Тихорецк   \n",
       "1519315  Тихорецкий          Район                  р-н  Тихорецк   \n",
       "1519316  Тихорецкий          Район                  р-н  Тихорецк   \n",
       "1519317  Тихорецкий          Район                  р-н  Тихорецк   \n",
       "1519318  Тихорецкий          Район                  р-н  Тихорецк   \n",
       "\n",
       "        city_type_name city_type_name_short territory_name  \\\n",
       "0                                                            \n",
       "1                                                            \n",
       "2                                                            \n",
       "3                                                            \n",
       "4                                                            \n",
       "...                ...                  ...            ...   \n",
       "1519314          Город                    г     Западный-4   \n",
       "1519315          Город                    г     Западный-4   \n",
       "1519316          Город                    г     Западный-4   \n",
       "1519317          Город                    г     Западный-4   \n",
       "1519318          Город                    г     Западный-5   \n",
       "\n",
       "        territory_type_name territory_type_name_short  street_name  \\\n",
       "0                                                                    \n",
       "1                                                                    \n",
       "2                                                                    \n",
       "3                                                                    \n",
       "4                                                                    \n",
       "...                     ...                       ...          ...   \n",
       "1519314      Территория СНТ                  тер. СНТ    Малиновая   \n",
       "1519315      Территория СНТ                  тер. СНТ   Персиковая   \n",
       "1519316      Территория СНТ                  тер. СНТ    Яблоневая   \n",
       "1519317      Территория СНТ                  тер. СНТ      Садовая   \n",
       "1519318      Территория СНТ                  тер. СНТ  Виноградная   \n",
       "\n",
       "        street_type_name street_type_name_short  \n",
       "0                                                \n",
       "1                                                \n",
       "2                                                \n",
       "3                                                \n",
       "4                                                \n",
       "...                  ...                    ...  \n",
       "1519314            Улица                    ул.  \n",
       "1519315            Улица                    ул.  \n",
       "1519316            Улица                    ул.  \n",
       "1519317            Улица                    ул.  \n",
       "1519318            Улица                    ул.  \n",
       "\n",
       "[1519319 rows x 15 columns]"
      ],
      "text/html": [
       "<div>\n",
       "<style scoped>\n",
       "    .dataframe tbody tr th:only-of-type {\n",
       "        vertical-align: middle;\n",
       "    }\n",
       "\n",
       "    .dataframe tbody tr th {\n",
       "        vertical-align: top;\n",
       "    }\n",
       "\n",
       "    .dataframe thead th {\n",
       "        text-align: right;\n",
       "    }\n",
       "</style>\n",
       "<table border=\"1\" class=\"dataframe\">\n",
       "  <thead>\n",
       "    <tr style=\"text-align: right;\">\n",
       "      <th></th>\n",
       "      <th>region_name</th>\n",
       "      <th>region_type_name</th>\n",
       "      <th>region_type_name_short</th>\n",
       "      <th>area_name</th>\n",
       "      <th>area_type_name</th>\n",
       "      <th>area_type_name_short</th>\n",
       "      <th>city_name</th>\n",
       "      <th>city_type_name</th>\n",
       "      <th>city_type_name_short</th>\n",
       "      <th>territory_name</th>\n",
       "      <th>territory_type_name</th>\n",
       "      <th>territory_type_name_short</th>\n",
       "      <th>street_name</th>\n",
       "      <th>street_type_name</th>\n",
       "      <th>street_type_name_short</th>\n",
       "    </tr>\n",
       "  </thead>\n",
       "  <tbody>\n",
       "    <tr>\n",
       "      <th>0</th>\n",
       "      <td>Адыгея</td>\n",
       "      <td>Республика</td>\n",
       "      <td>Респ</td>\n",
       "      <td></td>\n",
       "      <td></td>\n",
       "      <td></td>\n",
       "      <td></td>\n",
       "      <td></td>\n",
       "      <td></td>\n",
       "      <td></td>\n",
       "      <td></td>\n",
       "      <td></td>\n",
       "      <td></td>\n",
       "      <td></td>\n",
       "      <td></td>\n",
       "    </tr>\n",
       "    <tr>\n",
       "      <th>1</th>\n",
       "      <td>Башкортостан</td>\n",
       "      <td>Республика</td>\n",
       "      <td>Респ</td>\n",
       "      <td></td>\n",
       "      <td></td>\n",
       "      <td></td>\n",
       "      <td></td>\n",
       "      <td></td>\n",
       "      <td></td>\n",
       "      <td></td>\n",
       "      <td></td>\n",
       "      <td></td>\n",
       "      <td></td>\n",
       "      <td></td>\n",
       "      <td></td>\n",
       "    </tr>\n",
       "    <tr>\n",
       "      <th>2</th>\n",
       "      <td>Алтай</td>\n",
       "      <td>Республика</td>\n",
       "      <td>Респ</td>\n",
       "      <td></td>\n",
       "      <td></td>\n",
       "      <td></td>\n",
       "      <td></td>\n",
       "      <td></td>\n",
       "      <td></td>\n",
       "      <td></td>\n",
       "      <td></td>\n",
       "      <td></td>\n",
       "      <td></td>\n",
       "      <td></td>\n",
       "      <td></td>\n",
       "    </tr>\n",
       "    <tr>\n",
       "      <th>3</th>\n",
       "      <td>Кабардино-Балкарская</td>\n",
       "      <td>Республика</td>\n",
       "      <td>Респ</td>\n",
       "      <td></td>\n",
       "      <td></td>\n",
       "      <td></td>\n",
       "      <td></td>\n",
       "      <td></td>\n",
       "      <td></td>\n",
       "      <td></td>\n",
       "      <td></td>\n",
       "      <td></td>\n",
       "      <td></td>\n",
       "      <td></td>\n",
       "      <td></td>\n",
       "    </tr>\n",
       "    <tr>\n",
       "      <th>4</th>\n",
       "      <td>Калмыкия</td>\n",
       "      <td>Республика</td>\n",
       "      <td>Респ</td>\n",
       "      <td></td>\n",
       "      <td></td>\n",
       "      <td></td>\n",
       "      <td></td>\n",
       "      <td></td>\n",
       "      <td></td>\n",
       "      <td></td>\n",
       "      <td></td>\n",
       "      <td></td>\n",
       "      <td></td>\n",
       "      <td></td>\n",
       "      <td></td>\n",
       "    </tr>\n",
       "    <tr>\n",
       "      <th>...</th>\n",
       "      <td>...</td>\n",
       "      <td>...</td>\n",
       "      <td>...</td>\n",
       "      <td>...</td>\n",
       "      <td>...</td>\n",
       "      <td>...</td>\n",
       "      <td>...</td>\n",
       "      <td>...</td>\n",
       "      <td>...</td>\n",
       "      <td>...</td>\n",
       "      <td>...</td>\n",
       "      <td>...</td>\n",
       "      <td>...</td>\n",
       "      <td>...</td>\n",
       "      <td>...</td>\n",
       "    </tr>\n",
       "    <tr>\n",
       "      <th>1519314</th>\n",
       "      <td>Краснодарский</td>\n",
       "      <td>Край</td>\n",
       "      <td>край</td>\n",
       "      <td>Тихорецкий</td>\n",
       "      <td>Район</td>\n",
       "      <td>р-н</td>\n",
       "      <td>Тихорецк</td>\n",
       "      <td>Город</td>\n",
       "      <td>г</td>\n",
       "      <td>Западный-4</td>\n",
       "      <td>Территория СНТ</td>\n",
       "      <td>тер. СНТ</td>\n",
       "      <td>Малиновая</td>\n",
       "      <td>Улица</td>\n",
       "      <td>ул.</td>\n",
       "    </tr>\n",
       "    <tr>\n",
       "      <th>1519315</th>\n",
       "      <td>Краснодарский</td>\n",
       "      <td>Край</td>\n",
       "      <td>край</td>\n",
       "      <td>Тихорецкий</td>\n",
       "      <td>Район</td>\n",
       "      <td>р-н</td>\n",
       "      <td>Тихорецк</td>\n",
       "      <td>Город</td>\n",
       "      <td>г</td>\n",
       "      <td>Западный-4</td>\n",
       "      <td>Территория СНТ</td>\n",
       "      <td>тер. СНТ</td>\n",
       "      <td>Персиковая</td>\n",
       "      <td>Улица</td>\n",
       "      <td>ул.</td>\n",
       "    </tr>\n",
       "    <tr>\n",
       "      <th>1519316</th>\n",
       "      <td>Краснодарский</td>\n",
       "      <td>Край</td>\n",
       "      <td>край</td>\n",
       "      <td>Тихорецкий</td>\n",
       "      <td>Район</td>\n",
       "      <td>р-н</td>\n",
       "      <td>Тихорецк</td>\n",
       "      <td>Город</td>\n",
       "      <td>г</td>\n",
       "      <td>Западный-4</td>\n",
       "      <td>Территория СНТ</td>\n",
       "      <td>тер. СНТ</td>\n",
       "      <td>Яблоневая</td>\n",
       "      <td>Улица</td>\n",
       "      <td>ул.</td>\n",
       "    </tr>\n",
       "    <tr>\n",
       "      <th>1519317</th>\n",
       "      <td>Краснодарский</td>\n",
       "      <td>Край</td>\n",
       "      <td>край</td>\n",
       "      <td>Тихорецкий</td>\n",
       "      <td>Район</td>\n",
       "      <td>р-н</td>\n",
       "      <td>Тихорецк</td>\n",
       "      <td>Город</td>\n",
       "      <td>г</td>\n",
       "      <td>Западный-4</td>\n",
       "      <td>Территория СНТ</td>\n",
       "      <td>тер. СНТ</td>\n",
       "      <td>Садовая</td>\n",
       "      <td>Улица</td>\n",
       "      <td>ул.</td>\n",
       "    </tr>\n",
       "    <tr>\n",
       "      <th>1519318</th>\n",
       "      <td>Краснодарский</td>\n",
       "      <td>Край</td>\n",
       "      <td>край</td>\n",
       "      <td>Тихорецкий</td>\n",
       "      <td>Район</td>\n",
       "      <td>р-н</td>\n",
       "      <td>Тихорецк</td>\n",
       "      <td>Город</td>\n",
       "      <td>г</td>\n",
       "      <td>Западный-5</td>\n",
       "      <td>Территория СНТ</td>\n",
       "      <td>тер. СНТ</td>\n",
       "      <td>Виноградная</td>\n",
       "      <td>Улица</td>\n",
       "      <td>ул.</td>\n",
       "    </tr>\n",
       "  </tbody>\n",
       "</table>\n",
       "<p>1519319 rows × 15 columns</p>\n",
       "</div>"
      ]
     },
     "execution_count": 3,
     "metadata": {},
     "output_type": "execute_result"
    }
   ],
   "execution_count": 3
  },
  {
   "metadata": {},
   "cell_type": "markdown",
   "source": "# Словарь Entities",
   "id": "bcacfc0eb95924bc"
  },
  {
   "metadata": {
    "ExecuteTime": {
     "end_time": "2024-05-08T12:59:44.059741Z",
     "start_time": "2024-05-08T12:59:44.054936Z"
    }
   },
   "cell_type": "code",
   "source": [
    "\n",
    "class ElementType(Enum):\n",
    "    OTHER = 0\n",
    "    REGION=1\n",
    "    REGION_TYPE=2\n",
    "    AREA=3\n",
    "    AREA_TYPE=4\n",
    "    TERRITORY=5\n",
    "    TERRITORY_TYPE=6\n",
    "    CITY=7\n",
    "    CITY_TYPE=8\n",
    "    STREET=9\n",
    "    STREET_TYPE=10\n"
   ],
   "id": "749db5a01021d8d7",
   "outputs": [],
   "execution_count": 4
  },
  {
   "metadata": {},
   "cell_type": "markdown",
   "source": "# Представление адреса в виде слов-токенов и тегов NER",
   "id": "e260a21f8b69fa25"
  },
  {
   "metadata": {
    "ExecuteTime": {
     "end_time": "2024-05-08T12:59:49.812183Z",
     "start_time": "2024-05-08T12:59:49.806807Z"
    }
   },
   "cell_type": "code",
   "source": [
    "str ='Алтайский Край, Залесовский Район, Залесово Село, автодорога Мартыново-Тогул-Залесово Территория, 151-й Километр'\n",
    "tokens = str.split(' ')\n",
    "tokens"
   ],
   "id": "44039c8ca1a6c761",
   "outputs": [
    {
     "data": {
      "text/plain": [
       "['Алтайский',\n",
       " 'Край,',\n",
       " 'Залесовский',\n",
       " 'Район,',\n",
       " 'Залесово',\n",
       " 'Село,',\n",
       " 'автодорога',\n",
       " 'Мартыново-Тогул-Залесово',\n",
       " 'Территория,',\n",
       " '151-й',\n",
       " 'Километр']"
      ]
     },
     "execution_count": 5,
     "metadata": {},
     "output_type": "execute_result"
    }
   ],
   "execution_count": 5
  },
  {
   "metadata": {
    "ExecuteTime": {
     "end_time": "2024-05-08T12:59:57.595132Z",
     "start_time": "2024-05-08T12:59:57.587172Z"
    }
   },
   "cell_type": "code",
   "source": [
    "class TypedWord:\n",
    "    word = ''\n",
    "    type = ElementType.OTHER\n",
    "    def __init__(self, word:str, type:ElementType):\n",
    "        self.word = word\n",
    "        self.type = type\n",
    "    \n",
    "    def __repr__(self):\n",
    "        return self.word + \":\" + self.type.name"
   ],
   "id": "4e63fb63aa956f58",
   "outputs": [],
   "execution_count": 6
  },
  {
   "metadata": {},
   "cell_type": "markdown",
   "source": "### Функция конвертации набора адресо-образующих элементов в токены и NER-теги",
   "id": "7c41d46e6ddf5661"
  },
  {
   "metadata": {
    "ExecuteTime": {
     "end_time": "2024-05-08T13:00:35.126596Z",
     "start_time": "2024-05-08T13:00:35.035119Z"
    }
   },
   "cell_type": "code",
   "source": [
    "def tokens_with_tag(input , elementType :ElementType  ) -> list:\n",
    "    words = list(filter(('').__ne__, input.split(' ')))\n",
    "    res = list()\n",
    "    for word in words:\n",
    "        res.append(TypedWord(word, elementType))\n",
    "    return res\n",
    "\n",
    "\n",
    "def convert_address_elements(elements: dict):\n",
    "    return (tokens_with_tag(elements['region_name'], ElementType.REGION) +\n",
    "            tokens_with_tag(elements['region_type_name'], ElementType.REGION_TYPE) +\n",
    "            tokens_with_tag(elements['area_name'], ElementType.AREA) +\n",
    "            tokens_with_tag(elements['area_type_name'], ElementType.AREA_TYPE) +\n",
    "            tokens_with_tag(elements['city_name'], ElementType.CITY) +\n",
    "            tokens_with_tag(elements['city_type_name'], ElementType.CITY_TYPE) +\n",
    "            tokens_with_tag(elements['territory_name'], ElementType.TERRITORY) +\n",
    "            tokens_with_tag(elements['territory_type_name'], ElementType.TERRITORY_TYPE) +\n",
    "            tokens_with_tag(elements['street_name'], ElementType.STREET) +\n",
    "            tokens_with_tag(elements['street_type_name'], ElementType.STREET_TYPE)\n",
    "            )\n",
    "\n",
    "# elements = df.sample().to_dict('records')\n",
    "# convert_address_elements(elements[0])"
   ],
   "id": "bdca3783a6f219ef",
   "outputs": [
    {
     "data": {
      "text/plain": [
       "[Краснодарский:REGION,\n",
       " Край:REGION_TYPE,\n",
       " Сочи:CITY,\n",
       " Город:CITY_TYPE,\n",
       " Вишневый:TERRITORY,\n",
       " Садовое:TERRITORY_TYPE,\n",
       " товарищество:TERRITORY_TYPE]"
      ]
     },
     "execution_count": 7,
     "metadata": {},
     "output_type": "execute_result"
    }
   ],
   "execution_count": 7
  },
  {
   "metadata": {
    "ExecuteTime": {
     "end_time": "2024-05-08T13:07:23.662983Z",
     "start_time": "2024-05-08T13:07:23.574595Z"
    }
   },
   "cell_type": "code",
   "source": "convert_address_elements(df.sample().to_dict('records')[0])",
   "id": "e68e66593632f9b",
   "outputs": [
    {
     "data": {
      "text/plain": [
       "[Иркутская:REGION,\n",
       " Область:REGION_TYPE,\n",
       " Нижнеудинский:AREA,\n",
       " Район:AREA_TYPE,\n",
       " Костино:CITY,\n",
       " Поселок:CITY_TYPE,\n",
       " Сосновая:STREET,\n",
       " Улица:STREET_TYPE]"
      ]
     },
     "execution_count": 14,
     "metadata": {},
     "output_type": "execute_result"
    }
   ],
   "execution_count": 14
  },
  {
   "metadata": {},
   "cell_type": "markdown",
   "source": "## Appply to dataframe",
   "id": "92d8ff23957a93d6"
  },
  {
   "metadata": {
    "ExecuteTime": {
     "end_time": "2024-05-08T13:07:09.425245Z",
     "start_time": "2024-05-08T13:06:27.480919Z"
    }
   },
   "cell_type": "code",
   "source": "df['typed_words'] = df.apply(convert_address_elements, axis=1)",
   "id": "52975afd7505305c",
   "outputs": [],
   "execution_count": 11
  },
  {
   "metadata": {
    "ExecuteTime": {
     "end_time": "2024-05-08T13:10:53.666082Z",
     "start_time": "2024-05-08T13:10:53.630831Z"
    }
   },
   "cell_type": "code",
   "source": "typed_words = pd.DataFrame(df['typed_words'])",
   "id": "f6c66bd2ff1a1527",
   "outputs": [],
   "execution_count": 22
  },
  {
   "metadata": {
    "ExecuteTime": {
     "end_time": "2024-05-08T13:10:55.881974Z",
     "start_time": "2024-05-08T13:10:55.873921Z"
    }
   },
   "cell_type": "code",
   "source": "typed_words",
   "id": "b5ae111aa1d8a0c3",
   "outputs": [
    {
     "data": {
      "text/plain": [
       "                                               typed_words\n",
       "0                  [Адыгея:REGION, Республика:REGION_TYPE]\n",
       "1            [Башкортостан:REGION, Республика:REGION_TYPE]\n",
       "2                   [Алтай:REGION, Республика:REGION_TYPE]\n",
       "3        [Кабардино-Балкарская:REGION, Республика:REGIO...\n",
       "4                [Калмыкия:REGION, Республика:REGION_TYPE]\n",
       "...                                                    ...\n",
       "1519314  [Краснодарский:REGION, Край:REGION_TYPE, Тихор...\n",
       "1519315  [Краснодарский:REGION, Край:REGION_TYPE, Тихор...\n",
       "1519316  [Краснодарский:REGION, Край:REGION_TYPE, Тихор...\n",
       "1519317  [Краснодарский:REGION, Край:REGION_TYPE, Тихор...\n",
       "1519318  [Краснодарский:REGION, Край:REGION_TYPE, Тихор...\n",
       "\n",
       "[1519319 rows x 1 columns]"
      ],
      "text/html": [
       "<div>\n",
       "<style scoped>\n",
       "    .dataframe tbody tr th:only-of-type {\n",
       "        vertical-align: middle;\n",
       "    }\n",
       "\n",
       "    .dataframe tbody tr th {\n",
       "        vertical-align: top;\n",
       "    }\n",
       "\n",
       "    .dataframe thead th {\n",
       "        text-align: right;\n",
       "    }\n",
       "</style>\n",
       "<table border=\"1\" class=\"dataframe\">\n",
       "  <thead>\n",
       "    <tr style=\"text-align: right;\">\n",
       "      <th></th>\n",
       "      <th>typed_words</th>\n",
       "    </tr>\n",
       "  </thead>\n",
       "  <tbody>\n",
       "    <tr>\n",
       "      <th>0</th>\n",
       "      <td>[Адыгея:REGION, Республика:REGION_TYPE]</td>\n",
       "    </tr>\n",
       "    <tr>\n",
       "      <th>1</th>\n",
       "      <td>[Башкортостан:REGION, Республика:REGION_TYPE]</td>\n",
       "    </tr>\n",
       "    <tr>\n",
       "      <th>2</th>\n",
       "      <td>[Алтай:REGION, Республика:REGION_TYPE]</td>\n",
       "    </tr>\n",
       "    <tr>\n",
       "      <th>3</th>\n",
       "      <td>[Кабардино-Балкарская:REGION, Республика:REGIO...</td>\n",
       "    </tr>\n",
       "    <tr>\n",
       "      <th>4</th>\n",
       "      <td>[Калмыкия:REGION, Республика:REGION_TYPE]</td>\n",
       "    </tr>\n",
       "    <tr>\n",
       "      <th>...</th>\n",
       "      <td>...</td>\n",
       "    </tr>\n",
       "    <tr>\n",
       "      <th>1519314</th>\n",
       "      <td>[Краснодарский:REGION, Край:REGION_TYPE, Тихор...</td>\n",
       "    </tr>\n",
       "    <tr>\n",
       "      <th>1519315</th>\n",
       "      <td>[Краснодарский:REGION, Край:REGION_TYPE, Тихор...</td>\n",
       "    </tr>\n",
       "    <tr>\n",
       "      <th>1519316</th>\n",
       "      <td>[Краснодарский:REGION, Край:REGION_TYPE, Тихор...</td>\n",
       "    </tr>\n",
       "    <tr>\n",
       "      <th>1519317</th>\n",
       "      <td>[Краснодарский:REGION, Край:REGION_TYPE, Тихор...</td>\n",
       "    </tr>\n",
       "    <tr>\n",
       "      <th>1519318</th>\n",
       "      <td>[Краснодарский:REGION, Край:REGION_TYPE, Тихор...</td>\n",
       "    </tr>\n",
       "  </tbody>\n",
       "</table>\n",
       "<p>1519319 rows × 1 columns</p>\n",
       "</div>"
      ]
     },
     "execution_count": 23,
     "metadata": {},
     "output_type": "execute_result"
    }
   ],
   "execution_count": 23
  },
  {
   "metadata": {},
   "cell_type": "markdown",
   "source": "## В формате Datasets",
   "id": "f6dbe1cabf7929e6"
  },
  {
   "metadata": {
    "ExecuteTime": {
     "end_time": "2024-05-08T13:11:25.206821Z",
     "start_time": "2024-05-08T13:11:24.938910Z"
    }
   },
   "cell_type": "code",
   "source": "dataset = Dataset.from_pandas(typed_words)",
   "id": "330f01c3a2b4e620",
   "outputs": [
    {
     "ename": "ArrowInvalid",
     "evalue": "('Could not convert Адыгея:REGION with type TypedWord: did not recognize Python value type when inferring an Arrow data type', 'Conversion failed for column typed_words with type object')",
     "output_type": "error",
     "traceback": [
      "\u001B[0;31m---------------------------------------------------------------------------\u001B[0m",
      "\u001B[0;31mArrowInvalid\u001B[0m                              Traceback (most recent call last)",
      "Cell \u001B[0;32mIn[24], line 1\u001B[0m\n\u001B[0;32m----> 1\u001B[0m dataset \u001B[38;5;241m=\u001B[39m \u001B[43mDataset\u001B[49m\u001B[38;5;241;43m.\u001B[39;49m\u001B[43mfrom_pandas\u001B[49m\u001B[43m(\u001B[49m\u001B[43mtyped_words\u001B[49m\u001B[43m)\u001B[49m\n",
      "File \u001B[0;32m~/projects/qwazer/ruaddress-elements-classification/venv/lib/python3.11/site-packages/datasets/arrow_dataset.py:870\u001B[0m, in \u001B[0;36mDataset.from_pandas\u001B[0;34m(cls, df, features, info, split, preserve_index)\u001B[0m\n\u001B[1;32m    868\u001B[0m     info \u001B[38;5;241m=\u001B[39m DatasetInfo()\n\u001B[1;32m    869\u001B[0m info\u001B[38;5;241m.\u001B[39mfeatures \u001B[38;5;241m=\u001B[39m features\n\u001B[0;32m--> 870\u001B[0m table \u001B[38;5;241m=\u001B[39m \u001B[43mInMemoryTable\u001B[49m\u001B[38;5;241;43m.\u001B[39;49m\u001B[43mfrom_pandas\u001B[49m\u001B[43m(\u001B[49m\n\u001B[1;32m    871\u001B[0m \u001B[43m    \u001B[49m\u001B[43mdf\u001B[49m\u001B[38;5;241;43m=\u001B[39;49m\u001B[43mdf\u001B[49m\u001B[43m,\u001B[49m\n\u001B[1;32m    872\u001B[0m \u001B[43m    \u001B[49m\u001B[43mpreserve_index\u001B[49m\u001B[38;5;241;43m=\u001B[39;49m\u001B[43mpreserve_index\u001B[49m\u001B[43m,\u001B[49m\n\u001B[1;32m    873\u001B[0m \u001B[43m\u001B[49m\u001B[43m)\u001B[49m\n\u001B[1;32m    874\u001B[0m \u001B[38;5;28;01mif\u001B[39;00m features \u001B[38;5;129;01mis\u001B[39;00m \u001B[38;5;129;01mnot\u001B[39;00m \u001B[38;5;28;01mNone\u001B[39;00m:\n\u001B[1;32m    875\u001B[0m     \u001B[38;5;66;03m# more expensive cast than InMemoryTable.from_pandas(..., schema=features.arrow_schema)\u001B[39;00m\n\u001B[1;32m    876\u001B[0m     \u001B[38;5;66;03m# needed to support the str to Audio conversion for instance\u001B[39;00m\n\u001B[1;32m    877\u001B[0m     table \u001B[38;5;241m=\u001B[39m table\u001B[38;5;241m.\u001B[39mcast(features\u001B[38;5;241m.\u001B[39marrow_schema)\n",
      "File \u001B[0;32m~/projects/qwazer/ruaddress-elements-classification/venv/lib/python3.11/site-packages/datasets/table.py:720\u001B[0m, in \u001B[0;36mInMemoryTable.from_pandas\u001B[0;34m(cls, *args, **kwargs)\u001B[0m\n\u001B[1;32m    664\u001B[0m \u001B[38;5;129m@classmethod\u001B[39m\n\u001B[1;32m    665\u001B[0m \u001B[38;5;28;01mdef\u001B[39;00m \u001B[38;5;21mfrom_pandas\u001B[39m(\u001B[38;5;28mcls\u001B[39m, \u001B[38;5;241m*\u001B[39margs, \u001B[38;5;241m*\u001B[39m\u001B[38;5;241m*\u001B[39mkwargs):\n\u001B[1;32m    666\u001B[0m \u001B[38;5;250m    \u001B[39m\u001B[38;5;124;03m\"\"\"\u001B[39;00m\n\u001B[1;32m    667\u001B[0m \u001B[38;5;124;03m    Convert pandas.DataFrame to an Arrow Table.\u001B[39;00m\n\u001B[1;32m    668\u001B[0m \n\u001B[0;32m   (...)\u001B[0m\n\u001B[1;32m    718\u001B[0m \u001B[38;5;124;03m    ```\u001B[39;00m\n\u001B[1;32m    719\u001B[0m \u001B[38;5;124;03m    \"\"\"\u001B[39;00m\n\u001B[0;32m--> 720\u001B[0m     \u001B[38;5;28;01mreturn\u001B[39;00m \u001B[38;5;28mcls\u001B[39m(\u001B[43mpa\u001B[49m\u001B[38;5;241;43m.\u001B[39;49m\u001B[43mTable\u001B[49m\u001B[38;5;241;43m.\u001B[39;49m\u001B[43mfrom_pandas\u001B[49m\u001B[43m(\u001B[49m\u001B[38;5;241;43m*\u001B[39;49m\u001B[43margs\u001B[49m\u001B[43m,\u001B[49m\u001B[43m \u001B[49m\u001B[38;5;241;43m*\u001B[39;49m\u001B[38;5;241;43m*\u001B[39;49m\u001B[43mkwargs\u001B[49m\u001B[43m)\u001B[49m)\n",
      "File \u001B[0;32m~/projects/qwazer/ruaddress-elements-classification/venv/lib/python3.11/site-packages/pyarrow/table.pxi:4525\u001B[0m, in \u001B[0;36mpyarrow.lib.Table.from_pandas\u001B[0;34m()\u001B[0m\n",
      "File \u001B[0;32m~/projects/qwazer/ruaddress-elements-classification/venv/lib/python3.11/site-packages/pyarrow/pandas_compat.py:611\u001B[0m, in \u001B[0;36mdataframe_to_arrays\u001B[0;34m(df, schema, preserve_index, nthreads, columns, safe)\u001B[0m\n\u001B[1;32m    606\u001B[0m     \u001B[38;5;28;01mreturn\u001B[39;00m (\u001B[38;5;28misinstance\u001B[39m(arr, np\u001B[38;5;241m.\u001B[39mndarray) \u001B[38;5;129;01mand\u001B[39;00m\n\u001B[1;32m    607\u001B[0m             arr\u001B[38;5;241m.\u001B[39mflags\u001B[38;5;241m.\u001B[39mcontiguous \u001B[38;5;129;01mand\u001B[39;00m\n\u001B[1;32m    608\u001B[0m             \u001B[38;5;28missubclass\u001B[39m(arr\u001B[38;5;241m.\u001B[39mdtype\u001B[38;5;241m.\u001B[39mtype, np\u001B[38;5;241m.\u001B[39minteger))\n\u001B[1;32m    610\u001B[0m \u001B[38;5;28;01mif\u001B[39;00m nthreads \u001B[38;5;241m==\u001B[39m \u001B[38;5;241m1\u001B[39m:\n\u001B[0;32m--> 611\u001B[0m     arrays \u001B[38;5;241m=\u001B[39m \u001B[43m[\u001B[49m\u001B[43mconvert_column\u001B[49m\u001B[43m(\u001B[49m\u001B[43mc\u001B[49m\u001B[43m,\u001B[49m\u001B[43m \u001B[49m\u001B[43mf\u001B[49m\u001B[43m)\u001B[49m\n\u001B[1;32m    612\u001B[0m \u001B[43m              \u001B[49m\u001B[38;5;28;43;01mfor\u001B[39;49;00m\u001B[43m \u001B[49m\u001B[43mc\u001B[49m\u001B[43m,\u001B[49m\u001B[43m \u001B[49m\u001B[43mf\u001B[49m\u001B[43m \u001B[49m\u001B[38;5;129;43;01min\u001B[39;49;00m\u001B[43m \u001B[49m\u001B[38;5;28;43mzip\u001B[39;49m\u001B[43m(\u001B[49m\u001B[43mcolumns_to_convert\u001B[49m\u001B[43m,\u001B[49m\u001B[43m \u001B[49m\u001B[43mconvert_fields\u001B[49m\u001B[43m)\u001B[49m\u001B[43m]\u001B[49m\n\u001B[1;32m    613\u001B[0m \u001B[38;5;28;01melse\u001B[39;00m:\n\u001B[1;32m    614\u001B[0m     arrays \u001B[38;5;241m=\u001B[39m []\n",
      "File \u001B[0;32m~/projects/qwazer/ruaddress-elements-classification/venv/lib/python3.11/site-packages/pyarrow/pandas_compat.py:611\u001B[0m, in \u001B[0;36m<listcomp>\u001B[0;34m(.0)\u001B[0m\n\u001B[1;32m    606\u001B[0m     \u001B[38;5;28;01mreturn\u001B[39;00m (\u001B[38;5;28misinstance\u001B[39m(arr, np\u001B[38;5;241m.\u001B[39mndarray) \u001B[38;5;129;01mand\u001B[39;00m\n\u001B[1;32m    607\u001B[0m             arr\u001B[38;5;241m.\u001B[39mflags\u001B[38;5;241m.\u001B[39mcontiguous \u001B[38;5;129;01mand\u001B[39;00m\n\u001B[1;32m    608\u001B[0m             \u001B[38;5;28missubclass\u001B[39m(arr\u001B[38;5;241m.\u001B[39mdtype\u001B[38;5;241m.\u001B[39mtype, np\u001B[38;5;241m.\u001B[39minteger))\n\u001B[1;32m    610\u001B[0m \u001B[38;5;28;01mif\u001B[39;00m nthreads \u001B[38;5;241m==\u001B[39m \u001B[38;5;241m1\u001B[39m:\n\u001B[0;32m--> 611\u001B[0m     arrays \u001B[38;5;241m=\u001B[39m [\u001B[43mconvert_column\u001B[49m\u001B[43m(\u001B[49m\u001B[43mc\u001B[49m\u001B[43m,\u001B[49m\u001B[43m \u001B[49m\u001B[43mf\u001B[49m\u001B[43m)\u001B[49m\n\u001B[1;32m    612\u001B[0m               \u001B[38;5;28;01mfor\u001B[39;00m c, f \u001B[38;5;129;01min\u001B[39;00m \u001B[38;5;28mzip\u001B[39m(columns_to_convert, convert_fields)]\n\u001B[1;32m    613\u001B[0m \u001B[38;5;28;01melse\u001B[39;00m:\n\u001B[1;32m    614\u001B[0m     arrays \u001B[38;5;241m=\u001B[39m []\n",
      "File \u001B[0;32m~/projects/qwazer/ruaddress-elements-classification/venv/lib/python3.11/site-packages/pyarrow/pandas_compat.py:598\u001B[0m, in \u001B[0;36mdataframe_to_arrays.<locals>.convert_column\u001B[0;34m(col, field)\u001B[0m\n\u001B[1;32m    593\u001B[0m \u001B[38;5;28;01mexcept\u001B[39;00m (pa\u001B[38;5;241m.\u001B[39mArrowInvalid,\n\u001B[1;32m    594\u001B[0m         pa\u001B[38;5;241m.\u001B[39mArrowNotImplementedError,\n\u001B[1;32m    595\u001B[0m         pa\u001B[38;5;241m.\u001B[39mArrowTypeError) \u001B[38;5;28;01mas\u001B[39;00m e:\n\u001B[1;32m    596\u001B[0m     e\u001B[38;5;241m.\u001B[39margs \u001B[38;5;241m+\u001B[39m\u001B[38;5;241m=\u001B[39m (\u001B[38;5;124m\"\u001B[39m\u001B[38;5;124mConversion failed for column \u001B[39m\u001B[38;5;132;01m{!s}\u001B[39;00m\u001B[38;5;124m with type \u001B[39m\u001B[38;5;132;01m{!s}\u001B[39;00m\u001B[38;5;124m\"\u001B[39m\n\u001B[1;32m    597\u001B[0m                \u001B[38;5;241m.\u001B[39mformat(col\u001B[38;5;241m.\u001B[39mname, col\u001B[38;5;241m.\u001B[39mdtype),)\n\u001B[0;32m--> 598\u001B[0m     \u001B[38;5;28;01mraise\u001B[39;00m e\n\u001B[1;32m    599\u001B[0m \u001B[38;5;28;01mif\u001B[39;00m \u001B[38;5;129;01mnot\u001B[39;00m field_nullable \u001B[38;5;129;01mand\u001B[39;00m result\u001B[38;5;241m.\u001B[39mnull_count \u001B[38;5;241m>\u001B[39m \u001B[38;5;241m0\u001B[39m:\n\u001B[1;32m    600\u001B[0m     \u001B[38;5;28;01mraise\u001B[39;00m \u001B[38;5;167;01mValueError\u001B[39;00m(\u001B[38;5;124m\"\u001B[39m\u001B[38;5;124mField \u001B[39m\u001B[38;5;132;01m{}\u001B[39;00m\u001B[38;5;124m was non-nullable but pandas column \u001B[39m\u001B[38;5;124m\"\u001B[39m\n\u001B[1;32m    601\u001B[0m                      \u001B[38;5;124m\"\u001B[39m\u001B[38;5;124mhad \u001B[39m\u001B[38;5;132;01m{}\u001B[39;00m\u001B[38;5;124m null values\u001B[39m\u001B[38;5;124m\"\u001B[39m\u001B[38;5;241m.\u001B[39mformat(\u001B[38;5;28mstr\u001B[39m(field),\n\u001B[1;32m    602\u001B[0m                                                  result\u001B[38;5;241m.\u001B[39mnull_count))\n",
      "File \u001B[0;32m~/projects/qwazer/ruaddress-elements-classification/venv/lib/python3.11/site-packages/pyarrow/pandas_compat.py:592\u001B[0m, in \u001B[0;36mdataframe_to_arrays.<locals>.convert_column\u001B[0;34m(col, field)\u001B[0m\n\u001B[1;32m    589\u001B[0m     type_ \u001B[38;5;241m=\u001B[39m field\u001B[38;5;241m.\u001B[39mtype\n\u001B[1;32m    591\u001B[0m \u001B[38;5;28;01mtry\u001B[39;00m:\n\u001B[0;32m--> 592\u001B[0m     result \u001B[38;5;241m=\u001B[39m \u001B[43mpa\u001B[49m\u001B[38;5;241;43m.\u001B[39;49m\u001B[43marray\u001B[49m\u001B[43m(\u001B[49m\u001B[43mcol\u001B[49m\u001B[43m,\u001B[49m\u001B[43m \u001B[49m\u001B[38;5;28;43mtype\u001B[39;49m\u001B[38;5;241;43m=\u001B[39;49m\u001B[43mtype_\u001B[49m\u001B[43m,\u001B[49m\u001B[43m \u001B[49m\u001B[43mfrom_pandas\u001B[49m\u001B[38;5;241;43m=\u001B[39;49m\u001B[38;5;28;43;01mTrue\u001B[39;49;00m\u001B[43m,\u001B[49m\u001B[43m \u001B[49m\u001B[43msafe\u001B[49m\u001B[38;5;241;43m=\u001B[39;49m\u001B[43msafe\u001B[49m\u001B[43m)\u001B[49m\n\u001B[1;32m    593\u001B[0m \u001B[38;5;28;01mexcept\u001B[39;00m (pa\u001B[38;5;241m.\u001B[39mArrowInvalid,\n\u001B[1;32m    594\u001B[0m         pa\u001B[38;5;241m.\u001B[39mArrowNotImplementedError,\n\u001B[1;32m    595\u001B[0m         pa\u001B[38;5;241m.\u001B[39mArrowTypeError) \u001B[38;5;28;01mas\u001B[39;00m e:\n\u001B[1;32m    596\u001B[0m     e\u001B[38;5;241m.\u001B[39margs \u001B[38;5;241m+\u001B[39m\u001B[38;5;241m=\u001B[39m (\u001B[38;5;124m\"\u001B[39m\u001B[38;5;124mConversion failed for column \u001B[39m\u001B[38;5;132;01m{!s}\u001B[39;00m\u001B[38;5;124m with type \u001B[39m\u001B[38;5;132;01m{!s}\u001B[39;00m\u001B[38;5;124m\"\u001B[39m\n\u001B[1;32m    597\u001B[0m                \u001B[38;5;241m.\u001B[39mformat(col\u001B[38;5;241m.\u001B[39mname, col\u001B[38;5;241m.\u001B[39mdtype),)\n",
      "File \u001B[0;32m~/projects/qwazer/ruaddress-elements-classification/venv/lib/python3.11/site-packages/pyarrow/array.pxi:345\u001B[0m, in \u001B[0;36mpyarrow.lib.array\u001B[0;34m()\u001B[0m\n",
      "File \u001B[0;32m~/projects/qwazer/ruaddress-elements-classification/venv/lib/python3.11/site-packages/pyarrow/array.pxi:85\u001B[0m, in \u001B[0;36mpyarrow.lib._ndarray_to_array\u001B[0;34m()\u001B[0m\n",
      "File \u001B[0;32m~/projects/qwazer/ruaddress-elements-classification/venv/lib/python3.11/site-packages/pyarrow/error.pxi:91\u001B[0m, in \u001B[0;36mpyarrow.lib.check_status\u001B[0;34m()\u001B[0m\n",
      "\u001B[0;31mArrowInvalid\u001B[0m: ('Could not convert Адыгея:REGION with type TypedWord: did not recognize Python value type when inferring an Arrow data type', 'Conversion failed for column typed_words with type object')"
     ]
    }
   ],
   "execution_count": 24
  },
  {
   "metadata": {
    "ExecuteTime": {
     "end_time": "2024-05-01T15:40:58.359819Z",
     "start_time": "2024-05-01T15:40:58.174075Z"
    }
   },
   "cell_type": "code",
   "source": [
    "train_testvalid = dataset.train_test_split(test_size=0.33, seed=42)\n",
    "test_valid = train_testvalid['test'].train_test_split(test_size=0.5)\n",
    "dataset = DatasetDict({\n",
    "    'train': train_testvalid['train'],\n",
    "    'validation': test_valid['train'],\n",
    "    'test': test_valid['test']})"
   ],
   "id": "89a0ae9174c81f5d",
   "outputs": [],
   "execution_count": 74
  },
  {
   "metadata": {
    "ExecuteTime": {
     "end_time": "2024-05-01T15:40:58.369563Z",
     "start_time": "2024-05-01T15:40:58.361772Z"
    }
   },
   "cell_type": "code",
   "source": "dataset",
   "id": "2144eb6533afbc0e",
   "outputs": [
    {
     "data": {
      "text/plain": [
       "DatasetDict({\n",
       "    train: Dataset({\n",
       "        features: ['tokens', 'ner_tags'],\n",
       "        num_rows: 410596\n",
       "    })\n",
       "    validation: Dataset({\n",
       "        features: ['tokens', 'ner_tags'],\n",
       "        num_rows: 101117\n",
       "    })\n",
       "    test: Dataset({\n",
       "        features: ['tokens', 'ner_tags'],\n",
       "        num_rows: 101117\n",
       "    })\n",
       "})"
      ]
     },
     "execution_count": 75,
     "metadata": {},
     "output_type": "execute_result"
    }
   ],
   "execution_count": 75
  },
  {
   "metadata": {
    "ExecuteTime": {
     "end_time": "2024-05-01T15:41:01.962701Z",
     "start_time": "2024-05-01T15:40:58.371528Z"
    }
   },
   "cell_type": "code",
   "source": "dataset.save_to_disk('address_elements')",
   "id": "faa727922a788e05",
   "outputs": [
    {
     "data": {
      "text/plain": [
       "Saving the dataset (0/1 shards):   0%|          | 0/410596 [00:00<?, ? examples/s]"
      ],
      "application/vnd.jupyter.widget-view+json": {
       "version_major": 2,
       "version_minor": 0,
       "model_id": "a8956476a1054e0aa6c839a3f6bcc5c6"
      }
     },
     "metadata": {},
     "output_type": "display_data"
    },
    {
     "data": {
      "text/plain": [
       "Saving the dataset (0/1 shards):   0%|          | 0/101117 [00:00<?, ? examples/s]"
      ],
      "application/vnd.jupyter.widget-view+json": {
       "version_major": 2,
       "version_minor": 0,
       "model_id": "4a3147cf9c56496e8ad06eac0bd88eb6"
      }
     },
     "metadata": {},
     "output_type": "display_data"
    },
    {
     "data": {
      "text/plain": [
       "Saving the dataset (0/1 shards):   0%|          | 0/101117 [00:00<?, ? examples/s]"
      ],
      "application/vnd.jupyter.widget-view+json": {
       "version_major": 2,
       "version_minor": 0,
       "model_id": "e70618a8f97e4132b50123dc7460e6e4"
      }
     },
     "metadata": {},
     "output_type": "display_data"
    }
   ],
   "execution_count": 76
  },
  {
   "metadata": {},
   "cell_type": "markdown",
   "source": "",
   "id": "c45d4ccc19004a71"
  }
 ],
 "metadata": {
  "kernelspec": {
   "display_name": "Python 3",
   "language": "python",
   "name": "python3"
  },
  "language_info": {
   "codemirror_mode": {
    "name": "ipython",
    "version": 2
   },
   "file_extension": ".py",
   "mimetype": "text/x-python",
   "name": "python",
   "nbconvert_exporter": "python",
   "pygments_lexer": "ipython2",
   "version": "2.7.6"
  }
 },
 "nbformat": 4,
 "nbformat_minor": 5
}
