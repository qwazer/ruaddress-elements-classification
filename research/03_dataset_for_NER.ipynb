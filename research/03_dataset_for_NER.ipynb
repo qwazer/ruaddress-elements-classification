{
 "cells": [
  {
   "metadata": {},
   "cell_type": "markdown",
   "source": "# Разметка данных",
   "id": "5d544189ce9d8b"
  },
  {
   "metadata": {},
   "cell_type": "markdown",
   "source": "# Пакеты",
   "id": "4fda22c3b6b2d680"
  },
  {
   "metadata": {
    "ExecuteTime": {
     "end_time": "2024-05-07T16:35:14.955414Z",
     "start_time": "2024-05-07T16:35:13.617967Z"
    }
   },
   "cell_type": "code",
   "source": [
    "import pandas as pd\n",
    "from enum import Enum\n",
    "from datasets import Dataset, DatasetDict\n",
    "%matplotlib inline"
   ],
   "id": "b9c8c7e93bf97f90",
   "outputs": [],
   "execution_count": 1
  },
  {
   "metadata": {
    "ExecuteTime": {
     "end_time": "2024-05-07T16:35:22.324825Z",
     "start_time": "2024-05-07T16:35:17.714182Z"
    }
   },
   "cell_type": "code",
   "source": [
    "df = pd.read_csv(\"places_address_elements.csv\")\n",
    "df = df.fillna('')"
   ],
   "id": "1008eace1928f527",
   "outputs": [],
   "execution_count": 2
  },
  {
   "metadata": {
    "ExecuteTime": {
     "end_time": "2024-05-07T16:35:23.731217Z",
     "start_time": "2024-05-07T16:35:23.705866Z"
    }
   },
   "cell_type": "code",
   "source": "df",
   "id": "4e164d07c622195",
   "outputs": [
    {
     "data": {
      "text/plain": [
       "                  region_name region_type_name region_type_name_short  \\\n",
       "0                      Адыгея       Республика                   Респ   \n",
       "1                Башкортостан       Республика                   Респ   \n",
       "2                       Алтай       Республика                   Респ   \n",
       "3        Кабардино-Балкарская       Республика                   Респ   \n",
       "4                    Калмыкия       Республика                   Респ   \n",
       "...                       ...              ...                    ...   \n",
       "1519314         Краснодарский             Край                   край   \n",
       "1519315         Краснодарский             Край                   край   \n",
       "1519316         Краснодарский             Край                   край   \n",
       "1519317         Краснодарский             Край                   край   \n",
       "1519318         Краснодарский             Край                   край   \n",
       "\n",
       "          area_name area_type_name area_type_name_short city_name  \\\n",
       "0                                                                   \n",
       "1                                                                   \n",
       "2                                                                   \n",
       "3                                                                   \n",
       "4                                                                   \n",
       "...             ...            ...                  ...       ...   \n",
       "1519314  Тихорецкий          Район                  р-н  Тихорецк   \n",
       "1519315  Тихорецкий          Район                  р-н  Тихорецк   \n",
       "1519316  Тихорецкий          Район                  р-н  Тихорецк   \n",
       "1519317  Тихорецкий          Район                  р-н  Тихорецк   \n",
       "1519318  Тихорецкий          Район                  р-н  Тихорецк   \n",
       "\n",
       "        city_type_name city_type_name_short territory_name  \\\n",
       "0                                                            \n",
       "1                                                            \n",
       "2                                                            \n",
       "3                                                            \n",
       "4                                                            \n",
       "...                ...                  ...            ...   \n",
       "1519314          Город                    г     Западный-4   \n",
       "1519315          Город                    г     Западный-4   \n",
       "1519316          Город                    г     Западный-4   \n",
       "1519317          Город                    г     Западный-4   \n",
       "1519318          Город                    г     Западный-5   \n",
       "\n",
       "        territory_type_name territory_type_name_short  street_name  \\\n",
       "0                                                                    \n",
       "1                                                                    \n",
       "2                                                                    \n",
       "3                                                                    \n",
       "4                                                                    \n",
       "...                     ...                       ...          ...   \n",
       "1519314      Территория СНТ                  тер. СНТ    Малиновая   \n",
       "1519315      Территория СНТ                  тер. СНТ   Персиковая   \n",
       "1519316      Территория СНТ                  тер. СНТ    Яблоневая   \n",
       "1519317      Территория СНТ                  тер. СНТ      Садовая   \n",
       "1519318      Территория СНТ                  тер. СНТ  Виноградная   \n",
       "\n",
       "        street_type_name street_type_name_short  \n",
       "0                                                \n",
       "1                                                \n",
       "2                                                \n",
       "3                                                \n",
       "4                                                \n",
       "...                  ...                    ...  \n",
       "1519314            Улица                    ул.  \n",
       "1519315            Улица                    ул.  \n",
       "1519316            Улица                    ул.  \n",
       "1519317            Улица                    ул.  \n",
       "1519318            Улица                    ул.  \n",
       "\n",
       "[1519319 rows x 15 columns]"
      ],
      "text/html": [
       "<div>\n",
       "<style scoped>\n",
       "    .dataframe tbody tr th:only-of-type {\n",
       "        vertical-align: middle;\n",
       "    }\n",
       "\n",
       "    .dataframe tbody tr th {\n",
       "        vertical-align: top;\n",
       "    }\n",
       "\n",
       "    .dataframe thead th {\n",
       "        text-align: right;\n",
       "    }\n",
       "</style>\n",
       "<table border=\"1\" class=\"dataframe\">\n",
       "  <thead>\n",
       "    <tr style=\"text-align: right;\">\n",
       "      <th></th>\n",
       "      <th>region_name</th>\n",
       "      <th>region_type_name</th>\n",
       "      <th>region_type_name_short</th>\n",
       "      <th>area_name</th>\n",
       "      <th>area_type_name</th>\n",
       "      <th>area_type_name_short</th>\n",
       "      <th>city_name</th>\n",
       "      <th>city_type_name</th>\n",
       "      <th>city_type_name_short</th>\n",
       "      <th>territory_name</th>\n",
       "      <th>territory_type_name</th>\n",
       "      <th>territory_type_name_short</th>\n",
       "      <th>street_name</th>\n",
       "      <th>street_type_name</th>\n",
       "      <th>street_type_name_short</th>\n",
       "    </tr>\n",
       "  </thead>\n",
       "  <tbody>\n",
       "    <tr>\n",
       "      <th>0</th>\n",
       "      <td>Адыгея</td>\n",
       "      <td>Республика</td>\n",
       "      <td>Респ</td>\n",
       "      <td></td>\n",
       "      <td></td>\n",
       "      <td></td>\n",
       "      <td></td>\n",
       "      <td></td>\n",
       "      <td></td>\n",
       "      <td></td>\n",
       "      <td></td>\n",
       "      <td></td>\n",
       "      <td></td>\n",
       "      <td></td>\n",
       "      <td></td>\n",
       "    </tr>\n",
       "    <tr>\n",
       "      <th>1</th>\n",
       "      <td>Башкортостан</td>\n",
       "      <td>Республика</td>\n",
       "      <td>Респ</td>\n",
       "      <td></td>\n",
       "      <td></td>\n",
       "      <td></td>\n",
       "      <td></td>\n",
       "      <td></td>\n",
       "      <td></td>\n",
       "      <td></td>\n",
       "      <td></td>\n",
       "      <td></td>\n",
       "      <td></td>\n",
       "      <td></td>\n",
       "      <td></td>\n",
       "    </tr>\n",
       "    <tr>\n",
       "      <th>2</th>\n",
       "      <td>Алтай</td>\n",
       "      <td>Республика</td>\n",
       "      <td>Респ</td>\n",
       "      <td></td>\n",
       "      <td></td>\n",
       "      <td></td>\n",
       "      <td></td>\n",
       "      <td></td>\n",
       "      <td></td>\n",
       "      <td></td>\n",
       "      <td></td>\n",
       "      <td></td>\n",
       "      <td></td>\n",
       "      <td></td>\n",
       "      <td></td>\n",
       "    </tr>\n",
       "    <tr>\n",
       "      <th>3</th>\n",
       "      <td>Кабардино-Балкарская</td>\n",
       "      <td>Республика</td>\n",
       "      <td>Респ</td>\n",
       "      <td></td>\n",
       "      <td></td>\n",
       "      <td></td>\n",
       "      <td></td>\n",
       "      <td></td>\n",
       "      <td></td>\n",
       "      <td></td>\n",
       "      <td></td>\n",
       "      <td></td>\n",
       "      <td></td>\n",
       "      <td></td>\n",
       "      <td></td>\n",
       "    </tr>\n",
       "    <tr>\n",
       "      <th>4</th>\n",
       "      <td>Калмыкия</td>\n",
       "      <td>Республика</td>\n",
       "      <td>Респ</td>\n",
       "      <td></td>\n",
       "      <td></td>\n",
       "      <td></td>\n",
       "      <td></td>\n",
       "      <td></td>\n",
       "      <td></td>\n",
       "      <td></td>\n",
       "      <td></td>\n",
       "      <td></td>\n",
       "      <td></td>\n",
       "      <td></td>\n",
       "      <td></td>\n",
       "    </tr>\n",
       "    <tr>\n",
       "      <th>...</th>\n",
       "      <td>...</td>\n",
       "      <td>...</td>\n",
       "      <td>...</td>\n",
       "      <td>...</td>\n",
       "      <td>...</td>\n",
       "      <td>...</td>\n",
       "      <td>...</td>\n",
       "      <td>...</td>\n",
       "      <td>...</td>\n",
       "      <td>...</td>\n",
       "      <td>...</td>\n",
       "      <td>...</td>\n",
       "      <td>...</td>\n",
       "      <td>...</td>\n",
       "      <td>...</td>\n",
       "    </tr>\n",
       "    <tr>\n",
       "      <th>1519314</th>\n",
       "      <td>Краснодарский</td>\n",
       "      <td>Край</td>\n",
       "      <td>край</td>\n",
       "      <td>Тихорецкий</td>\n",
       "      <td>Район</td>\n",
       "      <td>р-н</td>\n",
       "      <td>Тихорецк</td>\n",
       "      <td>Город</td>\n",
       "      <td>г</td>\n",
       "      <td>Западный-4</td>\n",
       "      <td>Территория СНТ</td>\n",
       "      <td>тер. СНТ</td>\n",
       "      <td>Малиновая</td>\n",
       "      <td>Улица</td>\n",
       "      <td>ул.</td>\n",
       "    </tr>\n",
       "    <tr>\n",
       "      <th>1519315</th>\n",
       "      <td>Краснодарский</td>\n",
       "      <td>Край</td>\n",
       "      <td>край</td>\n",
       "      <td>Тихорецкий</td>\n",
       "      <td>Район</td>\n",
       "      <td>р-н</td>\n",
       "      <td>Тихорецк</td>\n",
       "      <td>Город</td>\n",
       "      <td>г</td>\n",
       "      <td>Западный-4</td>\n",
       "      <td>Территория СНТ</td>\n",
       "      <td>тер. СНТ</td>\n",
       "      <td>Персиковая</td>\n",
       "      <td>Улица</td>\n",
       "      <td>ул.</td>\n",
       "    </tr>\n",
       "    <tr>\n",
       "      <th>1519316</th>\n",
       "      <td>Краснодарский</td>\n",
       "      <td>Край</td>\n",
       "      <td>край</td>\n",
       "      <td>Тихорецкий</td>\n",
       "      <td>Район</td>\n",
       "      <td>р-н</td>\n",
       "      <td>Тихорецк</td>\n",
       "      <td>Город</td>\n",
       "      <td>г</td>\n",
       "      <td>Западный-4</td>\n",
       "      <td>Территория СНТ</td>\n",
       "      <td>тер. СНТ</td>\n",
       "      <td>Яблоневая</td>\n",
       "      <td>Улица</td>\n",
       "      <td>ул.</td>\n",
       "    </tr>\n",
       "    <tr>\n",
       "      <th>1519317</th>\n",
       "      <td>Краснодарский</td>\n",
       "      <td>Край</td>\n",
       "      <td>край</td>\n",
       "      <td>Тихорецкий</td>\n",
       "      <td>Район</td>\n",
       "      <td>р-н</td>\n",
       "      <td>Тихорецк</td>\n",
       "      <td>Город</td>\n",
       "      <td>г</td>\n",
       "      <td>Западный-4</td>\n",
       "      <td>Территория СНТ</td>\n",
       "      <td>тер. СНТ</td>\n",
       "      <td>Садовая</td>\n",
       "      <td>Улица</td>\n",
       "      <td>ул.</td>\n",
       "    </tr>\n",
       "    <tr>\n",
       "      <th>1519318</th>\n",
       "      <td>Краснодарский</td>\n",
       "      <td>Край</td>\n",
       "      <td>край</td>\n",
       "      <td>Тихорецкий</td>\n",
       "      <td>Район</td>\n",
       "      <td>р-н</td>\n",
       "      <td>Тихорецк</td>\n",
       "      <td>Город</td>\n",
       "      <td>г</td>\n",
       "      <td>Западный-5</td>\n",
       "      <td>Территория СНТ</td>\n",
       "      <td>тер. СНТ</td>\n",
       "      <td>Виноградная</td>\n",
       "      <td>Улица</td>\n",
       "      <td>ул.</td>\n",
       "    </tr>\n",
       "  </tbody>\n",
       "</table>\n",
       "<p>1519319 rows × 15 columns</p>\n",
       "</div>"
      ]
     },
     "execution_count": 3,
     "metadata": {},
     "output_type": "execute_result"
    }
   ],
   "execution_count": 3
  },
  {
   "metadata": {},
   "cell_type": "markdown",
   "source": "# Словарь Entities",
   "id": "bcacfc0eb95924bc"
  },
  {
   "metadata": {
    "ExecuteTime": {
     "end_time": "2024-05-07T18:04:52.167457Z",
     "start_time": "2024-05-07T18:04:52.162930Z"
    }
   },
   "cell_type": "code",
   "source": [
    "\n",
    "class ElementType(Enum):\n",
    "    SEP = 0\n",
    "    REGION=1\n",
    "    REGION_TYPE=2\n",
    "    AREA=3\n",
    "    AREA_TYPE=4\n",
    "    TERRITORY=5\n",
    "    TERRITORY_TYPE=6\n",
    "    CITY=7\n",
    "    CITY_TYPE=8\n",
    "    STREET=9\n",
    "    STREET_TYPE=10\n",
    "    OTHER = 11\n"
   ],
   "id": "749db5a01021d8d7",
   "outputs": [],
   "execution_count": 40
  },
  {
   "metadata": {},
   "cell_type": "markdown",
   "source": "# Представление адреса в виде слов-токенов и тегов NER",
   "id": "e260a21f8b69fa25"
  },
  {
   "metadata": {
    "ExecuteTime": {
     "end_time": "2024-05-07T18:04:53.538224Z",
     "start_time": "2024-05-07T18:04:53.530948Z"
    }
   },
   "cell_type": "code",
   "source": [
    "str ='Алтайский Край, Залесовский Район, Залесово Село, автодорога Мартыново-Тогул-Залесово Территория, 151-й Километр'\n",
    "tokens = str.split(' ')\n",
    "tokens"
   ],
   "id": "44039c8ca1a6c761",
   "outputs": [
    {
     "data": {
      "text/plain": [
       "['Алтайский',\n",
       " 'Край,',\n",
       " 'Залесовский',\n",
       " 'Район,',\n",
       " 'Залесово',\n",
       " 'Село,',\n",
       " 'автодорога',\n",
       " 'Мартыново-Тогул-Залесово',\n",
       " 'Территория,',\n",
       " '151-й',\n",
       " 'Километр']"
      ]
     },
     "execution_count": 41,
     "metadata": {},
     "output_type": "execute_result"
    }
   ],
   "execution_count": 41
  },
  {
   "metadata": {
    "ExecuteTime": {
     "end_time": "2024-05-07T18:04:56.874174Z",
     "start_time": "2024-05-07T18:04:56.868323Z"
    }
   },
   "cell_type": "code",
   "source": [
    "class TypedWord:\n",
    "    word = ''\n",
    "    type = ElementType.OTHER\n",
    "    def __init__(self, word:str, type:ElementType):\n",
    "        self.word = word\n",
    "        self.type = type\n",
    "    \n",
    "    def __repr__(self):\n",
    "        return self.word + \":\" + self.type.name"
   ],
   "id": "4e63fb63aa956f58",
   "outputs": [],
   "execution_count": 42
  },
  {
   "metadata": {},
   "cell_type": "markdown",
   "source": "### Функция конвертации набора адресо-образующих элементов в токены и NER-теги",
   "id": "7c41d46e6ddf5661"
  },
  {
   "metadata": {
    "ExecuteTime": {
     "end_time": "2024-05-07T18:07:27.950043Z",
     "start_time": "2024-05-07T18:07:27.875347Z"
    }
   },
   "cell_type": "code",
   "source": [
    "def tokens_with_tag(input , elementType :ElementType  ) -> list:\n",
    "    words = list(filter(('').__ne__, input.split(' ')))\n",
    "    res = list()\n",
    "    for word in words:\n",
    "        res.append(TypedWord(word, elementType))\n",
    "    return res\n",
    "\n",
    "\n",
    "def convert_address_elements(elements: dict):\n",
    "    return (tokens_with_tag(elements['region_name'], ElementType.REGION) +\n",
    "            tokens_with_tag(elements['region_type_name'], ElementType.REGION_TYPE) +\n",
    "            tokens_with_tag(\",\", ElementType.SEP) +\n",
    "            tokens_with_tag(elements['area_name'], ElementType.AREA) +\n",
    "            tokens_with_tag(elements['area_type_name'], ElementType.AREA_TYPE) +\n",
    "            tokens_with_tag(\",\", ElementType.SEP) +\n",
    "            tokens_with_tag(elements['city_name'], ElementType.CITY) +\n",
    "            tokens_with_tag(elements['city_type_name'], ElementType.CITY_TYPE) +\n",
    "            tokens_with_tag(\",\", ElementType.SEP) +\n",
    "            tokens_with_tag(elements['territory_name'], ElementType.TERRITORY) +\n",
    "            tokens_with_tag(elements['territory_type_name'], ElementType.TERRITORY_TYPE) +\n",
    "            tokens_with_tag(\",\", ElementType.SEP) +\n",
    "            tokens_with_tag(elements['street_name'], ElementType.STREET) +\n",
    "            tokens_with_tag(elements['street_type_name'], ElementType.STREET_TYPE)\n",
    "            )\n",
    "\n",
    "elements = df.sample().to_dict('records')\n",
    "convert_address_elements(elements[0])"
   ],
   "id": "bdca3783a6f219ef",
   "outputs": [
    {
     "data": {
      "text/plain": [
       "[Калмыкия:REGION,\n",
       " Республика:REGION_TYPE,\n",
       " ,:SEP,\n",
       " ,:SEP,\n",
       " Элиста:CITY,\n",
       " Город:CITY_TYPE,\n",
       " ,:SEP,\n",
       " ,:SEP,\n",
       " Сян:STREET,\n",
       " Бяядл:STREET,\n",
       " Улица:STREET_TYPE]"
      ]
     },
     "execution_count": 47,
     "metadata": {},
     "output_type": "execute_result"
    }
   ],
   "execution_count": 47
  },
  {
   "metadata": {
    "ExecuteTime": {
     "end_time": "2024-05-07T17:59:00.410435Z",
     "start_time": "2024-05-07T17:59:00.338375Z"
    }
   },
   "cell_type": "code",
   "source": "elements = df.sample().to_dict('records')",
   "id": "d561f8bdfa2ecc4f",
   "outputs": [],
   "execution_count": 26
  },
  {
   "metadata": {
    "ExecuteTime": {
     "end_time": "2024-05-07T17:59:01.500584Z",
     "start_time": "2024-05-07T17:59:01.458493Z"
    }
   },
   "cell_type": "code",
   "source": "convert_address_elements(elements[0])",
   "id": "e68e66593632f9b",
   "outputs": [
    {
     "ename": "KeyError",
     "evalue": "'street_type_name_'",
     "output_type": "error",
     "traceback": [
      "\u001B[0;31m---------------------------------------------------------------------------\u001B[0m",
      "\u001B[0;31mKeyError\u001B[0m                                  Traceback (most recent call last)",
      "Cell \u001B[0;32mIn[27], line 1\u001B[0m\n\u001B[0;32m----> 1\u001B[0m \u001B[43mconvert_address_elements\u001B[49m\u001B[43m(\u001B[49m\u001B[43melements\u001B[49m\u001B[43m[\u001B[49m\u001B[38;5;241;43m0\u001B[39;49m\u001B[43m]\u001B[49m\u001B[43m)\u001B[49m\n",
      "Cell \u001B[0;32mIn[25], line 18\u001B[0m, in \u001B[0;36mconvert_address_elements\u001B[0;34m(elements)\u001B[0m\n\u001B[1;32m      9\u001B[0m \u001B[38;5;28;01mdef\u001B[39;00m \u001B[38;5;21mconvert_address_elements\u001B[39m(elements: \u001B[38;5;28mdict\u001B[39m):\n\u001B[1;32m     10\u001B[0m     \u001B[38;5;28;01mreturn\u001B[39;00m (tokens_with_tag(elements[\u001B[38;5;124m'\u001B[39m\u001B[38;5;124mregion_name\u001B[39m\u001B[38;5;124m'\u001B[39m], ElementType\u001B[38;5;241m.\u001B[39mREGION) \u001B[38;5;241m+\u001B[39m\n\u001B[1;32m     11\u001B[0m             tokens_with_tag(elements[\u001B[38;5;124m'\u001B[39m\u001B[38;5;124mregion_type_name\u001B[39m\u001B[38;5;124m'\u001B[39m], ElementType\u001B[38;5;241m.\u001B[39mREGION_TYPE) \u001B[38;5;241m+\u001B[39m\n\u001B[1;32m     12\u001B[0m             tokens_with_tag(elements[\u001B[38;5;124m'\u001B[39m\u001B[38;5;124marea_name\u001B[39m\u001B[38;5;124m'\u001B[39m], ElementType\u001B[38;5;241m.\u001B[39mAREA) \u001B[38;5;241m+\u001B[39m\n\u001B[1;32m     13\u001B[0m             tokens_with_tag(elements[\u001B[38;5;124m'\u001B[39m\u001B[38;5;124mcity_name\u001B[39m\u001B[38;5;124m'\u001B[39m], ElementType\u001B[38;5;241m.\u001B[39mCITY) \u001B[38;5;241m+\u001B[39m\n\u001B[1;32m     14\u001B[0m             tokens_with_tag(elements[\u001B[38;5;124m'\u001B[39m\u001B[38;5;124mcity_type_name\u001B[39m\u001B[38;5;124m'\u001B[39m], ElementType\u001B[38;5;241m.\u001B[39mCITY_TYPE) \u001B[38;5;241m+\u001B[39m\n\u001B[1;32m     15\u001B[0m             tokens_with_tag(elements[\u001B[38;5;124m'\u001B[39m\u001B[38;5;124mterritory_name\u001B[39m\u001B[38;5;124m'\u001B[39m], ElementType\u001B[38;5;241m.\u001B[39mTERRITORY) \u001B[38;5;241m+\u001B[39m\n\u001B[1;32m     16\u001B[0m             tokens_with_tag(elements[\u001B[38;5;124m'\u001B[39m\u001B[38;5;124mterritory_type_name\u001B[39m\u001B[38;5;124m'\u001B[39m], ElementType\u001B[38;5;241m.\u001B[39mTERRITORY_TYPE) \u001B[38;5;241m+\u001B[39m\n\u001B[1;32m     17\u001B[0m             tokens_with_tag(elements[\u001B[38;5;124m'\u001B[39m\u001B[38;5;124mstreet_name\u001B[39m\u001B[38;5;124m'\u001B[39m], ElementType\u001B[38;5;241m.\u001B[39mSTREET) \u001B[38;5;241m+\u001B[39m\n\u001B[0;32m---> 18\u001B[0m             tokens_with_tag(\u001B[43melements\u001B[49m\u001B[43m[\u001B[49m\u001B[38;5;124;43m'\u001B[39;49m\u001B[38;5;124;43mstreet_type_name_\u001B[39;49m\u001B[38;5;124;43m'\u001B[39;49m\u001B[43m]\u001B[49m, ElementType\u001B[38;5;241m.\u001B[39mSTREET_TYPE)\n\u001B[1;32m     19\u001B[0m             )\n",
      "\u001B[0;31mKeyError\u001B[0m: 'street_type_name_'"
     ]
    }
   ],
   "execution_count": 27
  },
  {
   "metadata": {
    "ExecuteTime": {
     "end_time": "2024-05-01T15:40:33.912055Z",
     "start_time": "2024-05-01T15:40:33.900459Z"
    }
   },
   "cell_type": "code",
   "source": [
    "def convert_address_elements_df(df:pd.DataFrame):\n",
    "    return [convert_address_elements(item) for item in df.to_dict('records')]\n",
    "\n",
    "convert_address_elements_df(r)\n"
   ],
   "id": "c760e4b87893762a",
   "outputs": [
    {
     "data": {
      "text/plain": [
       "[{'tokens': ['Алтайский',\n",
       "   'край',\n",
       "   'Залесовский',\n",
       "   'р-н',\n",
       "   'Залесово',\n",
       "   'с',\n",
       "   'Полевая',\n",
       "   'ул'],\n",
       "  'ner_tags': [0, 1, 2, 3, 6, 7, 8, 9]}]"
      ]
     },
     "execution_count": 69,
     "metadata": {},
     "output_type": "execute_result"
    }
   ],
   "execution_count": 69
  },
  {
   "metadata": {},
   "cell_type": "markdown",
   "source": "## Appply to dataframe",
   "id": "92d8ff23957a93d6"
  },
  {
   "metadata": {
    "ExecuteTime": {
     "end_time": "2024-05-01T15:40:56.194715Z",
     "start_time": "2024-05-01T15:40:33.913747Z"
    }
   },
   "cell_type": "code",
   "source": "s = df.apply(convert_address_elements, axis=1)",
   "id": "52975afd7505305c",
   "outputs": [],
   "execution_count": 70
  },
  {
   "metadata": {
    "ExecuteTime": {
     "end_time": "2024-05-01T15:40:56.676215Z",
     "start_time": "2024-05-01T15:40:56.196104Z"
    }
   },
   "cell_type": "code",
   "source": "new_df = pd.DataFrame(list(s))",
   "id": "f6c66bd2ff1a1527",
   "outputs": [],
   "execution_count": 71
  },
  {
   "metadata": {
    "ExecuteTime": {
     "end_time": "2024-05-01T15:40:56.693332Z",
     "start_time": "2024-05-01T15:40:56.679694Z"
    }
   },
   "cell_type": "code",
   "source": "new_df",
   "id": "b5ae111aa1d8a0c3",
   "outputs": [
    {
     "data": {
      "text/plain": [
       "                                                   tokens  \\\n",
       "0       [Алтайский, край, Залесовский, р-н, Залесово, ...   \n",
       "1       [Алтайский, край, Залесовский, р-н, Залесово, ...   \n",
       "2       [Алтайский, край, Залесовский, р-н, Залесово, ...   \n",
       "3       [Алтайский, край, Залесовский, р-н, Залесово, ...   \n",
       "4       [Алтайский, край, Залесовский, р-н, Залесово, ...   \n",
       "...                                                   ...   \n",
       "612825  [Еврейская, Аобл, Биробиджан, г, СОТ, Биршоссе...   \n",
       "612826  [Еврейская, Аобл, Биробиджан, г, СОТ, Биршоссе...   \n",
       "612827  [Еврейская, Аобл, Биробиджан, г, СОТ, Биршоссе...   \n",
       "612828  [Еврейская, Аобл, Биробиджан, г, СОТ, Багульни...   \n",
       "612829  [Еврейская, Аобл, Биробиджан, г, СОТ, Багульни...   \n",
       "\n",
       "                                 ner_tags  \n",
       "0                [0, 1, 2, 3, 6, 7, 8, 9]  \n",
       "1       [0, 1, 2, 3, 6, 7, 4, 5, 5, 8, 9]  \n",
       "2                [0, 1, 2, 3, 6, 7, 8, 9]  \n",
       "3                [0, 1, 2, 3, 6, 7, 8, 9]  \n",
       "4                [0, 1, 2, 3, 6, 7, 8, 9]  \n",
       "...                                   ...  \n",
       "612825  [0, 1, 6, 7, 4, 5, 5, 5, 5, 8, 9]  \n",
       "612826  [0, 1, 6, 7, 4, 5, 5, 5, 5, 8, 9]  \n",
       "612827  [0, 1, 6, 7, 4, 5, 5, 5, 5, 8, 9]  \n",
       "612828        [0, 1, 6, 7, 4, 5, 5, 8, 9]  \n",
       "612829        [0, 1, 6, 7, 4, 5, 5, 8, 9]  \n",
       "\n",
       "[612830 rows x 2 columns]"
      ],
      "text/html": [
       "<div>\n",
       "<style scoped>\n",
       "    .dataframe tbody tr th:only-of-type {\n",
       "        vertical-align: middle;\n",
       "    }\n",
       "\n",
       "    .dataframe tbody tr th {\n",
       "        vertical-align: top;\n",
       "    }\n",
       "\n",
       "    .dataframe thead th {\n",
       "        text-align: right;\n",
       "    }\n",
       "</style>\n",
       "<table border=\"1\" class=\"dataframe\">\n",
       "  <thead>\n",
       "    <tr style=\"text-align: right;\">\n",
       "      <th></th>\n",
       "      <th>tokens</th>\n",
       "      <th>ner_tags</th>\n",
       "    </tr>\n",
       "  </thead>\n",
       "  <tbody>\n",
       "    <tr>\n",
       "      <th>0</th>\n",
       "      <td>[Алтайский, край, Залесовский, р-н, Залесово, ...</td>\n",
       "      <td>[0, 1, 2, 3, 6, 7, 8, 9]</td>\n",
       "    </tr>\n",
       "    <tr>\n",
       "      <th>1</th>\n",
       "      <td>[Алтайский, край, Залесовский, р-н, Залесово, ...</td>\n",
       "      <td>[0, 1, 2, 3, 6, 7, 4, 5, 5, 8, 9]</td>\n",
       "    </tr>\n",
       "    <tr>\n",
       "      <th>2</th>\n",
       "      <td>[Алтайский, край, Залесовский, р-н, Залесово, ...</td>\n",
       "      <td>[0, 1, 2, 3, 6, 7, 8, 9]</td>\n",
       "    </tr>\n",
       "    <tr>\n",
       "      <th>3</th>\n",
       "      <td>[Алтайский, край, Залесовский, р-н, Залесово, ...</td>\n",
       "      <td>[0, 1, 2, 3, 6, 7, 8, 9]</td>\n",
       "    </tr>\n",
       "    <tr>\n",
       "      <th>4</th>\n",
       "      <td>[Алтайский, край, Залесовский, р-н, Залесово, ...</td>\n",
       "      <td>[0, 1, 2, 3, 6, 7, 8, 9]</td>\n",
       "    </tr>\n",
       "    <tr>\n",
       "      <th>...</th>\n",
       "      <td>...</td>\n",
       "      <td>...</td>\n",
       "    </tr>\n",
       "    <tr>\n",
       "      <th>612825</th>\n",
       "      <td>[Еврейская, Аобл, Биробиджан, г, СОТ, Биршоссе...</td>\n",
       "      <td>[0, 1, 6, 7, 4, 5, 5, 5, 5, 8, 9]</td>\n",
       "    </tr>\n",
       "    <tr>\n",
       "      <th>612826</th>\n",
       "      <td>[Еврейская, Аобл, Биробиджан, г, СОТ, Биршоссе...</td>\n",
       "      <td>[0, 1, 6, 7, 4, 5, 5, 5, 5, 8, 9]</td>\n",
       "    </tr>\n",
       "    <tr>\n",
       "      <th>612827</th>\n",
       "      <td>[Еврейская, Аобл, Биробиджан, г, СОТ, Биршоссе...</td>\n",
       "      <td>[0, 1, 6, 7, 4, 5, 5, 5, 5, 8, 9]</td>\n",
       "    </tr>\n",
       "    <tr>\n",
       "      <th>612828</th>\n",
       "      <td>[Еврейская, Аобл, Биробиджан, г, СОТ, Багульни...</td>\n",
       "      <td>[0, 1, 6, 7, 4, 5, 5, 8, 9]</td>\n",
       "    </tr>\n",
       "    <tr>\n",
       "      <th>612829</th>\n",
       "      <td>[Еврейская, Аобл, Биробиджан, г, СОТ, Багульни...</td>\n",
       "      <td>[0, 1, 6, 7, 4, 5, 5, 8, 9]</td>\n",
       "    </tr>\n",
       "  </tbody>\n",
       "</table>\n",
       "<p>612830 rows × 2 columns</p>\n",
       "</div>"
      ]
     },
     "execution_count": 72,
     "metadata": {},
     "output_type": "execute_result"
    }
   ],
   "execution_count": 72
  },
  {
   "metadata": {},
   "cell_type": "markdown",
   "source": "## В формате Datasets",
   "id": "f6dbe1cabf7929e6"
  },
  {
   "metadata": {
    "ExecuteTime": {
     "end_time": "2024-05-01T15:40:58.171079Z",
     "start_time": "2024-05-01T15:40:56.694489Z"
    }
   },
   "cell_type": "code",
   "source": "dataset = Dataset.from_pandas(new_df)",
   "id": "330f01c3a2b4e620",
   "outputs": [],
   "execution_count": 73
  },
  {
   "metadata": {
    "ExecuteTime": {
     "end_time": "2024-05-01T15:40:58.359819Z",
     "start_time": "2024-05-01T15:40:58.174075Z"
    }
   },
   "cell_type": "code",
   "source": [
    "train_testvalid = dataset.train_test_split(test_size=0.33, seed=42)\n",
    "test_valid = train_testvalid['test'].train_test_split(test_size=0.5)\n",
    "dataset = DatasetDict({\n",
    "    'train': train_testvalid['train'],\n",
    "    'validation': test_valid['train'],\n",
    "    'test': test_valid['test']})"
   ],
   "id": "89a0ae9174c81f5d",
   "outputs": [],
   "execution_count": 74
  },
  {
   "metadata": {
    "ExecuteTime": {
     "end_time": "2024-05-01T15:40:58.369563Z",
     "start_time": "2024-05-01T15:40:58.361772Z"
    }
   },
   "cell_type": "code",
   "source": "dataset",
   "id": "2144eb6533afbc0e",
   "outputs": [
    {
     "data": {
      "text/plain": [
       "DatasetDict({\n",
       "    train: Dataset({\n",
       "        features: ['tokens', 'ner_tags'],\n",
       "        num_rows: 410596\n",
       "    })\n",
       "    validation: Dataset({\n",
       "        features: ['tokens', 'ner_tags'],\n",
       "        num_rows: 101117\n",
       "    })\n",
       "    test: Dataset({\n",
       "        features: ['tokens', 'ner_tags'],\n",
       "        num_rows: 101117\n",
       "    })\n",
       "})"
      ]
     },
     "execution_count": 75,
     "metadata": {},
     "output_type": "execute_result"
    }
   ],
   "execution_count": 75
  },
  {
   "metadata": {
    "ExecuteTime": {
     "end_time": "2024-05-01T15:41:01.962701Z",
     "start_time": "2024-05-01T15:40:58.371528Z"
    }
   },
   "cell_type": "code",
   "source": "dataset.save_to_disk('address_elements')",
   "id": "faa727922a788e05",
   "outputs": [
    {
     "data": {
      "text/plain": [
       "Saving the dataset (0/1 shards):   0%|          | 0/410596 [00:00<?, ? examples/s]"
      ],
      "application/vnd.jupyter.widget-view+json": {
       "version_major": 2,
       "version_minor": 0,
       "model_id": "a8956476a1054e0aa6c839a3f6bcc5c6"
      }
     },
     "metadata": {},
     "output_type": "display_data"
    },
    {
     "data": {
      "text/plain": [
       "Saving the dataset (0/1 shards):   0%|          | 0/101117 [00:00<?, ? examples/s]"
      ],
      "application/vnd.jupyter.widget-view+json": {
       "version_major": 2,
       "version_minor": 0,
       "model_id": "4a3147cf9c56496e8ad06eac0bd88eb6"
      }
     },
     "metadata": {},
     "output_type": "display_data"
    },
    {
     "data": {
      "text/plain": [
       "Saving the dataset (0/1 shards):   0%|          | 0/101117 [00:00<?, ? examples/s]"
      ],
      "application/vnd.jupyter.widget-view+json": {
       "version_major": 2,
       "version_minor": 0,
       "model_id": "e70618a8f97e4132b50123dc7460e6e4"
      }
     },
     "metadata": {},
     "output_type": "display_data"
    }
   ],
   "execution_count": 76
  },
  {
   "metadata": {},
   "cell_type": "markdown",
   "source": "",
   "id": "c45d4ccc19004a71"
  }
 ],
 "metadata": {
  "kernelspec": {
   "display_name": "Python 3",
   "language": "python",
   "name": "python3"
  },
  "language_info": {
   "codemirror_mode": {
    "name": "ipython",
    "version": 2
   },
   "file_extension": ".py",
   "mimetype": "text/x-python",
   "name": "python",
   "nbconvert_exporter": "python",
   "pygments_lexer": "ipython2",
   "version": "2.7.6"
  }
 },
 "nbformat": 4,
 "nbformat_minor": 5
}
