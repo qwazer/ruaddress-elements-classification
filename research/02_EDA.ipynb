{
 "cells": [
  {
   "cell_type": "markdown",
   "source": [
    "## Подготовка"
   ],
   "metadata": {
    "collapsed": false
   }
  },
  {
   "cell_type": "markdown",
   "source": "### Пакеты",
   "metadata": {
    "collapsed": false
   }
  },
  {
   "cell_type": "code",
   "source": [
    "import numpy as np\n",
    "import pandas as pd\n",
    "import matplotlib.pyplot as plt\n",
    "%matplotlib inline"
   ],
   "metadata": {
    "collapsed": false,
    "ExecuteTime": {
     "end_time": "2024-05-15T14:01:40.087347Z",
     "start_time": "2024-05-15T14:01:39.777923Z"
    }
   },
   "outputs": [],
   "execution_count": 20
  },
  {
   "cell_type": "markdown",
   "source": "## Данные\n",
   "metadata": {
    "collapsed": false
   }
  },
  {
   "cell_type": "code",
   "source": [
    "!unzip -nq archive.zip"
   ],
   "metadata": {
    "collapsed": false,
    "ExecuteTime": {
     "end_time": "2024-05-15T14:00:03.186771Z",
     "start_time": "2024-05-15T14:00:03.072694Z"
    }
   },
   "outputs": [],
   "execution_count": 2
  },
  {
   "cell_type": "code",
   "source": "df = pd.read_csv(\"places_address_elements.csv\")",
   "metadata": {
    "collapsed": false,
    "ExecuteTime": {
     "end_time": "2024-05-15T14:00:05.635059Z",
     "start_time": "2024-05-15T14:00:03.188527Z"
    }
   },
   "outputs": [],
   "execution_count": 3
  },
  {
   "metadata": {
    "ExecuteTime": {
     "end_time": "2024-05-15T14:00:06.159630Z",
     "start_time": "2024-05-15T14:00:05.635988Z"
    }
   },
   "cell_type": "code",
   "source": "df.info()",
   "outputs": [
    {
     "name": "stdout",
     "output_type": "stream",
     "text": [
      "<class 'pandas.core.frame.DataFrame'>\n",
      "RangeIndex: 1519319 entries, 0 to 1519318\n",
      "Data columns (total 15 columns):\n",
      " #   Column                     Non-Null Count    Dtype \n",
      "---  ------                     --------------    ----- \n",
      " 0   region_name                1519319 non-null  object\n",
      " 1   region_type_name           1519319 non-null  object\n",
      " 2   region_type_name_short     1519319 non-null  object\n",
      " 3   area_name                  1126760 non-null  object\n",
      " 4   area_type_name             1126760 non-null  object\n",
      " 5   area_type_name_short       1126760 non-null  object\n",
      " 6   city_name                  1405599 non-null  object\n",
      " 7   city_type_name             1405599 non-null  object\n",
      " 8   city_type_name_short       1405599 non-null  object\n",
      " 9   territory_name             429869 non-null   object\n",
      " 10  territory_type_name        429869 non-null   object\n",
      " 11  territory_type_name_short  429869 non-null   object\n",
      " 12  street_name                1173257 non-null  object\n",
      " 13  street_type_name           1173257 non-null  object\n",
      " 14  street_type_name_short     1173257 non-null  object\n",
      "dtypes: object(15)\n",
      "memory usage: 173.9+ MB\n"
     ]
    }
   ],
   "execution_count": 4
  },
  {
   "cell_type": "markdown",
   "source": [
    "Удалим стролбцы, которые не нужны при последующем анализе данных"
   ],
   "metadata": {
    "collapsed": false
   }
  },
  {
   "metadata": {
    "ExecuteTime": {
     "end_time": "2024-05-15T14:00:06.173449Z",
     "start_time": "2024-05-15T14:00:06.161135Z"
    }
   },
   "cell_type": "code",
   "source": "df.head(2)",
   "outputs": [
    {
     "data": {
      "text/plain": [
       "    region_name region_type_name region_type_name_short area_name  \\\n",
       "0        Адыгея       Республика                   Респ       NaN   \n",
       "1  Башкортостан       Республика                   Респ       NaN   \n",
       "\n",
       "  area_type_name area_type_name_short city_name city_type_name  \\\n",
       "0            NaN                  NaN       NaN            NaN   \n",
       "1            NaN                  NaN       NaN            NaN   \n",
       "\n",
       "  city_type_name_short territory_name territory_type_name  \\\n",
       "0                  NaN            NaN                 NaN   \n",
       "1                  NaN            NaN                 NaN   \n",
       "\n",
       "  territory_type_name_short street_name street_type_name  \\\n",
       "0                       NaN         NaN              NaN   \n",
       "1                       NaN         NaN              NaN   \n",
       "\n",
       "  street_type_name_short  \n",
       "0                    NaN  \n",
       "1                    NaN  "
      ],
      "text/html": [
       "<div>\n",
       "<style scoped>\n",
       "    .dataframe tbody tr th:only-of-type {\n",
       "        vertical-align: middle;\n",
       "    }\n",
       "\n",
       "    .dataframe tbody tr th {\n",
       "        vertical-align: top;\n",
       "    }\n",
       "\n",
       "    .dataframe thead th {\n",
       "        text-align: right;\n",
       "    }\n",
       "</style>\n",
       "<table border=\"1\" class=\"dataframe\">\n",
       "  <thead>\n",
       "    <tr style=\"text-align: right;\">\n",
       "      <th></th>\n",
       "      <th>region_name</th>\n",
       "      <th>region_type_name</th>\n",
       "      <th>region_type_name_short</th>\n",
       "      <th>area_name</th>\n",
       "      <th>area_type_name</th>\n",
       "      <th>area_type_name_short</th>\n",
       "      <th>city_name</th>\n",
       "      <th>city_type_name</th>\n",
       "      <th>city_type_name_short</th>\n",
       "      <th>territory_name</th>\n",
       "      <th>territory_type_name</th>\n",
       "      <th>territory_type_name_short</th>\n",
       "      <th>street_name</th>\n",
       "      <th>street_type_name</th>\n",
       "      <th>street_type_name_short</th>\n",
       "    </tr>\n",
       "  </thead>\n",
       "  <tbody>\n",
       "    <tr>\n",
       "      <th>0</th>\n",
       "      <td>Адыгея</td>\n",
       "      <td>Республика</td>\n",
       "      <td>Респ</td>\n",
       "      <td>NaN</td>\n",
       "      <td>NaN</td>\n",
       "      <td>NaN</td>\n",
       "      <td>NaN</td>\n",
       "      <td>NaN</td>\n",
       "      <td>NaN</td>\n",
       "      <td>NaN</td>\n",
       "      <td>NaN</td>\n",
       "      <td>NaN</td>\n",
       "      <td>NaN</td>\n",
       "      <td>NaN</td>\n",
       "      <td>NaN</td>\n",
       "    </tr>\n",
       "    <tr>\n",
       "      <th>1</th>\n",
       "      <td>Башкортостан</td>\n",
       "      <td>Республика</td>\n",
       "      <td>Респ</td>\n",
       "      <td>NaN</td>\n",
       "      <td>NaN</td>\n",
       "      <td>NaN</td>\n",
       "      <td>NaN</td>\n",
       "      <td>NaN</td>\n",
       "      <td>NaN</td>\n",
       "      <td>NaN</td>\n",
       "      <td>NaN</td>\n",
       "      <td>NaN</td>\n",
       "      <td>NaN</td>\n",
       "      <td>NaN</td>\n",
       "      <td>NaN</td>\n",
       "    </tr>\n",
       "  </tbody>\n",
       "</table>\n",
       "</div>"
      ]
     },
     "execution_count": 5,
     "metadata": {},
     "output_type": "execute_result"
    }
   ],
   "execution_count": 5
  },
  {
   "metadata": {
    "ExecuteTime": {
     "end_time": "2024-05-15T14:00:06.182995Z",
     "start_time": "2024-05-15T14:00:06.174429Z"
    }
   },
   "cell_type": "code",
   "source": "df.loc[[123]]",
   "outputs": [
    {
     "data": {
      "text/plain": [
       "         region_name region_type_name region_type_name_short area_name  \\\n",
       "123  Санкт-Петербург            Город                      г       NaN   \n",
       "\n",
       "    area_type_name area_type_name_short        city_name city_type_name  \\\n",
       "123            NaN                  NaN  Санкт-Петербург          Город   \n",
       "\n",
       "    city_type_name_short territory_name territory_type_name  \\\n",
       "123                    г            NaN                 NaN   \n",
       "\n",
       "    territory_type_name_short street_name street_type_name  \\\n",
       "123                       NaN  Петровская            Аллея   \n",
       "\n",
       "    street_type_name_short  \n",
       "123                  аллея  "
      ],
      "text/html": [
       "<div>\n",
       "<style scoped>\n",
       "    .dataframe tbody tr th:only-of-type {\n",
       "        vertical-align: middle;\n",
       "    }\n",
       "\n",
       "    .dataframe tbody tr th {\n",
       "        vertical-align: top;\n",
       "    }\n",
       "\n",
       "    .dataframe thead th {\n",
       "        text-align: right;\n",
       "    }\n",
       "</style>\n",
       "<table border=\"1\" class=\"dataframe\">\n",
       "  <thead>\n",
       "    <tr style=\"text-align: right;\">\n",
       "      <th></th>\n",
       "      <th>region_name</th>\n",
       "      <th>region_type_name</th>\n",
       "      <th>region_type_name_short</th>\n",
       "      <th>area_name</th>\n",
       "      <th>area_type_name</th>\n",
       "      <th>area_type_name_short</th>\n",
       "      <th>city_name</th>\n",
       "      <th>city_type_name</th>\n",
       "      <th>city_type_name_short</th>\n",
       "      <th>territory_name</th>\n",
       "      <th>territory_type_name</th>\n",
       "      <th>territory_type_name_short</th>\n",
       "      <th>street_name</th>\n",
       "      <th>street_type_name</th>\n",
       "      <th>street_type_name_short</th>\n",
       "    </tr>\n",
       "  </thead>\n",
       "  <tbody>\n",
       "    <tr>\n",
       "      <th>123</th>\n",
       "      <td>Санкт-Петербург</td>\n",
       "      <td>Город</td>\n",
       "      <td>г</td>\n",
       "      <td>NaN</td>\n",
       "      <td>NaN</td>\n",
       "      <td>NaN</td>\n",
       "      <td>Санкт-Петербург</td>\n",
       "      <td>Город</td>\n",
       "      <td>г</td>\n",
       "      <td>NaN</td>\n",
       "      <td>NaN</td>\n",
       "      <td>NaN</td>\n",
       "      <td>Петровская</td>\n",
       "      <td>Аллея</td>\n",
       "      <td>аллея</td>\n",
       "    </tr>\n",
       "  </tbody>\n",
       "</table>\n",
       "</div>"
      ]
     },
     "execution_count": 6,
     "metadata": {},
     "output_type": "execute_result"
    }
   ],
   "execution_count": 6
  },
  {
   "cell_type": "markdown",
   "source": [
    "## Первичный анализ данных\n"
   ],
   "metadata": {
    "collapsed": false
   }
  },
  {
   "cell_type": "markdown",
   "source": [
    "### Незаполненные данные"
   ],
   "metadata": {
    "collapsed": false
   }
  },
  {
   "cell_type": "code",
   "source": [
    "for col in df.columns:\n",
    "    s = df[col].isna().sum()\n",
    "    if (s>0):\n",
    "        print(f\"{col} has NA values. count is {s}\")"
   ],
   "metadata": {
    "collapsed": false,
    "ExecuteTime": {
     "end_time": "2024-05-15T14:00:06.696228Z",
     "start_time": "2024-05-15T14:00:06.184098Z"
    }
   },
   "outputs": [
    {
     "name": "stdout",
     "output_type": "stream",
     "text": [
      "area_name has NA values. count is 392559\n",
      "area_type_name has NA values. count is 392559\n",
      "area_type_name_short has NA values. count is 392559\n",
      "city_name has NA values. count is 113720\n",
      "city_type_name has NA values. count is 113720\n",
      "city_type_name_short has NA values. count is 113720\n",
      "territory_name has NA values. count is 1089450\n",
      "territory_type_name has NA values. count is 1089450\n",
      "territory_type_name_short has NA values. count is 1089450\n",
      "street_name has NA values. count is 346062\n",
      "street_type_name has NA values. count is 346062\n",
      "street_type_name_short has NA values. count is 346062\n"
     ]
    }
   ],
   "execution_count": 7
  },
  {
   "cell_type": "code",
   "source": [
    "df = df.fillna('')"
   ],
   "metadata": {
    "collapsed": false,
    "ExecuteTime": {
     "end_time": "2024-05-15T14:00:07.635018Z",
     "start_time": "2024-05-15T14:00:06.697609Z"
    }
   },
   "outputs": [],
   "execution_count": 8
  },
  {
   "metadata": {},
   "cell_type": "markdown",
   "source": "Примеры адресов со всеми заполненными типами адресо-образующих элементов"
  },
  {
   "metadata": {
    "ExecuteTime": {
     "end_time": "2024-05-15T14:00:07.873690Z",
     "start_time": "2024-05-15T14:00:07.635945Z"
    }
   },
   "cell_type": "code",
   "source": [
    "condition1 = df['area_name']!=''\n",
    "condition2 = df['city_name']!=''\n",
    "condition3 = df['territory_name']!=''\n",
    "condition4 = df['street_name']!=''\n",
    "df[condition1 & condition2 & condition3 & condition4]"
   ],
   "outputs": [
    {
     "data": {
      "text/plain": [
       "           region_name region_type_name region_type_name_short   area_name  \\\n",
       "1457475         Омская          Область                    обл   Любинский   \n",
       "1457476         Омская          Область                    обл   Любинский   \n",
       "1457477         Омская          Область                    обл   Любинский   \n",
       "1457478         Омская          Область                    обл   Любинский   \n",
       "1457479         Омская          Область                    обл   Любинский   \n",
       "...                ...              ...                    ...         ...   \n",
       "1519314  Краснодарский             Край                   край  Тихорецкий   \n",
       "1519315  Краснодарский             Край                   край  Тихорецкий   \n",
       "1519316  Краснодарский             Край                   край  Тихорецкий   \n",
       "1519317  Краснодарский             Край                   край  Тихорецкий   \n",
       "1519318  Краснодарский             Край                   край  Тихорецкий   \n",
       "\n",
       "        area_type_name area_type_name_short     city_name city_type_name  \\\n",
       "1457475          Район                  р-н  Камышловский        Поселок   \n",
       "1457476          Район                  р-н  Камышловский        Поселок   \n",
       "1457477          Район                  р-н  Камышловский        Поселок   \n",
       "1457478          Район                  р-н  Камышловский        Поселок   \n",
       "1457479          Район                  р-н  Камышловский        Поселок   \n",
       "...                ...                  ...           ...            ...   \n",
       "1519314          Район                  р-н      Тихорецк          Город   \n",
       "1519315          Район                  р-н      Тихорецк          Город   \n",
       "1519316          Район                  р-н      Тихорецк          Город   \n",
       "1519317          Район                  р-н      Тихорецк          Город   \n",
       "1519318          Район                  р-н      Тихорецк          Город   \n",
       "\n",
       "        city_type_name_short  territory_name territory_type_name  \\\n",
       "1457475                    п  Сибзаводовец-2      Территория СНТ   \n",
       "1457476                    п  Сибзаводовец-2      Территория СНТ   \n",
       "1457477                    п  Сибзаводовец-2      Территория СНТ   \n",
       "1457478                    п  Сибзаводовец-2      Территория СНТ   \n",
       "1457479                    п  Сибзаводовец-2      Территория СНТ   \n",
       "...                      ...             ...                 ...   \n",
       "1519314                    г      Западный-4      Территория СНТ   \n",
       "1519315                    г      Западный-4      Территория СНТ   \n",
       "1519316                    г      Западный-4      Территория СНТ   \n",
       "1519317                    г      Западный-4      Территория СНТ   \n",
       "1519318                    г      Западный-5      Территория СНТ   \n",
       "\n",
       "        territory_type_name_short  street_name street_type_name  \\\n",
       "1457475                  тер. СНТ          7-я            Аллея   \n",
       "1457476                  тер. СНТ          4-я            Аллея   \n",
       "1457477                  тер. СНТ         11-я            Аллея   \n",
       "1457478                  тер. СНТ          9-я            Аллея   \n",
       "1457479                  тер. СНТ         13-я            Аллея   \n",
       "...                           ...          ...              ...   \n",
       "1519314                  тер. СНТ    Малиновая            Улица   \n",
       "1519315                  тер. СНТ   Персиковая            Улица   \n",
       "1519316                  тер. СНТ    Яблоневая            Улица   \n",
       "1519317                  тер. СНТ      Садовая            Улица   \n",
       "1519318                  тер. СНТ  Виноградная            Улица   \n",
       "\n",
       "        street_type_name_short  \n",
       "1457475                    ал.  \n",
       "1457476                    ал.  \n",
       "1457477                    ал.  \n",
       "1457478                    ал.  \n",
       "1457479                    ал.  \n",
       "...                        ...  \n",
       "1519314                    ул.  \n",
       "1519315                    ул.  \n",
       "1519316                    ул.  \n",
       "1519317                    ул.  \n",
       "1519318                    ул.  \n",
       "\n",
       "[53345 rows x 15 columns]"
      ],
      "text/html": [
       "<div>\n",
       "<style scoped>\n",
       "    .dataframe tbody tr th:only-of-type {\n",
       "        vertical-align: middle;\n",
       "    }\n",
       "\n",
       "    .dataframe tbody tr th {\n",
       "        vertical-align: top;\n",
       "    }\n",
       "\n",
       "    .dataframe thead th {\n",
       "        text-align: right;\n",
       "    }\n",
       "</style>\n",
       "<table border=\"1\" class=\"dataframe\">\n",
       "  <thead>\n",
       "    <tr style=\"text-align: right;\">\n",
       "      <th></th>\n",
       "      <th>region_name</th>\n",
       "      <th>region_type_name</th>\n",
       "      <th>region_type_name_short</th>\n",
       "      <th>area_name</th>\n",
       "      <th>area_type_name</th>\n",
       "      <th>area_type_name_short</th>\n",
       "      <th>city_name</th>\n",
       "      <th>city_type_name</th>\n",
       "      <th>city_type_name_short</th>\n",
       "      <th>territory_name</th>\n",
       "      <th>territory_type_name</th>\n",
       "      <th>territory_type_name_short</th>\n",
       "      <th>street_name</th>\n",
       "      <th>street_type_name</th>\n",
       "      <th>street_type_name_short</th>\n",
       "    </tr>\n",
       "  </thead>\n",
       "  <tbody>\n",
       "    <tr>\n",
       "      <th>1457475</th>\n",
       "      <td>Омская</td>\n",
       "      <td>Область</td>\n",
       "      <td>обл</td>\n",
       "      <td>Любинский</td>\n",
       "      <td>Район</td>\n",
       "      <td>р-н</td>\n",
       "      <td>Камышловский</td>\n",
       "      <td>Поселок</td>\n",
       "      <td>п</td>\n",
       "      <td>Сибзаводовец-2</td>\n",
       "      <td>Территория СНТ</td>\n",
       "      <td>тер. СНТ</td>\n",
       "      <td>7-я</td>\n",
       "      <td>Аллея</td>\n",
       "      <td>ал.</td>\n",
       "    </tr>\n",
       "    <tr>\n",
       "      <th>1457476</th>\n",
       "      <td>Омская</td>\n",
       "      <td>Область</td>\n",
       "      <td>обл</td>\n",
       "      <td>Любинский</td>\n",
       "      <td>Район</td>\n",
       "      <td>р-н</td>\n",
       "      <td>Камышловский</td>\n",
       "      <td>Поселок</td>\n",
       "      <td>п</td>\n",
       "      <td>Сибзаводовец-2</td>\n",
       "      <td>Территория СНТ</td>\n",
       "      <td>тер. СНТ</td>\n",
       "      <td>4-я</td>\n",
       "      <td>Аллея</td>\n",
       "      <td>ал.</td>\n",
       "    </tr>\n",
       "    <tr>\n",
       "      <th>1457477</th>\n",
       "      <td>Омская</td>\n",
       "      <td>Область</td>\n",
       "      <td>обл</td>\n",
       "      <td>Любинский</td>\n",
       "      <td>Район</td>\n",
       "      <td>р-н</td>\n",
       "      <td>Камышловский</td>\n",
       "      <td>Поселок</td>\n",
       "      <td>п</td>\n",
       "      <td>Сибзаводовец-2</td>\n",
       "      <td>Территория СНТ</td>\n",
       "      <td>тер. СНТ</td>\n",
       "      <td>11-я</td>\n",
       "      <td>Аллея</td>\n",
       "      <td>ал.</td>\n",
       "    </tr>\n",
       "    <tr>\n",
       "      <th>1457478</th>\n",
       "      <td>Омская</td>\n",
       "      <td>Область</td>\n",
       "      <td>обл</td>\n",
       "      <td>Любинский</td>\n",
       "      <td>Район</td>\n",
       "      <td>р-н</td>\n",
       "      <td>Камышловский</td>\n",
       "      <td>Поселок</td>\n",
       "      <td>п</td>\n",
       "      <td>Сибзаводовец-2</td>\n",
       "      <td>Территория СНТ</td>\n",
       "      <td>тер. СНТ</td>\n",
       "      <td>9-я</td>\n",
       "      <td>Аллея</td>\n",
       "      <td>ал.</td>\n",
       "    </tr>\n",
       "    <tr>\n",
       "      <th>1457479</th>\n",
       "      <td>Омская</td>\n",
       "      <td>Область</td>\n",
       "      <td>обл</td>\n",
       "      <td>Любинский</td>\n",
       "      <td>Район</td>\n",
       "      <td>р-н</td>\n",
       "      <td>Камышловский</td>\n",
       "      <td>Поселок</td>\n",
       "      <td>п</td>\n",
       "      <td>Сибзаводовец-2</td>\n",
       "      <td>Территория СНТ</td>\n",
       "      <td>тер. СНТ</td>\n",
       "      <td>13-я</td>\n",
       "      <td>Аллея</td>\n",
       "      <td>ал.</td>\n",
       "    </tr>\n",
       "    <tr>\n",
       "      <th>...</th>\n",
       "      <td>...</td>\n",
       "      <td>...</td>\n",
       "      <td>...</td>\n",
       "      <td>...</td>\n",
       "      <td>...</td>\n",
       "      <td>...</td>\n",
       "      <td>...</td>\n",
       "      <td>...</td>\n",
       "      <td>...</td>\n",
       "      <td>...</td>\n",
       "      <td>...</td>\n",
       "      <td>...</td>\n",
       "      <td>...</td>\n",
       "      <td>...</td>\n",
       "      <td>...</td>\n",
       "    </tr>\n",
       "    <tr>\n",
       "      <th>1519314</th>\n",
       "      <td>Краснодарский</td>\n",
       "      <td>Край</td>\n",
       "      <td>край</td>\n",
       "      <td>Тихорецкий</td>\n",
       "      <td>Район</td>\n",
       "      <td>р-н</td>\n",
       "      <td>Тихорецк</td>\n",
       "      <td>Город</td>\n",
       "      <td>г</td>\n",
       "      <td>Западный-4</td>\n",
       "      <td>Территория СНТ</td>\n",
       "      <td>тер. СНТ</td>\n",
       "      <td>Малиновая</td>\n",
       "      <td>Улица</td>\n",
       "      <td>ул.</td>\n",
       "    </tr>\n",
       "    <tr>\n",
       "      <th>1519315</th>\n",
       "      <td>Краснодарский</td>\n",
       "      <td>Край</td>\n",
       "      <td>край</td>\n",
       "      <td>Тихорецкий</td>\n",
       "      <td>Район</td>\n",
       "      <td>р-н</td>\n",
       "      <td>Тихорецк</td>\n",
       "      <td>Город</td>\n",
       "      <td>г</td>\n",
       "      <td>Западный-4</td>\n",
       "      <td>Территория СНТ</td>\n",
       "      <td>тер. СНТ</td>\n",
       "      <td>Персиковая</td>\n",
       "      <td>Улица</td>\n",
       "      <td>ул.</td>\n",
       "    </tr>\n",
       "    <tr>\n",
       "      <th>1519316</th>\n",
       "      <td>Краснодарский</td>\n",
       "      <td>Край</td>\n",
       "      <td>край</td>\n",
       "      <td>Тихорецкий</td>\n",
       "      <td>Район</td>\n",
       "      <td>р-н</td>\n",
       "      <td>Тихорецк</td>\n",
       "      <td>Город</td>\n",
       "      <td>г</td>\n",
       "      <td>Западный-4</td>\n",
       "      <td>Территория СНТ</td>\n",
       "      <td>тер. СНТ</td>\n",
       "      <td>Яблоневая</td>\n",
       "      <td>Улица</td>\n",
       "      <td>ул.</td>\n",
       "    </tr>\n",
       "    <tr>\n",
       "      <th>1519317</th>\n",
       "      <td>Краснодарский</td>\n",
       "      <td>Край</td>\n",
       "      <td>край</td>\n",
       "      <td>Тихорецкий</td>\n",
       "      <td>Район</td>\n",
       "      <td>р-н</td>\n",
       "      <td>Тихорецк</td>\n",
       "      <td>Город</td>\n",
       "      <td>г</td>\n",
       "      <td>Западный-4</td>\n",
       "      <td>Территория СНТ</td>\n",
       "      <td>тер. СНТ</td>\n",
       "      <td>Садовая</td>\n",
       "      <td>Улица</td>\n",
       "      <td>ул.</td>\n",
       "    </tr>\n",
       "    <tr>\n",
       "      <th>1519318</th>\n",
       "      <td>Краснодарский</td>\n",
       "      <td>Край</td>\n",
       "      <td>край</td>\n",
       "      <td>Тихорецкий</td>\n",
       "      <td>Район</td>\n",
       "      <td>р-н</td>\n",
       "      <td>Тихорецк</td>\n",
       "      <td>Город</td>\n",
       "      <td>г</td>\n",
       "      <td>Западный-5</td>\n",
       "      <td>Территория СНТ</td>\n",
       "      <td>тер. СНТ</td>\n",
       "      <td>Виноградная</td>\n",
       "      <td>Улица</td>\n",
       "      <td>ул.</td>\n",
       "    </tr>\n",
       "  </tbody>\n",
       "</table>\n",
       "<p>53345 rows × 15 columns</p>\n",
       "</div>"
      ]
     },
     "execution_count": 9,
     "metadata": {},
     "output_type": "execute_result"
    }
   ],
   "execution_count": 9
  },
  {
   "cell_type": "markdown",
   "source": [
    "### Базовые статистики\n",
    "#### Число уникальных регионов"
   ],
   "metadata": {
    "collapsed": false
   }
  },
  {
   "cell_type": "code",
   "source": [
    "# Число уникальных регионов\n",
    "df.region_name.nunique()"
   ],
   "metadata": {
    "collapsed": false,
    "ExecuteTime": {
     "end_time": "2024-05-15T14:00:07.946567Z",
     "start_time": "2024-05-15T14:00:07.874803Z"
    }
   },
   "outputs": [
    {
     "data": {
      "text/plain": [
       "90"
      ]
     },
     "execution_count": 10,
     "metadata": {},
     "output_type": "execute_result"
    }
   ],
   "execution_count": 10
  },
  {
   "cell_type": "markdown",
   "source": [
    "#### Типы адм. районов"
   ],
   "metadata": {
    "collapsed": false
   }
  },
  {
   "cell_type": "markdown",
   "source": [
    "#### Типы нас. пунктов\n",
    "Самые частые названия типы населенных пунктов"
   ],
   "metadata": {
    "collapsed": false
   }
  },
  {
   "cell_type": "code",
   "source": [
    "df.city_type_name.value_counts().head()"
   ],
   "metadata": {
    "collapsed": false,
    "ExecuteTime": {
     "end_time": "2024-05-15T14:00:08.013450Z",
     "start_time": "2024-05-15T14:00:07.947680Z"
    }
   },
   "outputs": [
    {
     "data": {
      "text/plain": [
       "city_type_name\n",
       "Город      494206\n",
       "Село       369252\n",
       "Деревня    241092\n",
       "Поселок    143555\n",
       "           113720\n",
       "Name: count, dtype: int64"
      ]
     },
     "execution_count": 11,
     "metadata": {},
     "output_type": "execute_result"
    }
   ],
   "execution_count": 11
  },
  {
   "cell_type": "code",
   "source": [
    "# Самые редкие типы \"нас. пунктов\"\n",
    "df.city_type_name.value_counts().tail()"
   ],
   "metadata": {
    "collapsed": false,
    "ExecuteTime": {
     "end_time": "2024-05-15T14:00:08.089566Z",
     "start_time": "2024-05-15T14:00:08.014391Z"
    }
   },
   "outputs": [
    {
     "data": {
      "text/plain": [
       "city_type_name\n",
       "Выселки                     3\n",
       "Леспромхоз                  3\n",
       "Железнодорожная площадка    2\n",
       "Сельский округ              1\n",
       "Квартал                     1\n",
       "Name: count, dtype: int64"
      ]
     },
     "execution_count": 12,
     "metadata": {},
     "output_type": "execute_result"
    }
   ],
   "execution_count": 12
  },
  {
   "cell_type": "markdown",
   "source": [
    "### Названия городов/поселков"
   ],
   "metadata": {
    "collapsed": false
   }
  },
  {
   "cell_type": "markdown",
   "source": "Названия городов/поселков, которые содержат 2 и менее символов:",
   "metadata": {
    "collapsed": false
   }
  },
  {
   "cell_type": "code",
   "source": [
    "df.query('city_name.str.len()<=2').city_name.unique()"
   ],
   "metadata": {
    "collapsed": false,
    "ExecuteTime": {
     "end_time": "2024-05-15T14:00:08.368123Z",
     "start_time": "2024-05-15T14:00:08.092277Z"
    }
   },
   "outputs": [
    {
     "data": {
      "text/plain": [
       "array(['', 'Юр', 'Яр', 'Ур', 'Ям', 'Ай', 'Ик', 'Ыб', 'Яг', 'Уя', 'Иг',\n",
       "       'Ут', 'Ей', 'Ту', 'Ук', 'Юг', 'Яя', '18', '3', '21', 'Юм', 'Ой',\n",
       "       'Аю', 'Ая', 'Иж', 'Ий', 'Ир', 'Яз', 'Ея'], dtype=object)"
      ]
     },
     "execution_count": 13,
     "metadata": {},
     "output_type": "execute_result"
    }
   ],
   "execution_count": 13
  },
  {
   "cell_type": "markdown",
   "source": [
    "#### Название территорий"
   ],
   "metadata": {
    "collapsed": false
   }
  },
  {
   "cell_type": "code",
   "source": [
    "df.query('territory_name.str.len()<=2').territory_name.unique()"
   ],
   "metadata": {
    "collapsed": false,
    "ExecuteTime": {
     "end_time": "2024-05-15T14:00:08.732831Z",
     "start_time": "2024-05-15T14:00:08.370397Z"
    }
   },
   "outputs": [
    {
     "data": {
      "text/plain": [
       "array(['', '89', '17', '1а', '10', '1', '14', '7', '18', '16', '6', '5',\n",
       "       '9', '20', '11', '15', '24', '4', '23', '19', '12', '26', '8а',\n",
       "       '2', '8', '3', '13', '22', '21', '25', '5а', '6а', '7а', '28',\n",
       "       'Юг', 'N5', 'N4', 'N8', 'N7', 'N2', 'N6', 'N3', 'N1', 'N9', '63',\n",
       "       'Еж', '50', '31', '35', '57', '5б', '96', '4А', '3б', '55', '49',\n",
       "       '51', '45', '36', '46', '42', '43', '41', '8А', '27', '53', '39',\n",
       "       '1А', '44', '54', '56', '29', '33', '48', '40', '34', '52', '32',\n",
       "       '38', '30', '37', 'Ия', 'Ям', 'М5', '3А', '№3', '№2', '№1', '№6',\n",
       "       '№7', '№8', '№4', '№9', '№5', 'М3', 'М2', 'М7', 'М6', '3Е', 'М4',\n",
       "       '69', '60', '75', '72', '65', '67', '73', '90', '77', '71', '58',\n",
       "       '74', '76', '79', '78', '81', '62', '47', '97', '91', '70', '61',\n",
       "       '94', '66', '99', '80', '82', '92', '64', '98', '83', '95', '68',\n",
       "       '86', '87', '84', '85', '0', '88', '59', 'Б', 'Л', '93', 'А', 'Д',\n",
       "       'Г', 'В', '05', '03', '06', '08', '01', '09', '02', '04', '07',\n",
       "       '5А', '7Б', '5Б', '2А', '3а', '4а', 'Е', 'Р', 'П', 'Р`', 'Н', 'И',\n",
       "       '9А', 'К', 'М', '6А', '6Б', 'Ис', 'СУ', 'ПК', 'КС', 'Ай', 'СХ',\n",
       "       'Уя', 'С6', 'Л9', 'К1', 'С2', 'С4', 'Г2', 'Л5', 'Л3', 'С1', 'Г4',\n",
       "       'Л6', 'С8', 'Л7', 'С7', 'Л8', 'Г1', 'С5', 'Л2', 'С3', 'Л1', 'Л4',\n",
       "       'С9', 'К2', 'П1', 'Г3', 'Г5', '1б', 'ИР', 'ЮГ', 'АС', 'Ял', 'Зс',\n",
       "       'Яр', '2г', 'РЦ', 'А6', 'А2', 'А1', 'А5', 'А7', 'А3', 'Б5', 'А8',\n",
       "       'Б6', 'Б1', 'Б4', 'Б2', 'А4', 'Б3', 'А9', '2а', 'ТП', '2В', 'Гу',\n",
       "       'ГП', 'СК', 'ВС', 'ВК', 'Ив', 'Ёж', '6б'], dtype=object)"
      ]
     },
     "execution_count": 14,
     "metadata": {},
     "output_type": "execute_result"
    }
   ],
   "execution_count": 14
  },
  {
   "metadata": {
    "ExecuteTime": {
     "end_time": "2024-05-15T14:00:08.737369Z",
     "start_time": "2024-05-15T14:00:08.734051Z"
    }
   },
   "cell_type": "code",
   "source": [
    "def name_with_type(name, type, last_comma = True):\n",
    "    if name=='':\n",
    "        return ''\n",
    "    else:\n",
    "        return name + \" \" + type + (', ' if last_comma else '')\n",
    "\n",
    "def adm_format(x):\n",
    "    return name_with_type(x.region_name, x.region_type_name) \\\n",
    "        + name_with_type(x.area_name, x.area_type_name) \\\n",
    "        + name_with_type(x.city_name, x.city_type_name) \\\n",
    "        + name_with_type(x.territory_name, x.territory_type_name) \\\n",
    "        + name_with_type(x.street_name, x.street_type_name, False)\n",
    "\n"
   ],
   "outputs": [],
   "execution_count": 15
  },
  {
   "metadata": {
    "ExecuteTime": {
     "end_time": "2024-05-15T14:00:57.627231Z",
     "start_time": "2024-05-15T14:00:08.738137Z"
    }
   },
   "cell_type": "code",
   "source": "df['adm_div'] = df.apply(lambda x: adm_format(x), axis=1)",
   "outputs": [],
   "execution_count": 16
  },
  {
   "metadata": {
    "ExecuteTime": {
     "end_time": "2024-05-15T14:00:57.674225Z",
     "start_time": "2024-05-15T14:00:57.627958Z"
    }
   },
   "cell_type": "code",
   "source": "df.adm_div.sample(10)",
   "outputs": [
    {
     "data": {
      "text/plain": [
       "745354     Нижегородская Область, Бор Город, Большое Пики...\n",
       "350720     Хабаровский Край, Бикин Город, Первомайская Улица\n",
       "479277     Ставропольский Край, Минераловодский Район, ав...\n",
       "205029     Ульяновская Область, Кузоватовский Район, Стог...\n",
       "922419     Вологодская Область, Сямженский Район, Сямжа С...\n",
       "1243863    Московская Область, Мытищи Город, Хлябово Дере...\n",
       "849839     Томская Область, Томский Район, Калтай Село, З...\n",
       "250910     Крым Республика, Керчь Город, СТ Створ Террито...\n",
       "1151326    Удмуртская Республика, Сюмсинский Район, Стары...\n",
       "1056857    Приморский Край, Партизанск Город, Углекаменск...\n",
       "Name: adm_div, dtype: object"
      ]
     },
     "execution_count": 17,
     "metadata": {},
     "output_type": "execute_result"
    }
   ],
   "execution_count": 17
  },
  {
   "cell_type": "markdown",
   "source": [
    "#### Длины полных наименований"
   ],
   "metadata": {
    "collapsed": false
   }
  },
  {
   "cell_type": "code",
   "source": "df['adm_len'] = df.adm_div.str.len()",
   "metadata": {
    "collapsed": false,
    "ExecuteTime": {
     "end_time": "2024-05-15T14:00:57.976167Z",
     "start_time": "2024-05-15T14:00:57.675031Z"
    }
   },
   "outputs": [],
   "execution_count": 18
  },
  {
   "cell_type": "code",
   "source": [
    "df.adm_len.hist(legend='y')"
   ],
   "metadata": {
    "collapsed": false,
    "ExecuteTime": {
     "end_time": "2024-05-15T14:01:45.771833Z",
     "start_time": "2024-05-15T14:01:45.557392Z"
    }
   },
   "outputs": [
    {
     "data": {
      "text/plain": [
       "<Axes: >"
      ]
     },
     "execution_count": 21,
     "metadata": {},
     "output_type": "execute_result"
    },
    {
     "data": {
      "text/plain": [
       "<Figure size 640x480 with 1 Axes>"
      ],
      "image/png": "[encoded data removed]"
     },
     "metadata": {},
     "output_type": "display_data"
    }
   ],
   "execution_count": 21
  },
  {
   "cell_type": "markdown",
   "source": "Длинные (больше 200 символов) названия мест в административно-территориальном делении",
   "metadata": {
    "collapsed": false
   }
  },
  {
   "cell_type": "code",
   "source": "df.query('adm_len>200').adm_div",
   "metadata": {
    "collapsed": false,
    "ExecuteTime": {
     "end_time": "2024-05-15T14:01:48.399262Z",
     "start_time": "2024-05-15T14:01:48.387490Z"
    }
   },
   "outputs": [
    {
     "data": {
      "text/plain": [
       "635548     Ленинградская Область, Кингисеппский Район, Мо...\n",
       "644921     Ханты-Мансийский Автономный округ - Югра Автон...\n",
       "649270     Ставропольский Край, Минераловодский Район, Ми...\n",
       "1459309    Краснодарский Край, Тихорецкий Район, Малоросс...\n",
       "1459316    Краснодарский Край, Гулькевичский Район, Мирны...\n",
       "1459321    Чувашская Республика - Чувашия, Чебоксарский Р...\n",
       "1459577    Краснодарский Край, Новокубанский Район, Мирск...\n",
       "1459641    Краснодарский Край, Успенский Район, Мичуринск...\n",
       "1459865    Краснодарский Край, Тихорецкий Район, Тихорецк...\n",
       "1518003    Ханты-Мансийский Автономный округ - Югра Автон...\n",
       "1518004    Ханты-Мансийский Автономный округ - Югра Автон...\n",
       "1518005    Ханты-Мансийский Автономный округ - Югра Автон...\n",
       "1518006    Ханты-Мансийский Автономный округ - Югра Автон...\n",
       "1518007    Ханты-Мансийский Автономный округ - Югра Автон...\n",
       "1518008    Ханты-Мансийский Автономный округ - Югра Автон...\n",
       "1518009    Ханты-Мансийский Автономный округ - Югра Автон...\n",
       "1518010    Ханты-Мансийский Автономный округ - Югра Автон...\n",
       "1518018    Ханты-Мансийский Автономный округ - Югра Автон...\n",
       "1518019    Ханты-Мансийский Автономный округ - Югра Автон...\n",
       "Name: adm_div, dtype: object"
      ]
     },
     "execution_count": 22,
     "metadata": {},
     "output_type": "execute_result"
    }
   ],
   "execution_count": 22
  },
  {
   "cell_type": "markdown",
   "source": [
    "#### Количество слов в адресе"
   ],
   "metadata": {
    "collapsed": false
   }
  },
  {
   "cell_type": "code",
   "source": "df['adm_adr_word_count'] = df.adm_div.apply(lambda x: len(x.split()))",
   "metadata": {
    "collapsed": false,
    "ExecuteTime": {
     "end_time": "2024-05-15T14:01:52.625324Z",
     "start_time": "2024-05-15T14:01:51.701953Z"
    }
   },
   "outputs": [],
   "execution_count": 23
  },
  {
   "cell_type": "code",
   "source": [
    "df.adm_adr_word_count.hist(legend='y')"
   ],
   "metadata": {
    "collapsed": false,
    "ExecuteTime": {
     "end_time": "2024-05-15T14:01:53.275078Z",
     "start_time": "2024-05-15T14:01:53.083806Z"
    }
   },
   "outputs": [
    {
     "data": {
      "text/plain": [
       "<Axes: >"
      ]
     },
     "execution_count": 24,
     "metadata": {},
     "output_type": "execute_result"
    },
    {
     "data": {
      "text/plain": [
       "<Figure size 640x480 with 1 Axes>"
      ],
      "image/png": "[encoded data removed]"
     },
     "metadata": {},
     "output_type": "display_data"
    }
   ],
   "execution_count": 24
  },
  {
   "cell_type": "code",
   "source": "df.adm_adr_word_count.mean()",
   "metadata": {
    "collapsed": false,
    "ExecuteTime": {
     "end_time": "2024-05-15T14:01:55.604215Z",
     "start_time": "2024-05-15T14:01:55.596677Z"
    }
   },
   "outputs": [
    {
     "data": {
      "text/plain": [
       "8.2294205496015"
      ]
     },
     "execution_count": 25,
     "metadata": {},
     "output_type": "execute_result"
    }
   ],
   "execution_count": 25
  },
  {
   "metadata": {},
   "cell_type": "markdown",
   "source": "#### Федеральные города- регионы"
  },
  {
   "metadata": {
    "ExecuteTime": {
     "end_time": "2024-05-15T14:11:59.621314Z",
     "start_time": "2024-05-15T14:11:59.441231Z"
    }
   },
   "cell_type": "code",
   "source": [
    "condition_name = df.region_name == df.city_name\n",
    "condition_type = df.region_type_name == df.city_type_name\n",
    "df.loc[condition_name&condition_type].region_name.value_counts()"
   ],
   "outputs": [
    {
     "data": {
      "text/plain": [
       "Series([], Name: count, dtype: int64)"
      ]
     },
     "execution_count": 41,
     "metadata": {},
     "output_type": "execute_result"
    }
   ],
   "execution_count": 41
  },
  {
   "metadata": {
    "ExecuteTime": {
     "end_time": "2024-05-15T14:11:56.948446Z",
     "start_time": "2024-05-15T14:11:56.925161Z"
    }
   },
   "cell_type": "code",
   "source": "df.loc[condition_name&condition_type, ['city_type_name', 'city_name', 'city_type_name_short']] = ''",
   "outputs": [],
   "execution_count": 40
  },
  {
   "cell_type": "markdown",
   "source": [
    "## Дополнительно. Справочники сокращений типов адресообразующих элементов\n",
    "\n",
    "Дополнительно составим справочник сокращений. Он будет использоваться при аугментации данных - генерации возможных вариантов написания адреса."
   ],
   "metadata": {
    "collapsed": false
   }
  },
  {
   "cell_type": "code",
   "source": [
    "cdf = df[['city_type_name', 'city_type_name_short']].copy()\n",
    "cdf.drop_duplicates(inplace=True)\n",
    "cdf = cdf.rename(columns={'city_type_name':'type_name', 'city_type_name_short': 'type_name_short'})"
   ],
   "metadata": {
    "collapsed": false
   },
   "outputs": [],
   "execution_count": null
  },
  {
   "cell_type": "code",
   "source": [
    "tdf = df[['territory_type_name', 'territory_type_name_short']].copy()\n",
    "tdf.drop_duplicates(inplace=True)\n",
    "tdf = tdf.rename(columns={'territory_type_name': 'type_name', 'territory_type_name_short': 'type_name_short'})"
   ],
   "metadata": {
    "collapsed": false
   },
   "outputs": [],
   "execution_count": null
  },
  {
   "cell_type": "code",
   "source": [
    "sdf = df[['street_type_name', 'street_type_name_short']].copy()\n",
    "sdf.drop_duplicates(inplace=True)\n",
    "sdf = sdf.rename(columns={'street_type_name': 'type_name', 'street_type_name_short': 'type_name_short'})"
   ],
   "metadata": {
    "collapsed": false
   },
   "outputs": [],
   "execution_count": null
  },
  {
   "cell_type": "code",
   "source": [
    "adf = df[['area_type_name', 'area_type_name_short']].copy()\n",
    "adf.drop_duplicates(inplace=True)\n",
    "adf = adf.rename(columns={'area_type_name': 'type_name', 'area_type_name_short': 'type_name_short'})"
   ],
   "metadata": {
    "collapsed": false
   },
   "outputs": [],
   "execution_count": null
  },
  {
   "cell_type": "code",
   "source": [
    "rdf = df[['region_type_name', 'region_type_name_short']].copy()\n",
    "rdf.drop_duplicates(inplace=True)\n",
    "rdf = rdf.rename(columns={'region_type_name':'type_name', 'region_type_name_short': 'type_name_short'})"
   ],
   "metadata": {
    "collapsed": false
   },
   "outputs": [],
   "execution_count": null
  },
  {
   "cell_type": "markdown",
   "source": [
    "Объединяем все справочники в 1 чистим дубликаты и сохраняем в файл"
   ],
   "metadata": {
    "collapsed": false
   }
  },
  {
   "cell_type": "code",
   "source": [
    "types_df = pd.concat([cdf, sdf, rdf, tdf, sdf])\n",
    "types_df.drop_duplicates(inplace=True)\n",
    "types_df.to_csv(\"types.csv\")"
   ],
   "metadata": {
    "collapsed": false
   },
   "outputs": [],
   "execution_count": null
  }
 ],
 "metadata": {
  "kernelspec": {
   "display_name": "Python 3",
   "language": "python",
   "name": "python3"
  },
  "language_info": {
   "codemirror_mode": {
    "name": "ipython",
    "version": 2
   },
   "file_extension": ".py",
   "mimetype": "text/x-python",
   "name": "python",
   "nbconvert_exporter": "python",
   "pygments_lexer": "ipython2",
   "version": "2.7.6"
  }
 },
 "nbformat": 4,
 "nbformat_minor": 0
}
