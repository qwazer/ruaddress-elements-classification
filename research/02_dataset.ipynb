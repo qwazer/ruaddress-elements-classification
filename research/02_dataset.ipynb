{
 "cells": [
  {
   "cell_type": "markdown",
   "source": [
    "## Подготовка"
   ],
   "metadata": {
    "collapsed": false
   }
  },
  {
   "cell_type": "markdown",
   "source": [
    "Пакеты"
   ],
   "metadata": {
    "collapsed": false
   }
  },
  {
   "cell_type": "code",
   "source": [
    "import numpy as np\n",
    "import pandas as pd\n",
    "import seaborn as sns\n",
    "import matplotlib.pyplot as plt\n",
    "%matplotlib inline"
   ],
   "metadata": {
    "collapsed": false,
    "ExecuteTime": {
     "end_time": "2024-04-28T16:11:43.221531Z",
     "start_time": "2024-04-28T16:11:43.192767Z"
    }
   },
   "outputs": [],
   "execution_count": 1
  },
  {
   "cell_type": "markdown",
   "source": [
    "## Данные\n",
    "\n",
    "Архив содержит файл gar_places.csv. Который содержит выгрузку части данных из архива ГАР.\n",
    "Каждая строчка - это набор адресообразующих элементов какого-либо места (place) уровня до улиц.\n",
    "Для каждого уникального значения кода ОКТМО выгружено по не более 10 примеров адресов мест."
   ],
   "metadata": {
    "collapsed": false
   }
  },
  {
   "cell_type": "code",
   "source": [
    "!unzip -nq archive.zip"
   ],
   "metadata": {
    "collapsed": false,
    "ExecuteTime": {
     "end_time": "2024-04-28T16:11:59.167175Z",
     "start_time": "2024-04-28T16:11:57.752623Z"
    }
   },
   "outputs": [],
   "execution_count": 2
  },
  {
   "cell_type": "code",
   "source": [
    "df = pd.read_csv(\"gar_places.csv\")"
   ],
   "metadata": {
    "collapsed": false,
    "ExecuteTime": {
     "end_time": "2024-04-28T16:12:20.271673Z",
     "start_time": "2024-04-28T16:12:17.682237Z"
    }
   },
   "outputs": [],
   "execution_count": 3
  },
  {
   "cell_type": "code",
   "source": [
    "df.head()"
   ],
   "metadata": {
    "collapsed": false,
    "ExecuteTime": {
     "end_time": "2024-04-28T16:12:26.673620Z",
     "start_time": "2024-04-28T16:12:26.647577Z"
    }
   },
   "outputs": [
    {
     "data": {
      "text/plain": [
       "  region_name region_type_name region_type_name_short mun_area_name  \\\n",
       "0   Алтайский             Край                   край   Залесовский   \n",
       "1   Алтайский             Край                   край   Залесовский   \n",
       "2   Алтайский             Край                   край   Залесовский   \n",
       "3   Алтайский             Край                   край   Залесовский   \n",
       "4   Алтайский             Край                   край   Залесовский   \n",
       "\n",
       "    mun_area_type_name mun_area_type_name_short    area_name area_type_name  \\\n",
       "0  Муниципальный округ                     м.о.  Залесовский          Район   \n",
       "1  Муниципальный округ                     м.о.  Залесовский          Район   \n",
       "2  Муниципальный округ                     м.о.  Залесовский          Район   \n",
       "3  Муниципальный округ                     м.о.  Залесовский          Район   \n",
       "4  Муниципальный округ                     м.о.  Залесовский          Район   \n",
       "\n",
       "  area_type_name_short city_name  ... territory_type_name  \\\n",
       "0                  р-н  Залесово  ...                 NaN   \n",
       "1                  р-н  Залесово  ...          Территория   \n",
       "2                  р-н  Залесово  ...                 NaN   \n",
       "3                  р-н  Залесово  ...                 NaN   \n",
       "4                  р-н  Залесово  ...                 NaN   \n",
       "\n",
       "  territory_type_name_short      street_name street_type_name  \\\n",
       "0                       NaN          Полевая            Улица   \n",
       "1                      тер.            151-й         Километр   \n",
       "2                       NaN       Ворошилова            Улица   \n",
       "3                       NaN  Красноармейский         Переулок   \n",
       "4                       NaN         Гагарина            Улица   \n",
       "\n",
       "  street_type_name_short settlement_name settlement_type_name  \\\n",
       "0                     ул             NaN                  NaN   \n",
       "1                     км             NaN                  NaN   \n",
       "2                     ул             NaN                  NaN   \n",
       "3                    пер             NaN                  NaN   \n",
       "4                     ул             NaN                  NaN   \n",
       "\n",
       "  settlement_type_name_short       oktmo oktmo_row_number  \n",
       "0                        NaN  1512000101                1  \n",
       "1                        NaN  1512000101                2  \n",
       "2                        NaN  1512000101                3  \n",
       "3                        NaN  1512000101                4  \n",
       "4                        NaN  1512000101                5  \n",
       "\n",
       "[5 rows x 23 columns]"
      ],
      "text/html": [
       "<div>\n",
       "<style scoped>\n",
       "    .dataframe tbody tr th:only-of-type {\n",
       "        vertical-align: middle;\n",
       "    }\n",
       "\n",
       "    .dataframe tbody tr th {\n",
       "        vertical-align: top;\n",
       "    }\n",
       "\n",
       "    .dataframe thead th {\n",
       "        text-align: right;\n",
       "    }\n",
       "</style>\n",
       "<table border=\"1\" class=\"dataframe\">\n",
       "  <thead>\n",
       "    <tr style=\"text-align: right;\">\n",
       "      <th></th>\n",
       "      <th>region_name</th>\n",
       "      <th>region_type_name</th>\n",
       "      <th>region_type_name_short</th>\n",
       "      <th>mun_area_name</th>\n",
       "      <th>mun_area_type_name</th>\n",
       "      <th>mun_area_type_name_short</th>\n",
       "      <th>area_name</th>\n",
       "      <th>area_type_name</th>\n",
       "      <th>area_type_name_short</th>\n",
       "      <th>city_name</th>\n",
       "      <th>...</th>\n",
       "      <th>territory_type_name</th>\n",
       "      <th>territory_type_name_short</th>\n",
       "      <th>street_name</th>\n",
       "      <th>street_type_name</th>\n",
       "      <th>street_type_name_short</th>\n",
       "      <th>settlement_name</th>\n",
       "      <th>settlement_type_name</th>\n",
       "      <th>settlement_type_name_short</th>\n",
       "      <th>oktmo</th>\n",
       "      <th>oktmo_row_number</th>\n",
       "    </tr>\n",
       "  </thead>\n",
       "  <tbody>\n",
       "    <tr>\n",
       "      <th>0</th>\n",
       "      <td>Алтайский</td>\n",
       "      <td>Край</td>\n",
       "      <td>край</td>\n",
       "      <td>Залесовский</td>\n",
       "      <td>Муниципальный округ</td>\n",
       "      <td>м.о.</td>\n",
       "      <td>Залесовский</td>\n",
       "      <td>Район</td>\n",
       "      <td>р-н</td>\n",
       "      <td>Залесово</td>\n",
       "      <td>...</td>\n",
       "      <td>NaN</td>\n",
       "      <td>NaN</td>\n",
       "      <td>Полевая</td>\n",
       "      <td>Улица</td>\n",
       "      <td>ул</td>\n",
       "      <td>NaN</td>\n",
       "      <td>NaN</td>\n",
       "      <td>NaN</td>\n",
       "      <td>1512000101</td>\n",
       "      <td>1</td>\n",
       "    </tr>\n",
       "    <tr>\n",
       "      <th>1</th>\n",
       "      <td>Алтайский</td>\n",
       "      <td>Край</td>\n",
       "      <td>край</td>\n",
       "      <td>Залесовский</td>\n",
       "      <td>Муниципальный округ</td>\n",
       "      <td>м.о.</td>\n",
       "      <td>Залесовский</td>\n",
       "      <td>Район</td>\n",
       "      <td>р-н</td>\n",
       "      <td>Залесово</td>\n",
       "      <td>...</td>\n",
       "      <td>Территория</td>\n",
       "      <td>тер.</td>\n",
       "      <td>151-й</td>\n",
       "      <td>Километр</td>\n",
       "      <td>км</td>\n",
       "      <td>NaN</td>\n",
       "      <td>NaN</td>\n",
       "      <td>NaN</td>\n",
       "      <td>1512000101</td>\n",
       "      <td>2</td>\n",
       "    </tr>\n",
       "    <tr>\n",
       "      <th>2</th>\n",
       "      <td>Алтайский</td>\n",
       "      <td>Край</td>\n",
       "      <td>край</td>\n",
       "      <td>Залесовский</td>\n",
       "      <td>Муниципальный округ</td>\n",
       "      <td>м.о.</td>\n",
       "      <td>Залесовский</td>\n",
       "      <td>Район</td>\n",
       "      <td>р-н</td>\n",
       "      <td>Залесово</td>\n",
       "      <td>...</td>\n",
       "      <td>NaN</td>\n",
       "      <td>NaN</td>\n",
       "      <td>Ворошилова</td>\n",
       "      <td>Улица</td>\n",
       "      <td>ул</td>\n",
       "      <td>NaN</td>\n",
       "      <td>NaN</td>\n",
       "      <td>NaN</td>\n",
       "      <td>1512000101</td>\n",
       "      <td>3</td>\n",
       "    </tr>\n",
       "    <tr>\n",
       "      <th>3</th>\n",
       "      <td>Алтайский</td>\n",
       "      <td>Край</td>\n",
       "      <td>край</td>\n",
       "      <td>Залесовский</td>\n",
       "      <td>Муниципальный округ</td>\n",
       "      <td>м.о.</td>\n",
       "      <td>Залесовский</td>\n",
       "      <td>Район</td>\n",
       "      <td>р-н</td>\n",
       "      <td>Залесово</td>\n",
       "      <td>...</td>\n",
       "      <td>NaN</td>\n",
       "      <td>NaN</td>\n",
       "      <td>Красноармейский</td>\n",
       "      <td>Переулок</td>\n",
       "      <td>пер</td>\n",
       "      <td>NaN</td>\n",
       "      <td>NaN</td>\n",
       "      <td>NaN</td>\n",
       "      <td>1512000101</td>\n",
       "      <td>4</td>\n",
       "    </tr>\n",
       "    <tr>\n",
       "      <th>4</th>\n",
       "      <td>Алтайский</td>\n",
       "      <td>Край</td>\n",
       "      <td>край</td>\n",
       "      <td>Залесовский</td>\n",
       "      <td>Муниципальный округ</td>\n",
       "      <td>м.о.</td>\n",
       "      <td>Залесовский</td>\n",
       "      <td>Район</td>\n",
       "      <td>р-н</td>\n",
       "      <td>Залесово</td>\n",
       "      <td>...</td>\n",
       "      <td>NaN</td>\n",
       "      <td>NaN</td>\n",
       "      <td>Гагарина</td>\n",
       "      <td>Улица</td>\n",
       "      <td>ул</td>\n",
       "      <td>NaN</td>\n",
       "      <td>NaN</td>\n",
       "      <td>NaN</td>\n",
       "      <td>1512000101</td>\n",
       "      <td>5</td>\n",
       "    </tr>\n",
       "  </tbody>\n",
       "</table>\n",
       "<p>5 rows × 23 columns</p>\n",
       "</div>"
      ]
     },
     "execution_count": 4,
     "metadata": {},
     "output_type": "execute_result"
    }
   ],
   "execution_count": 4
  },
  {
   "cell_type": "markdown",
   "source": [
    "Удалим стролбцы, которые не нужны при последующем анализе данных"
   ],
   "metadata": {
    "collapsed": false
   }
  },
  {
   "cell_type": "code",
   "source": "df = df.drop(['oktmo', 'oktmo_row_number', 'mun_area_name', 'mun_area_type_name', 'mun_area_type_name_short', 'settlement_name', 'settlement_type_name', 'settlement_type_name_short'], axis=1)",
   "metadata": {
    "collapsed": false,
    "ExecuteTime": {
     "end_time": "2024-04-28T16:13:36.820927Z",
     "start_time": "2024-04-28T16:13:36.713022Z"
    }
   },
   "outputs": [],
   "execution_count": 5
  },
  {
   "cell_type": "markdown",
   "source": [
    "## Первичный анализ данных\n"
   ],
   "metadata": {
    "collapsed": false
   }
  },
  {
   "cell_type": "markdown",
   "source": [
    "### Незаполненные данные"
   ],
   "metadata": {
    "collapsed": false
   }
  },
  {
   "cell_type": "code",
   "source": [
    "for col in df.columns:\n",
    "    s = df[col].isna().sum()\n",
    "    if (s>0):\n",
    "        print(f\"{col} has NA values. count is {s}\")"
   ],
   "metadata": {
    "collapsed": false,
    "ExecuteTime": {
     "end_time": "2024-04-28T16:13:42.829250Z",
     "start_time": "2024-04-28T16:13:42.461805Z"
    }
   },
   "outputs": [
    {
     "name": "stdout",
     "output_type": "stream",
     "text": [
      "area_name has NA values. count is 54298\n",
      "area_type_name has NA values. count is 54298\n",
      "area_type_name_short has NA values. count is 54298\n",
      "city_name has NA values. count is 23443\n",
      "city_type_name has NA values. count is 23443\n",
      "city_type_name_short has NA values. count is 23443\n",
      "territory_name has NA values. count is 549196\n",
      "territory_type_name has NA values. count is 549196\n",
      "territory_type_name_short has NA values. count is 549196\n",
      "street_name has NA values. count is 196075\n",
      "street_type_name has NA values. count is 196075\n",
      "street_type_name_short has NA values. count is 196075\n"
     ]
    }
   ],
   "execution_count": 6
  },
  {
   "cell_type": "code",
   "source": [
    "df = df.fillna('')"
   ],
   "metadata": {
    "collapsed": false,
    "ExecuteTime": {
     "end_time": "2024-04-28T16:13:55.392418Z",
     "start_time": "2024-04-28T16:13:54.675685Z"
    }
   },
   "outputs": [],
   "execution_count": 7
  },
  {
   "cell_type": "markdown",
   "source": [
    "### Базовые статистики\n",
    "#### Число уникальных регионов"
   ],
   "metadata": {
    "collapsed": false
   }
  },
  {
   "cell_type": "code",
   "source": [
    "# Число уникальных регионов\n",
    "df.region_name.nunique()"
   ],
   "metadata": {
    "collapsed": false,
    "ExecuteTime": {
     "end_time": "2024-04-28T16:13:58.796839Z",
     "start_time": "2024-04-28T16:13:58.753458Z"
    }
   },
   "outputs": [
    {
     "data": {
      "text/plain": [
       "89"
      ]
     },
     "execution_count": 8,
     "metadata": {},
     "output_type": "execute_result"
    }
   ],
   "execution_count": 8
  },
  {
   "cell_type": "markdown",
   "source": [
    "#### Типы адм. районов"
   ],
   "metadata": {
    "collapsed": false
   }
  },
  {
   "cell_type": "code",
   "source": [
    "# Типы адм. районов\n",
    "df.area_type_name.value_counts()"
   ],
   "metadata": {
    "collapsed": false,
    "ExecuteTime": {
     "end_time": "2024-04-28T16:14:04.962519Z",
     "start_time": "2024-04-28T16:14:04.923251Z"
    }
   },
   "outputs": [
    {
     "data": {
      "text/plain": [
       "area_type_name\n",
       "Район        540940\n",
       "              54298\n",
       "Город         12551\n",
       "Улус           4850\n",
       "Поселение       191\n",
       "Name: count, dtype: int64"
      ]
     },
     "execution_count": 9,
     "metadata": {},
     "output_type": "execute_result"
    }
   ],
   "execution_count": 9
  },
  {
   "cell_type": "markdown",
   "source": [
    "#### Типы нас. пунктов\n",
    "Самые частые названия типы населенных пунктов"
   ],
   "metadata": {
    "collapsed": false
   }
  },
  {
   "cell_type": "code",
   "source": [
    "df.city_type_name.value_counts().head()"
   ],
   "metadata": {
    "collapsed": false,
    "ExecuteTime": {
     "end_time": "2024-04-28T16:14:16.980031Z",
     "start_time": "2024-04-28T16:14:16.940873Z"
    }
   },
   "outputs": [
    {
     "data": {
      "text/plain": [
       "city_type_name\n",
       "Деревня    230217\n",
       "Село       205180\n",
       "Поселок     87267\n",
       "            23443\n",
       "Хутор       22496\n",
       "Name: count, dtype: int64"
      ]
     },
     "execution_count": 10,
     "metadata": {},
     "output_type": "execute_result"
    }
   ],
   "execution_count": 10
  },
  {
   "cell_type": "code",
   "source": [
    "# Самые редкие типы \"нас. пунктов\"\n",
    "df.city_type_name.value_counts().tail()"
   ],
   "metadata": {
    "collapsed": false,
    "ExecuteTime": {
     "end_time": "2024-04-28T16:14:21.349385Z",
     "start_time": "2024-04-28T16:14:21.313511Z"
    }
   },
   "outputs": [
    {
     "data": {
      "text/plain": [
       "city_type_name\n",
       "Жилой район            2\n",
       "Квартал                1\n",
       "Сельский округ         1\n",
       "Планировочный район    1\n",
       "Леспромхоз             1\n",
       "Name: count, dtype: int64"
      ]
     },
     "execution_count": 11,
     "metadata": {},
     "output_type": "execute_result"
    }
   ],
   "execution_count": 11
  },
  {
   "cell_type": "markdown",
   "source": [
    "### Названия городов/поселков"
   ],
   "metadata": {
    "collapsed": false
   }
  },
  {
   "cell_type": "markdown",
   "source": "Названия городов/поселков, которые содержат 2 и менее символов:",
   "metadata": {
    "collapsed": false
   }
  },
  {
   "cell_type": "code",
   "source": [
    "df.query('city_name.str.len()<=2').city_name.unique()"
   ],
   "metadata": {
    "collapsed": false,
    "ExecuteTime": {
     "end_time": "2024-04-28T16:15:03.234245Z",
     "start_time": "2024-04-28T16:15:02.983104Z"
    }
   },
   "outputs": [
    {
     "data": {
      "text/plain": [
       "array(['', 'Ая', 'Ея', '18', '21', 'Ту', 'Иг', 'Ям', 'Яр', 'Яз', 'Ук',\n",
       "       'Ут', 'Ей', 'Гу', 'Яя', 'Иж', 'Ик', 'Юг', 'Юм', 'Ур', 'Ис', '2А',\n",
       "       '3', 'Ай', 'Уя', 'Ыб', 'Яг', 'Ир', 'Аю', 'Ий', 'Юр', 'Ой'],\n",
       "      dtype=object)"
      ]
     },
     "execution_count": 13,
     "metadata": {},
     "output_type": "execute_result"
    }
   ],
   "execution_count": 13
  },
  {
   "cell_type": "markdown",
   "source": [
    "#### Название территорий"
   ],
   "metadata": {
    "collapsed": false
   }
  },
  {
   "cell_type": "code",
   "source": [
    "df.query('territory_name.str.len()<=2').territory_name.unique()"
   ],
   "metadata": {
    "collapsed": false,
    "ExecuteTime": {
     "end_time": "2024-04-28T16:15:08.270862Z",
     "start_time": "2024-04-28T16:15:07.974783Z"
    }
   },
   "outputs": [
    {
     "data": {
      "text/plain": [
       "array(['', '1', '4', '2', '3', '9', '11', '6', '10', 'N3', '27', '№6',\n",
       "       '№1', '34', 'N8', 'N2', '59', '63', '89', '71', '91', '90', '40',\n",
       "       '№4', '7', 'N4', 'N5', '22', '97', 'N1', '69', '80', '16', '17',\n",
       "       'N7', 'N6', '№3', '№2', 'N9', '8', 'СК', 'ВС', '№9', '№8', '№7',\n",
       "       '№5', '13', '5', '24', '28', '23', 'С1', 'Л2', 'С3', 'Л1', 'С2',\n",
       "       'С5', 'Л4', 'С6', 'С4', 'Л3', 'С9', 'Г3', 'Л5', 'К1', 'Г2', '15',\n",
       "       '12', 'СХ', '14', '18', '96', '19', '32', '48', '20', '21', '4а',\n",
       "       '05', '03', '2А', '0', '30', '29', 'А', 'ЮГ', '81', '84', '25',\n",
       "       '52', '75', '54', 'Ия', 'Яр', 'ГП', 'Юг', 'Б', 'В', 'Ёж', '98',\n",
       "       '36', '2а', 'Ай', '47', '74', 'А5', 'Б5', 'А8', 'А2', 'А3', 'Б6',\n",
       "       'Б1', 'Б4', 'А1', 'Л', '7а', 'Г', '44', '33', '49'], dtype=object)"
      ]
     },
     "execution_count": 14,
     "metadata": {},
     "output_type": "execute_result"
    }
   ],
   "execution_count": 14
  },
  {
   "metadata": {
    "ExecuteTime": {
     "end_time": "2024-04-28T16:17:23.020771Z",
     "start_time": "2024-04-28T16:17:23.016429Z"
    }
   },
   "cell_type": "code",
   "source": [
    "def name_with_type(name, type, last_comma = True):\n",
    "    if name=='':\n",
    "        return ''\n",
    "    else:\n",
    "        return name + \" \" + type + (', ' if last_comma else '')\n",
    "\n",
    "def adm_format(x):\n",
    "    return name_with_type(x.region_name, x.region_type_name) \\\n",
    "        + name_with_type(x.area_name, x.area_type_name) \\\n",
    "        + name_with_type(x.city_name, x.city_type_name) \\\n",
    "        + name_with_type(x.territory_name, x.territory_type_name) \\\n",
    "        + name_with_type(x.street_name, x.street_type_name, False)\n",
    "\n"
   ],
   "outputs": [],
   "execution_count": 16
  },
  {
   "metadata": {
    "ExecuteTime": {
     "end_time": "2024-04-28T16:17:53.180023Z",
     "start_time": "2024-04-28T16:17:25.259771Z"
    }
   },
   "cell_type": "code",
   "source": "df['adm_div'] = df.apply(lambda x: adm_format(x), axis=1)",
   "outputs": [],
   "execution_count": 17
  },
  {
   "metadata": {
    "ExecuteTime": {
     "end_time": "2024-04-28T16:17:56.227868Z",
     "start_time": "2024-04-28T16:17:56.191843Z"
    }
   },
   "cell_type": "code",
   "source": "df.adm_div.sample(10)",
   "outputs": [
    {
     "data": {
      "text/plain": [
       "375515    Псковская Область, Струго-Красненский Район, З...\n",
       "455340    Тюменская Область, Исетский Район, Онуфриево Д...\n",
       "178682                  Тверская Область, Чупрово Деревня, \n",
       "95        Алтайский Край, Залесовский Район, Никольский ...\n",
       "6132      Алтайский Край, Поспелихинский Район, Гаврилов...\n",
       "96283     Волгоградская Область, Урюпинский Район, Долго...\n",
       "111268    Воронежская Область, Аннинский Район, 36:01:07...\n",
       "568406    Татарстан Республика, Балтасинский Район, Норм...\n",
       "30524     Красноярский Край, Новоселовский Район, Дивный...\n",
       "198083    Кировская Область, Фаленский Район, Красное Се...\n",
       "Name: adm_div, dtype: object"
      ]
     },
     "execution_count": 18,
     "metadata": {},
     "output_type": "execute_result"
    }
   ],
   "execution_count": 18
  },
  {
   "cell_type": "markdown",
   "source": [
    "#### Длины полных наименований"
   ],
   "metadata": {
    "collapsed": false
   }
  },
  {
   "cell_type": "code",
   "source": "df['adm_len'] = df.adm_div.str.len()",
   "metadata": {
    "collapsed": false,
    "ExecuteTime": {
     "end_time": "2024-04-28T16:18:21.454795Z",
     "start_time": "2024-04-28T16:18:21.297807Z"
    }
   },
   "outputs": [],
   "execution_count": 19
  },
  {
   "cell_type": "code",
   "source": [
    "df.adm_len.hist(legend='y')"
   ],
   "metadata": {
    "collapsed": false,
    "ExecuteTime": {
     "end_time": "2024-04-28T16:18:23.875222Z",
     "start_time": "2024-04-28T16:18:23.319264Z"
    }
   },
   "outputs": [
    {
     "data": {
      "text/plain": [
       "<Axes: >"
      ]
     },
     "execution_count": 20,
     "metadata": {},
     "output_type": "execute_result"
    },
    {
     "data": {
      "text/plain": [
       "<Figure size 640x480 with 1 Axes>"
      ],
      "image/png": "[encoded data removed]"
     },
     "metadata": {},
     "output_type": "display_data"
    }
   ],
   "execution_count": 20
  },
  {
   "cell_type": "markdown",
   "source": "Длинные (больше 200 символов) названия мест в административно-территориальном делении",
   "metadata": {
    "collapsed": false
   }
  },
  {
   "cell_type": "code",
   "source": "df.query('adm_len>200').adm_div",
   "metadata": {
    "collapsed": false,
    "ExecuteTime": {
     "end_time": "2024-04-28T16:19:51.434009Z",
     "start_time": "2024-04-28T16:19:51.418440Z"
    }
   },
   "outputs": [
    {
     "data": {
      "text/plain": [
       "12249     Краснодарский Край, Гулькевичский Район, Мирны...\n",
       "251039    Ленинградская Область, Кингисеппский Район, Мо...\n",
       "461311    Ханты-Мансийский Автономный округ - Югра Автон...\n",
       "461312    Ханты-Мансийский Автономный округ - Югра Автон...\n",
       "461313    Ханты-Мансийский Автономный округ - Югра Автон...\n",
       "Name: adm_div, dtype: object"
      ]
     },
     "execution_count": 23,
     "metadata": {},
     "output_type": "execute_result"
    }
   ],
   "execution_count": 23
  },
  {
   "cell_type": "markdown",
   "source": [
    "#### Количество слов в адресе"
   ],
   "metadata": {
    "collapsed": false
   }
  },
  {
   "cell_type": "code",
   "source": "df['adm_adr_word_count'] = df.adm_div.apply(lambda x: len(x.split()))",
   "metadata": {
    "collapsed": false,
    "ExecuteTime": {
     "end_time": "2024-04-28T16:20:48.437067Z",
     "start_time": "2024-04-28T16:20:47.917268Z"
    }
   },
   "outputs": [],
   "execution_count": 24
  },
  {
   "cell_type": "code",
   "source": [
    "df.adm_adr_word_count.hist(legend='y')"
   ],
   "metadata": {
    "collapsed": false,
    "ExecuteTime": {
     "end_time": "2024-04-28T16:20:50.793050Z",
     "start_time": "2024-04-28T16:20:50.420921Z"
    }
   },
   "outputs": [
    {
     "data": {
      "text/plain": [
       "<Axes: >"
      ]
     },
     "execution_count": 25,
     "metadata": {},
     "output_type": "execute_result"
    },
    {
     "data": {
      "text/plain": [
       "<Figure size 640x480 with 1 Axes>"
      ],
      "image/png": "[encoded data removed]"
     },
     "metadata": {},
     "output_type": "display_data"
    }
   ],
   "execution_count": 25
  },
  {
   "cell_type": "code",
   "source": "df.adm_adr_word_count.mean()",
   "metadata": {
    "collapsed": false,
    "ExecuteTime": {
     "end_time": "2024-04-28T16:21:19.990066Z",
     "start_time": "2024-04-28T16:21:19.982730Z"
    }
   },
   "outputs": [
    {
     "data": {
      "text/plain": [
       "7.787410864350636"
      ]
     },
     "execution_count": 27,
     "metadata": {},
     "output_type": "execute_result"
    }
   ],
   "execution_count": 27
  },
  {
   "cell_type": "markdown",
   "source": [
    "### Конструируем новый датафрейм"
   ],
   "metadata": {
    "collapsed": false
   }
  },
  {
   "cell_type": "code",
   "execution_count": null,
   "outputs": [],
   "source": [],
   "metadata": {
    "collapsed": false
   }
  },
  {
   "metadata": {},
   "cell_type": "code",
   "outputs": [
    {
     "name": "stdout",
     "output_type": "stream",
     "text": [
      "<class 'pandas.core.frame.DataFrame'>\n",
      "RangeIndex: 612830 entries, 0 to 612829\n",
      "Data columns (total 2 columns):\n",
      " #   Column     Non-Null Count   Dtype \n",
      "---  ------     --------------   ----- \n",
      " 0   name_full  612830 non-null  object\n",
      " 1   target     612830 non-null  int64 \n",
      "dtypes: int64(1), object(1)\n",
      "memory usage: 9.4+ MB\n"
     ]
    }
   ],
   "execution_count": 32,
   "source": [
    "df_mun = df[['mun_div']]\n",
    "df_mun = df_mun.rename(columns={\"mun_div\": \"name_full\"})\n",
    "df_mun = df_mun.assign(target=1)\n",
    "df_mun.info()"
   ]
  },
  {
   "metadata": {},
   "cell_type": "code",
   "outputs": [],
   "execution_count": 33,
   "source": "df_div = pd.concat([df_adm, df_mun])"
  },
  {
   "metadata": {},
   "cell_type": "code",
   "outputs": [
    {
     "name": "stdout",
     "output_type": "stream",
     "text": [
      "<class 'pandas.core.frame.DataFrame'>\n",
      "Index: 1225660 entries, 0 to 612829\n",
      "Data columns (total 2 columns):\n",
      " #   Column     Non-Null Count    Dtype \n",
      "---  ------     --------------    ----- \n",
      " 0   name_full  1225660 non-null  object\n",
      " 1   target     1225660 non-null  int64 \n",
      "dtypes: int64(1), object(1)\n",
      "memory usage: 28.1+ MB\n"
     ]
    }
   ],
   "execution_count": 34,
   "source": "df_div.info()"
  },
  {
   "cell_type": "markdown",
   "source": [
    "Итак, получили датасет с 1,22 млн примеров адресов мест. Половина имеет признак 0 - адрес в административном делении.\n",
    "Половина имеет признак 1 - адрес в муниципальном делении. Сохраним его для дальнейшей работы"
   ],
   "metadata": {
    "collapsed": false
   }
  },
  {
   "cell_type": "code",
   "execution_count": 44,
   "outputs": [],
   "source": [
    "df_div.to_csv('address_division.csv')"
   ],
   "metadata": {
    "collapsed": false
   }
  },
  {
   "cell_type": "markdown",
   "source": [
    "### Дополнительно. Справочники сокращений типов адресообразующих элементов\n",
    "\n",
    "Дополнительно составим справочник сокращений. Он будет использоваться при аугментации данных - генерации возможных вариантов написания адреса."
   ],
   "metadata": {
    "collapsed": false
   }
  },
  {
   "cell_type": "code",
   "execution_count": 36,
   "outputs": [],
   "source": [
    "mdf = df[['mun_area_type_name', 'mun_area_type_name_short']].copy()\n",
    "mdf.drop_duplicates(inplace=True)\n",
    "mdf = mdf.rename(columns={'mun_area_type_name': 'type_name', 'mun_area_type_name_short': 'type_name_short'})"
   ],
   "metadata": {
    "collapsed": false
   }
  },
  {
   "cell_type": "code",
   "execution_count": 37,
   "outputs": [],
   "source": [
    "sdf = df[['settlement_type_name', 'settlement_type_name_short']].copy()\n",
    "sdf.drop_duplicates(inplace=True)\n",
    "sdf = sdf.rename(columns={'street_type_name':'type_name', 'street_type_name_short': 'type_name_short'})"
   ],
   "metadata": {
    "collapsed": false
   }
  },
  {
   "cell_type": "code",
   "execution_count": 38,
   "outputs": [],
   "source": [
    "cdf = df[['city_type_name', 'city_type_name_short']].copy()\n",
    "cdf.drop_duplicates(inplace=True)\n",
    "cdf = cdf.rename(columns={'city_type_name':'type_name', 'city_type_name_short': 'type_name_short'})"
   ],
   "metadata": {
    "collapsed": false
   }
  },
  {
   "cell_type": "code",
   "execution_count": 39,
   "outputs": [],
   "source": [
    "tdf = df[['territory_type_name', 'territory_type_name_short']].copy()\n",
    "tdf.drop_duplicates(inplace=True)\n",
    "tdf = tdf.rename(columns={'territory_type_name': 'type_name', 'territory_type_name_short': 'type_name_short'})"
   ],
   "metadata": {
    "collapsed": false
   }
  },
  {
   "cell_type": "code",
   "execution_count": 40,
   "outputs": [],
   "source": [
    "sdf = df[['street_type_name', 'street_type_name_short']].copy()\n",
    "sdf.drop_duplicates(inplace=True)\n",
    "sdf = sdf.rename(columns={'street_type_name': 'type_name', 'street_type_name_short': 'type_name_short'})"
   ],
   "metadata": {
    "collapsed": false
   }
  },
  {
   "cell_type": "code",
   "execution_count": 41,
   "outputs": [],
   "source": [
    "adf = df[['area_type_name', 'area_type_name_short']].copy()\n",
    "adf.drop_duplicates(inplace=True)\n",
    "adf = adf.rename(columns={'area_type_name': 'type_name', 'area_type_name_short': 'type_name_short'})"
   ],
   "metadata": {
    "collapsed": false
   }
  },
  {
   "cell_type": "code",
   "execution_count": 42,
   "outputs": [],
   "source": [
    "rdf = df[['region_type_name', 'region_type_name_short']].copy()\n",
    "rdf.drop_duplicates(inplace=True)\n",
    "rdf = rdf.rename(columns={'region_type_name':'type_name', 'region_type_name_short': 'type_name_short'})"
   ],
   "metadata": {
    "collapsed": false
   }
  },
  {
   "cell_type": "markdown",
   "source": [
    "Объединяем все справочники в 1 чистим дубликаты и сохраняем в файл"
   ],
   "metadata": {
    "collapsed": false
   }
  },
  {
   "cell_type": "code",
   "execution_count": 43,
   "outputs": [],
   "source": [
    "types_df = pd.concat([adf, cdf, sdf, mdf, rdf, tdf, sdf])\n",
    "types_df.drop_duplicates(inplace=True)\n",
    "types_df.to_csv(\"types.csv\")"
   ],
   "metadata": {
    "collapsed": false
   }
  }
 ],
 "metadata": {
  "kernelspec": {
   "display_name": "Python 3",
   "language": "python",
   "name": "python3"
  },
  "language_info": {
   "codemirror_mode": {
    "name": "ipython",
    "version": 2
   },
   "file_extension": ".py",
   "mimetype": "text/x-python",
   "name": "python",
   "nbconvert_exporter": "python",
   "pygments_lexer": "ipython2",
   "version": "2.7.6"
  }
 },
 "nbformat": 4,
 "nbformat_minor": 0
}
